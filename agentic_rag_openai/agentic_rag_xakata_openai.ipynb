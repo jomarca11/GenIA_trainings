{
 "cells": [
  {
   "cell_type": "markdown",
   "id": "99f10bce-0260-47e1-b57b-616b86754ed1",
   "metadata": {},
   "source": [
    "Set Up for the Agentic Rag"
   ]
  },
  {
   "cell_type": "code",
   "execution_count": 1,
   "id": "5854c410-d7cb-4e31-ac16-99d7826b918b",
   "metadata": {},
   "outputs": [
    {
     "name": "stdout",
     "output_type": "stream",
     "text": [
      "Note: you may need to restart the kernel to use updated packages.\n"
     ]
    }
   ],
   "source": [
    "pip install -U --quiet langgraph \"langchain[openai]\" langchain-community langchain-text-splitters"
   ]
  },
  {
   "cell_type": "code",
   "execution_count": 2,
   "id": "d75c8330-3f9c-4d8a-8da8-dc957e3056f6",
   "metadata": {},
   "outputs": [
    {
     "name": "stdout",
     "output_type": "stream",
     "text": [
      "✅ Claves cargadas correctamente\n"
     ]
    }
   ],
   "source": [
    "# Importamos librerías necesarias\n",
    "import os\n",
    "from dotenv import load_dotenv\n",
    "\n",
    "# Cargamos variables de entorno\n",
    "dotenv_path = load_dotenv()\n",
    "\n",
    "# Leemos las claves\n",
    "token_openai = os.getenv(\"OPENAI_API_KEY\")\n",
    "token_tavily = os.getenv(\"TAVILY_API_KEY\")\n",
    "\n",
    "# Verificar que las claves existen\n",
    "if not token_openai:\n",
    "    raise ValueError(\"❌ Falta la clave OPENAI_API_KEY en el archivo .env\")\n",
    "if not token_tavily:\n",
    "    raise ValueError(\"❌ Falta la clave TAVILY_API_KEY en el archivo .env\")\n",
    "\n",
    "print(\"✅ Claves cargadas correctamente\")"
   ]
  },
  {
   "cell_type": "markdown",
   "id": "ad1ab0d4-93bb-48c8-8828-493817400556",
   "metadata": {},
   "source": [
    "## 1 Preprocess the Documents"
   ]
  },
  {
   "cell_type": "markdown",
   "id": "633f19e8-5712-4071-9018-0c7d4e1b2eab",
   "metadata": {},
   "source": [
    "### 1. Scrap Xakata Web Site"
   ]
  },
  {
   "cell_type": "code",
   "execution_count": 3,
   "id": "684987fc-04e8-42f6-9530-dcb2fda556a7",
   "metadata": {},
   "outputs": [
    {
     "name": "stdout",
     "output_type": "stream",
     "text": [
      "Se han encontrado 333 sitemaps.\n",
      "Ejemplo: ['https://www.xataka.com/categoria/default/sitemap.xml', 'https://www.xataka.com/categoria/otros/sitemap.xml', 'https://www.xataka.com/categoria/moviles/sitemap.xml']\n",
      "\n",
      "Se han filtrado 7 sitemaps relevantes.\n",
      "Ejemplo: ['https://www.xataka.com/categoria/moviles/sitemap.xml', 'https://www.xataka.com/categoria/ordenadores/sitemap.xml', 'https://www.xataka.com/categoria/videojuegos/sitemap.xml']\n",
      "Procesando https://www.xataka.com/categoria/moviles/sitemap.xml\n",
      "Procesando https://www.xataka.com/categoria/ordenadores/sitemap.xml\n",
      "Procesando https://www.xataka.com/categoria/videojuegos/sitemap.xml\n",
      "Procesando https://www.xataka.com/categoria/perifericos/sitemap.xml\n",
      "Procesando https://www.xataka.com/categoria/televisores/sitemap.xml\n",
      "Procesando https://www.xataka.com/categoria/componentes/sitemap.xml\n",
      "Procesando https://www.xataka.com/categoria/inteligencia-artificial/sitemap.xml\n",
      "\n",
      "Total artículos únicos extraídos: 60\n",
      "{'url': 'https://www.xataka.com/moviles/comprar-tecnologia-eeuu-siempre-nos-ha-salido-caro-europa-fairphone-6-dulce-venganza', 'category': 'moviles'}\n",
      "{'url': 'https://i.blogs.es/ff8d02/fairphone-6-0/650_1200.jpeg', 'category': 'ff8d02'}\n",
      "{'url': 'https://www.xataka.com/seguridad/android-cambia-su-adn-google-excluira-apps-desarrolladores-no-identificados-incluso-no-estan-play-store', 'category': 'seguridad'}\n",
      "\n",
      "Total artículos correctamente scrapeados: 30\n",
      "- Comprar tecnología de EEUU siempre nos ha salido más caro en Europa. El Fairphone 6 es una dulce venganza (moviles)\n",
      "- Android cambia su ADN. Google excluirá las apps de desarrolladores no identificados... incluso si no están en la Play Store (seguridad)\n",
      "- Mientras nos dan móviles con mejores cámaras, más potencia y un aluvión de IA, yo ya sólo quiero que no mueran en verano (moviles)\n",
      "- Google Pixel 10 Pro Fold: ha afinado justo donde tocaba para intentar convencer a los escépticos del formato (moviles)\n",
      "- Google Pixel 10 Pro y Google Pixel 10 Pro XL: mejoras generacionales con una IA al control del sistema y las cámaras (moviles)\n",
      "- EEUU está desmantelando la Ley CHIPS. Su golpe lo va a encajar la industria de los semiconductores en todo el planeta (empresas-y-economia)\n",
      "- Parecía imposible tener un portátil en el que poder actualizar la tarjeta gráfica. Hasta que llegó Framework (ordenadores)\n",
      "- Los físicos creían que el neglectón era una partícula inútil. Ahora sospechan que es la llave de los ordenadores cuánticos universales (investigacion)\n",
      "- Si en tu tienda de informática de confianza tienen tarjetas gráficas de hace más de 10 años, tiene todo el sentido del mundo (componentes)\n",
      "- Intel cree que el apoyo del Gobierno de EEUU va a salirle muy caro: se está preparando para su posible fracaso en los demás países (empresas-y-economia)\n"
     ]
    }
   ],
   "source": [
    "import requests\n",
    "from bs4 import BeautifulSoup\n",
    "from urllib.parse import urljoin, urlparse\n",
    "from langchain_core.documents import Document\n",
    "from time import sleep\n",
    "\n",
    "from typing import List, Set\n",
    "\n",
    "import requests\n",
    "from bs4 import BeautifulSoup\n",
    "\n",
    "# --------------------------------------\n",
    "# 1. Leer el sitemap_index.xml\n",
    "# --------------------------------------\n",
    "\n",
    "def get_category_sitemaps(index_url=\"https://www.xataka.com/sitemap_index.xml\"):\n",
    "    headers = {\"User-Agent\": \"XaviBot/1.0\"}\n",
    "    response = requests.get(index_url, headers=headers)\n",
    "    soup = BeautifulSoup(response.content, \"xml\")\n",
    "\n",
    "    sitemaps = [loc.get_text() for loc in soup.find_all(\"loc\")]\n",
    "    return sitemaps\n",
    "\n",
    "category_sitemaps = get_category_sitemaps()\n",
    "print(f\"Se han encontrado {len(category_sitemaps)} sitemaps.\")\n",
    "print(\"Ejemplo:\", category_sitemaps[:3])\n",
    "\n",
    "# --------------------------------------\n",
    "# 2. Filtrar solo las categorías importantes\n",
    "# --------------------------------------\n",
    "\n",
    "important_categories = [\n",
    "    \"moviles\", \"portatiles\", \"ordenadores\", \"componentes\",\n",
    "    \"perifericos\", \"televisores\", \"software\", \"internet\",\n",
    "    \"inteligencia-artificial\", \"videojuegos\", \"gadgets\"\n",
    "]\n",
    "\n",
    "filtered_sitemaps = [\n",
    "    url for url in category_sitemaps\n",
    "    if any(f\"/{cat}/\" in url for cat in important_categories)\n",
    "]\n",
    "\n",
    "print(f\"\\nSe han filtrado {len(filtered_sitemaps)} sitemaps relevantes.\")\n",
    "print(\"Ejemplo:\", filtered_sitemaps[:3])\n",
    "\n",
    "# --------------------------------------\n",
    "# 3. Extraer URLs de artículos desde los sitemaps\n",
    "# --------------------------------------\n",
    "\n",
    "def get_articles_from_category_sitemap(sitemap_url, max_articles=10):\n",
    "    headers = {\"User-Agent\": \"XaviBot/1.0\"}\n",
    "    response = requests.get(sitemap_url, headers=headers)\n",
    "    soup = BeautifulSoup(response.content, \"xml\")\n",
    "\n",
    "    urls = [loc.get_text() for loc in soup.find_all(\"loc\")]\n",
    "    return urls[:max_articles]\n",
    "\n",
    "all_articles = []\n",
    "seen_urls = set()\n",
    "\n",
    "for sitemap_url in filtered_sitemaps:\n",
    "    print(f\"Procesando {sitemap_url}\")\n",
    "    articles = get_articles_from_category_sitemap(sitemap_url, max_articles=10)\n",
    "\n",
    "    for url in articles:\n",
    "        if url not in seen_urls:\n",
    "            category = url.split(\"/\")[3] if len(url.split(\"/\")) > 3 else \"desconocida\"\n",
    "            all_articles.append({\n",
    "                \"url\": url,\n",
    "                \"category\": category\n",
    "            })\n",
    "            seen_urls.add(url)\n",
    "    sleep(0.5)  # ser amable con el servidor\n",
    "\n",
    "print(f\"\\nTotal artículos únicos extraídos: {len(all_articles)}\")\n",
    "for a in all_articles[:3]:\n",
    "    print(a)\n",
    "\n",
    "# --------------------------------------\n",
    "# 4. Scraping del contenido: title + text\n",
    "# --------------------------------------\n",
    "\n",
    "def scrape_article(url, category):\n",
    "    headers = {\"User-Agent\": \"XaviBot/1.0\"}\n",
    "    try:\n",
    "        \n",
    "        response = requests.get(url, headers=headers, timeout=10)\n",
    "        response.encoding = 'utf-8' # <-- aquí el fix\n",
    "\n",
    "        if response.status_code != 200:\n",
    "            return None\n",
    "\n",
    "        soup = BeautifulSoup(response.text, \"html.parser\")\n",
    "\n",
    "        title_tag = soup.find(\"h1\")\n",
    "        paragraphs = soup.find_all(\"p\")\n",
    "\n",
    "        if not title_tag or not paragraphs:\n",
    "            return None\n",
    "\n",
    "        title = title_tag.get_text(strip=True)\n",
    "        content = \"\\n\\n\".join([p.get_text(strip=True) for p in paragraphs])\n",
    "\n",
    "        return {\n",
    "            \"url\": url,\n",
    "            \"title\": title,\n",
    "            \"content\": content,\n",
    "            \"category\": category\n",
    "        }\n",
    "    except Exception as e:\n",
    "        print(f\"❌ Error en {url}: {e}\")\n",
    "        return None\n",
    "\n",
    "# Ejecutar scraping de todos los artículos\n",
    "scraped_articles = []\n",
    "\n",
    "for article in all_articles:\n",
    "    result = scrape_article(article[\"url\"], article[\"category\"])\n",
    "    if result:\n",
    "        scraped_articles.append(result)\n",
    "\n",
    "print(f\"\\nTotal artículos correctamente scrapeados: {len(scraped_articles)}\")\n",
    "for a in scraped_articles[:10]:\n",
    "    print(f\"- {a['title']} ({a['category']})\")\n",
    "\n",
    "\n"
   ]
  },
  {
   "cell_type": "markdown",
   "id": "22b8083d-e798-4c6f-b8f8-875a54c99eeb",
   "metadata": {},
   "source": [
    "### 2. Convertimos los documentos extraidos al formato Document que espera el Splitter"
   ]
  },
  {
   "cell_type": "code",
   "execution_count": 4,
   "id": "48a56dba-0673-4e84-aa58-eba0d33e2fa8",
   "metadata": {},
   "outputs": [],
   "source": [
    "from langchain_core.documents import Document\n",
    "\n",
    "documents = [\n",
    "    Document(\n",
    "        page_content=article[\"content\"],\n",
    "        metadata={\n",
    "            \"title\": article[\"title\"],\n",
    "            \"url\": article[\"url\"],\n",
    "            \"category\": article[\"category\"]\n",
    "        }\n",
    "    )\n",
    "    for article in scraped_articles\n",
    "]"
   ]
  },
  {
   "cell_type": "code",
   "execution_count": 5,
   "id": "66f0499e-a10e-4e1a-97d2-1ac37f96987b",
   "metadata": {},
   "outputs": [
    {
     "data": {
      "text/plain": [
       "Document(metadata={'title': 'Comprar tecnología de EEUU siempre nos ha salido más caro en Europa. El Fairphone 6 es una dulce venganza', 'url': 'https://www.xataka.com/moviles/comprar-tecnologia-eeuu-siempre-nos-ha-salido-caro-europa-fairphone-6-dulce-venganza', 'category': 'moviles'}, page_content='Javier Pastor\\n\\nJavier Pastor\\n\\nElFairphone 6es el último de los miembros de una familia muy especial. Una que siempre se ha caracterizado por su modularidad y reparabilidad, pero que ahora demás nos deja un detalle singular. Este móvil diseñado en Europa es una dulce venganza para los usuarios del viejo continente. Normalmente estamos acostumbrados a pagar más por nuestros dispositivos de lo que pagan los usuarios en EEUU, pero en este caso pasa justamente lo contrario.\\n\\nCuánto cuesta un iPhone aquí y allí. Pongamos un ejemplo sencillo de la situación de los precios de dispositivos electrónicos en EEUU y en Europa. Un iPhone 16 Pro de 128 GB cuesta999 dólaresen EEUU. A ese precio hay que sumarle los impuestos estatales, que varían entre cada estado y que pueden llegar a ser del 10%. Así pues, el precio puede ascender a unos 1.100 dólares, impuestos incluidos. Al cambio actual eso equivaldría a unos 944 euros. El precio de ese mismo dispositivo en nuestro país, impuestos incluidos, es en estos momentos de1.219 euros. Es un 29,13% más caro.\\n\\nUn móvil diferente. Y ahora hablemos del Fairphone 6. Estamos ante un smartphone que es muy distinto a sus competidores. No tanto por sus prestaciones —siempre más modestas que sus competidores en el mismo rango de precios— sino por un enfoque que apuesta al máximo por la modularidad y la reparabilidad. En Europa el precio del Fairphone 6 con Android 15 (8/256 GB) estádisponible por 599 euros, impuestos incluidos.\\n\\nViva el derecho a reparar. Los Fairphone 6 no van a ganar ninguna carrera por la potencia o por las mejores cámaras, pero sí la delderecho a reparar. Basta quitar unos tornillos convencionales —nada de cabezales extraños o propietarios— para acceder al interior y poder extraer hasta 12 partes del terminal, desde la pantalla a la batería pasando por los altavoces o la cámara.\\n\\nEl Fairphone 6 con e/OS. Y aquí llega lo interesante, porque además de la versión con Android el Fairphone 6 también lo vende la empresa Murena. En este caso lo hacepreinstalando e/OS, una versión de Android AOSP que nos \"libera\" de los servicios y aplicaciones de Google aunque podemos instarlalos posteriormente gracias alsoporte MicroG. En Europa Murena vende su Fairphone 6 con e/OS por 649 euros, y ese es precisamente el modelo que está disponible en EEUU.\\n\\nEste móvil sale caro en EEUU. Murena también ofrece el Fairphone 6 con e/OS en Estados Unidos, pero en ese caso el precio de es899 dólares. Si aplicamos la misma tasa estatal, que puede llegar al 10%, ese precio se convierte en unos 989 dólares, que al cambio suponen 849 euros. Es decir: en EEUU este móvil cuesta 200 dólares más, un 30,82% más de lo que nos cuesta en Europa.\\n\\nAranceles. Hay varias razones para esa diferencia entre el precio del Fairphone 6 en Europa y en EEUU, perouna de ellas es la de los aranceles. Este móvil se fabrica en China pero apenas se ve afectado por aranceles al comercializarlo en Europa. En cambio la guerra comercial con EEUU hace que se apliquenlos aranceles a las exportaciones desde China, que suponen un sobrecoste importante para las empresas que quieren ofrecer estos productos en el país norteamericano.\\n\\nDulce venganza. Y a ese hecho se le suma otro: en Europa solemos pagar más por productos de electrónica de lo que lo hacen en EEUU aun teniendo en cuenta la paridad euro-dólar (que ahora nos favorece) o los distintos impuestos estatales de ese país. Pero es que además en Europa normalmente \"ganamos menos\" que en EEUU y por tanto \"nos cuesta más de nuestro dinero\" comprar esos productos. En 2023según el Banco Mundial, el GDP per capita en EEUU era de 86.000 dólares, mientras que por ejemplo en España era de 56.000 dólares.\\n\\nImagen | Fairphone\\n\\nEn Xataka |En \\xa0plena guerra contra el derecho a reparar, hay algunas marcas dándote \\xa0las instrucciones para que arregles sus cacharros tú mismo\\n\\nLos mejores comentarios:\\n\\nVer7 comentarios\\n\\nEn Xataka hablamos de...\\n\\nVer más temas\\n\\nWebedia\\n\\nTecnología\\n\\nVideojuegos\\n\\nEntretenimiento\\n\\nGastronomía\\n\\nMotor\\n\\nEstilo de vida\\n\\nEconomía\\n\\nEdiciones Internacionales\\n\\nPartners\\n\\nDestacamos\\n\\nVer más temas\\n\\nSuscribir\\n\\nMás sitios que te gustarán\\n\\nReciente\\n\\nVer más artículos\\n\\nXatakaTV\\n\\nVer más vídeos')"
      ]
     },
     "execution_count": 5,
     "metadata": {},
     "output_type": "execute_result"
    }
   ],
   "source": [
    "documents[0]"
   ]
  },
  {
   "cell_type": "markdown",
   "id": "8dc6be1d-be30-4b05-8a25-6fc04ebd621b",
   "metadata": {},
   "source": [
    "#### 2.1 Chunking"
   ]
  },
  {
   "cell_type": "code",
   "execution_count": 6,
   "id": "e7ba5bbb-6881-432b-a7d3-40c1d729e46f",
   "metadata": {},
   "outputs": [],
   "source": [
    "from langchain_text_splitters import RecursiveCharacterTextSplitter \n",
    "from typing import List\n",
    "\n",
    "def split_documents(\n",
    "    docs: List[Document],\n",
    "    chunk_size: int = 500,\n",
    "    chunk_overlap: int = 100\n",
    ") -> List[Document]:\n",
    "    \"\"\"\n",
    "    Divide documentos largos en fragmentos más pequeños usando RecursiveCharacterTextSplitter.\n",
    "\n",
    "    Args:\n",
    "        docs: Lista de Documentos de LangChain.\n",
    "        chunk_size: Tamaño máximo de cada fragmento.\n",
    "        chunk_overlap: Número de caracteres que se solapan entre fragmentos.\n",
    "\n",
    "    Returns:\n",
    "        Lista de documentos divididos.\n",
    "    \"\"\"\n",
    "    text_splitter = RecursiveCharacterTextSplitter.from_tiktoken_encoder(\n",
    "        chunk_size=chunk_size,\n",
    "        chunk_overlap=chunk_overlap\n",
    "    )\n",
    "    chunked = text_splitter.split_documents(docs)\n",
    "    print(f\"📄 Documentos originales: {len(docs)} → 🧩 Chunks generados: {len(chunked)}\")\n",
    "    return chunked\n"
   ]
  },
  {
   "cell_type": "code",
   "execution_count": 7,
   "id": "e9f67605-7b8f-4a1c-93a2-f65a5b72ce60",
   "metadata": {
    "scrolled": true
   },
   "outputs": [
    {
     "name": "stdout",
     "output_type": "stream",
     "text": [
      "📄 Documentos originales: 30 → 🧩 Chunks generados: 203\n",
      "Se han generado 203 fragmentos.\n"
     ]
    }
   ],
   "source": [
    "doc_splits = split_documents(documents, chunk_size=500, chunk_overlap=200)\n",
    "\n",
    "print(f\"Se han generado {len(doc_splits)} fragmentos.\")"
   ]
  },
  {
   "cell_type": "code",
   "execution_count": 8,
   "id": "d697bad6-a56b-4e59-b978-82d44684c037",
   "metadata": {},
   "outputs": [
    {
     "data": {
      "text/plain": [
       "'Javier Pastor\\n\\nJavier Pastor\\n\\nElFairphone 6es el último de los miembros de una familia muy especial. Una que siempre se ha caracterizado por su modularidad y reparabilidad, pero que ahora demás nos deja un detalle singular. Este móvil diseñado en Europa es una dulce venganza para los usuarios del viejo continente. Normalmente estamos acostumbrados a pagar más por nuestros dispositivos de lo que pagan los usuarios en EEUU, pero en este caso pasa justamente lo contrario.\\n\\nCuánto cuesta un iPhone aquí y allí. Pongamos un ejemplo sencillo de la situación de los precios de dispositivos electrónicos en EEUU y en Europa. Un iPhone 16 Pro de 128 GB cuesta999 dólaresen EEUU. A ese precio hay que sumarle los impuestos estatales, que varían entre cada estado y que pueden llegar a ser del 10%. Así pues, el precio puede ascender a unos 1.100 dólares, impuestos incluidos. Al cambio actual eso equivaldría a unos 944 euros. El precio de ese mismo dispositivo en nuestro país, impuestos incluidos, es en estos momentos de1.219 euros. Es un 29,13% más caro.'"
      ]
     },
     "execution_count": 8,
     "metadata": {},
     "output_type": "execute_result"
    }
   ],
   "source": [
    "doc_splits[0].page_content.strip()"
   ]
  },
  {
   "cell_type": "code",
   "execution_count": 9,
   "id": "f5d3e650-6bb4-4e3d-99d7-da547e2f8178",
   "metadata": {},
   "outputs": [
    {
     "data": {
      "text/plain": [
       "'Un móvil diferente. Y ahora hablemos del Fairphone 6. Estamos ante un smartphone que es muy distinto a sus competidores. No tanto por sus prestaciones —siempre más modestas que sus competidores en el mismo rango de precios— sino por un enfoque que apuesta al máximo por la modularidad y la reparabilidad. En Europa el precio del Fairphone 6 con Android 15 (8/256 GB) estádisponible por 599 euros, impuestos incluidos.\\n\\nViva el derecho a reparar. Los Fairphone 6 no van a ganar ninguna carrera por la potencia o por las mejores cámaras, pero sí la delderecho a reparar. Basta quitar unos tornillos convencionales —nada de cabezales extraños o propietarios— para acceder al interior y poder extraer hasta 12 partes del terminal, desde la pantalla a la batería pasando por los altavoces o la cámara.\\n\\nEl Fairphone 6 con e/OS. Y aquí llega lo interesante, porque además de la versión con Android el Fairphone 6 también lo vende la empresa Murena. En este caso lo hacepreinstalando e/OS, una versión de Android AOSP que nos \"libera\" de los servicios y aplicaciones de Google aunque podemos instarlalos posteriormente gracias alsoporte MicroG. En Europa Murena vende su Fairphone 6 con e/OS por 649 euros, y ese es precisamente el modelo que está disponible en EEUU.'"
      ]
     },
     "execution_count": 9,
     "metadata": {},
     "output_type": "execute_result"
    }
   ],
   "source": [
    "doc_splits[1].page_content.strip()"
   ]
  },
  {
   "cell_type": "code",
   "execution_count": 10,
   "id": "32c2a52b-1f62-49ec-8dcb-c8bae0cee362",
   "metadata": {},
   "outputs": [
    {
     "data": {
      "text/plain": [
       "'El Fairphone 6 con e/OS. Y aquí llega lo interesante, porque además de la versión con Android el Fairphone 6 también lo vende la empresa Murena. En este caso lo hacepreinstalando e/OS, una versión de Android AOSP que nos \"libera\" de los servicios y aplicaciones de Google aunque podemos instarlalos posteriormente gracias alsoporte MicroG. En Europa Murena vende su Fairphone 6 con e/OS por 649 euros, y ese es precisamente el modelo que está disponible en EEUU.\\n\\nEste móvil sale caro en EEUU. Murena también ofrece el Fairphone 6 con e/OS en Estados Unidos, pero en ese caso el precio de es899 dólares. Si aplicamos la misma tasa estatal, que puede llegar al 10%, ese precio se convierte en unos 989 dólares, que al cambio suponen 849 euros. Es decir: en EEUU este móvil cuesta 200 dólares más, un 30,82% más de lo que nos cuesta en Europa.\\n\\nAranceles. Hay varias razones para esa diferencia entre el precio del Fairphone 6 en Europa y en EEUU, perouna de ellas es la de los aranceles. Este móvil se fabrica en China pero apenas se ve afectado por aranceles al comercializarlo en Europa. En cambio la guerra comercial con EEUU hace que se apliquenlos aranceles a las exportaciones desde China, que suponen un sobrecoste importante para las empresas que quieren ofrecer estos productos en el país norteamericano.'"
      ]
     },
     "execution_count": 10,
     "metadata": {},
     "output_type": "execute_result"
    }
   ],
   "source": [
    "doc_splits[2].page_content.strip()"
   ]
  },
  {
   "cell_type": "markdown",
   "id": "f65efd1c-26af-4029-8b75-f5291bf0d8f1",
   "metadata": {},
   "source": [
    "## 2. Creamos el retriever tool en memoria."
   ]
  },
  {
   "cell_type": "markdown",
   "id": "ac29847b-8e6a-4137-9fd3-8bcf6c2e4793",
   "metadata": {},
   "source": [
    "### 1. Use an in-memory vector store and OpenAI embeddings"
   ]
  },
  {
   "cell_type": "code",
   "execution_count": 11,
   "id": "bfb2fe23-664e-470c-a68e-b4e86d7747cf",
   "metadata": {},
   "outputs": [],
   "source": [
    "from langchain_core.vectorstores import InMemoryVectorStore\n",
    "from langchain_openai import OpenAIEmbeddings\n",
    "#Lo dejo para demostrar que los embeddings tienen una cierta cantidad de tokens con lo cual es mejor partir\n",
    "# vectorstore = InMemoryVectorStore.from_documents(\n",
    "#     documents=doc_splits, embedding=OpenAIEmbeddings()\n",
    "# )\n",
    "# retriever = vectorstore.as_retriever()\n",
    "vectorstore = InMemoryVectorStore(embedding=OpenAIEmbeddings())"
   ]
  },
  {
   "cell_type": "code",
   "execution_count": 12,
   "id": "6e8c1c55-d79c-4997-b5d9-d23d89db941c",
   "metadata": {},
   "outputs": [
    {
     "name": "stdout",
     "output_type": "stream",
     "text": [
      "Procesando batch 1 con 203 chunks...\n"
     ]
    }
   ],
   "source": [
    "# 2. Procesa por batches (lotes). Tenemos que procesar por lotes por que no admite mas de 300000  tokens\n",
    "batch_size = 500\n",
    "\n",
    "for i in range(0, len(doc_splits), batch_size):\n",
    "    batch = doc_splits[i:i + batch_size]\n",
    "    # Procesa cada batch aquí. Ejemplo: añade al VectorStore\n",
    "    vectorstore.add_documents(batch)\n",
    "    print(f\"Procesando batch {i//batch_size + 1} con {len(batch)} chunks...\")\n",
    "\n",
    "    # Aquí va tu código de procesamiento, por ejemplo:\n",
    "    # vectorstore.add_documents(batch)"
   ]
  },
  {
   "cell_type": "code",
   "execution_count": 13,
   "id": "29f7b265-0b9d-45b6-b3fe-d7f0cd08041f",
   "metadata": {},
   "outputs": [],
   "source": [
    "retriever = vectorstore.as_retriever()"
   ]
  },
  {
   "cell_type": "markdown",
   "id": "0928ee88-95c5-4821-b983-dd73cfa317ef",
   "metadata": {},
   "source": [
    "### 2. Creamos una retriever **tool** usando LangChain's prebuilt create_retriever_tool:"
   ]
  },
  {
   "cell_type": "code",
   "execution_count": 14,
   "id": "842a33e2-4c5f-410c-8e71-2b13cf9cb588",
   "metadata": {},
   "outputs": [],
   "source": [
    "from langchain.tools.retriever import create_retriever_tool\n",
    "\n",
    "retriever_tool = create_retriever_tool(\n",
    "    retriever,\n",
    "    \"retrieve_blog_posts\",#nombre\n",
    "    \"Busca y devuelve info acerca de articulos de Xakata.\",#Descripcion\n",
    ")"
   ]
  },
  {
   "cell_type": "code",
   "execution_count": 15,
   "id": "2234ba21-582c-43b1-88a3-4e8113a226d4",
   "metadata": {},
   "outputs": [
    {
     "data": {
      "text/plain": [
       "'Antonio Sabán\\n\\nAntonio Sabán\\n\\nSamsung lleva19 años siendo el fabricante más televisores vendeen todo el mundo. En 2006 arrebató el liderato a LG, que años antes había hecho lo propio con Sony. Desde entonces, Corea del Sur ha mandado en este mercado sucediendo a lo que fue Japón en su momento. La situación está cerca de cambiar.\\n\\nQué está pasando. El mercado de los televisores se está moviendo como nunca. En 2022,TCL superó a LGcomo segundo mayor fabricante del mundo. Hisense logró empatar en cuota de mercado yal año siguiente le superó. Pero LG no es la única surcoreana que está sintiendo el poder de los fabricantes chinos. Según datos de Counterpoint, Samsung contaba hace tres años con un 17% de cuota de mercado en televisores. Cayó al 16% en 2023, yse mantuvo en esos números en 2024. Pero.\\n\\nTCL y Hisense están dando donde más duele. Samsung ha logrado mantenerse primera, pero los datos hablan muy claro sobre el camino que está siguiendo el mercado. Samsung estácayendo un 3,3% en unidades distribuidasen la primera mitad de año, mientras TCL y Hisense crecen un 6,3 y un 2,6%.\\n\\nAmbas estaban sobre el 10% hace tres años, y a finales de 2024 ya estaban en un 14% y 12% de cuota. Y el problema para Samsung, pese a mantenerse, es que estos fabricantes le están quitando mucha cuota en televisores premium, que son de lejos los más rentables.\\n\\nTCL y Hisense están dando donde más duele. Samsung ha logrado mantenerse primera, pero los datos hablan muy claro sobre el camino que está siguiendo el mercado. Samsung estácayendo un 3,3% en unidades distribuidasen la primera mitad de año, mientras TCL y Hisense crecen un 6,3 y un 2,6%.\\n\\nAmbas estaban sobre el 10% hace tres años, y a finales de 2024 ya estaban en un 14% y 12% de cuota. Y el problema para Samsung, pese a mantenerse, es que estos fabricantes le están quitando mucha cuota en televisores premium, que son de lejos los más rentables.\\n\\nDe un 41% que tenía en este área a finales de 2023, Samsung cayó al 29% a finales de 2023, mientrasTCL y Hisense engordaban a marchas forzadas, llegando la primera incluso a superar a LG. Crecen a doble dígito en unidades distribuidas, pero algo menos en ingresos, lo que indica que están inundando el mercado con televisores más baratos que la competencia.\\n\\nSamsung lideró en miniLED, en pasado. La clave,según el analista Bob O\\'Briende Counterpoint, tiene que ver con la elección: \"los consumidores tienen que elegir entre un televisor OLED más pequeño o un televisor MiniLED más grande\". \"Un número cada vez mayor de consumidores elige MiniLED\", sentencia.\\n\\nSamsung lideró en miniLED, en pasado. La clave,según el analista Bob O\\'Briende Counterpoint, tiene que ver con la elección: \"los consumidores tienen que elegir entre un televisor OLED más pequeño o un televisor MiniLED más grande\". \"Un número cada vez mayor de consumidores elige MiniLED\", sentencia.\\n\\nSegún Counterpoint, Samsung lideró en miniLED con sus Neo QLED de 2021 a 2024, hasta que ese año fue superada por TCL y más tarde por Hisense y Xiaomi. En 2025, Samsung es cuarta en unidades distribuidas y tercera en ingresos. No son buenas noticias, pero sí las hay en lo que respecta a la tecnología competidora.\\n\\nSamsung está comenzando a dominar el jugoso mercado OLED.La joya de la corona en calidad en el mercado de los televisores son los paneles OLED y QD-OLED. Hasta hace poco, LG era la dominadora absoluta del mercado, comercializando sus \\xa0mejores matrices WOLED a compañías rivales como Panasonic, Philips o Sony. Sin embargo, en 2022, Samsung irrumpió en el mercado con la innovación que traían las nanopartículas al mercado de los paneles autoemisivos.\\n\\nCon los paneles QD-OLED Samsung trajo al mercado algo incluso más importante que su buen extra de brillo, resistencia y volumen de color. Trajo competencia. Eso hizo que Sony le eligiera frente a LG como fabricante del panel de sus mejores televisores, pero también ha dado un vuelco al mercado de televisores:Samsung ya vende más teles OLED que LG en Estados Unidos, y ya vendemás teles OLED que Neo QLED, que es como llaman a sus miniLED.\\n\\nEl desafío es mayúsculo, pero Samsung ha sido la primera en demostrar que se puede desbancar al líder, como hizo en 2006 con las ventas de televisores en general, y en 2025 con la venta de televisores OLED en algunas regiones, tras haber estado fuera del mercado autoemisivo muchos años.\\n\\nEl mercado de paneles más grande, en manos de TCL.Tras más de 30 años, Samsungdejó de fabricar paneles LCD en 2022y vendió todas sus patentes a CSoT, la filial de TCL de fabricación de paneles. El camino de LG ha sido el mismo: en 2024 anunciaron la venta de su división de paneles LCD a CSoT, yeste año la finalizaron. Aunque el mercado OLED se está disparando en países como China, las LCD estándarsiguen suponiendo más de un 88,45% del mercado.\\n\\nUn mercado que se han quedado TCL y BOE. Y que en su parte más rentable va a darles alegrías, pues las estimaciones apuntan a que este año, lasminiLED superarán en ventasa las OLED de Samsung y LG. Y pese a que LG y Samsung comercializan miniLED, lo hacen con paneles procedentes de fabricantes chinos por la venta de sus fábricas.'"
      ]
     },
     "execution_count": 15,
     "metadata": {},
     "output_type": "execute_result"
    }
   ],
   "source": [
    "# retriever_tool.invoke({\"query\": \"¿Como se actualiza un Google Pixel?\"})\n",
    "\n",
    "# retriever_tool.invoke({\"query\": \"Galaxy Z Flip7 \"})\n",
    "# \n",
    "retriever_tool.invoke({\"query\": \"¿Como Samsung a adelanto Google?\"})"
   ]
  },
  {
   "cell_type": "markdown",
   "id": "52e47a1b-f704-4722-8048-beff47b7b1c2",
   "metadata": {},
   "source": [
    "### 3. Test the tool"
   ]
  },
  {
   "cell_type": "markdown",
   "id": "bec19045-f941-4dc3-8b16-4bc80aadf320",
   "metadata": {},
   "source": [
    "## 3. Generamos la Query.\n",
    "Ahora comenzaremos a construir los componentes (nodos y aristas) para nuestro grafo agentic RAG. Ten en cuenta que los componentes operarán sobre el MessagesState — el estado del grafo que contiene una clave messages con una lista de mensajes de chat."
   ]
  },
  {
   "cell_type": "markdown",
   "id": "0821d4e7-e27a-402b-8487-cd106f2daff7",
   "metadata": {},
   "source": [
    "### 1.Construir un **nodo genera_query_o_responde**. Este llamará a un LLM para generar una respuesta basada en el estado actual del grafo (lista de mensajes). Dado el conjunto de mensajes de entrada, decidirá si recuperar información usando la herramienta de recuperación (retriever tool), o responder directamente al usuario. Ten en cuenta que le estamos dando acceso al modelo conversacional a la herramienta de recuperación que creamos antes, a través de .bind_tools:"
   ]
  },
  {
   "cell_type": "code",
   "execution_count": 16,
   "id": "eb39dacb-e40f-43cf-b6a5-0dd7d8e27815",
   "metadata": {},
   "outputs": [],
   "source": [
    "from langgraph.graph import MessagesState\n",
    "from langchain.chat_models import init_chat_model\n",
    "from langchain_openai import ChatOpenAI\n",
    "\n",
    "response_model=  ChatOpenAI(model=\"gpt-4o\", temperature=0)\n",
    "\n",
    "def genera_query_o_responde(state: MessagesState):\n",
    "    \"\"\"Llama al modelo para generar una respuesta basada en el estado actual.\n",
    "      Dada la pregunta, decidirá si recupera información usando la herramienta de recuperación o simplemente responde al usuario.\"\"\"\n",
    "    response = (\n",
    "        response_model\n",
    "        .bind_tools([retriever_tool]).invoke(state[\"messages\"])\n",
    "    )\n",
    "    return {\"messages\": [response]}"
   ]
  },
  {
   "cell_type": "markdown",
   "id": "6a2b709f-9520-4d12-81a6-cf718cfc1097",
   "metadata": {},
   "source": [
    "### 2. Lo probamos con una pregunta aleatoria que no tenga que ver con la info obtenida"
   ]
  },
  {
   "cell_type": "code",
   "execution_count": 17,
   "id": "4f46c2e3-9328-4358-9d6b-b07fdc76dc32",
   "metadata": {},
   "outputs": [
    {
     "name": "stdout",
     "output_type": "stream",
     "text": [
      "{'messages': [AIMessage(content='El precio de una cortina puede variar ampliamente dependiendo de varios factores, como el material, el tamaño, el diseño, la marca y el lugar donde se compre. Aquí hay algunos rangos generales de precios:\\n\\n1. **Cortinas de tela básica**: Pueden costar desde $10 hasta $50 por panel, dependiendo del tamaño y la calidad de la tela.\\n\\n2. **Cortinas de lujo o de diseñador**: Estas pueden costar desde $100 hasta varios cientos de dólares por panel.\\n\\n3. **Cortinas opacas o blackout**: Generalmente cuestan más que las cortinas estándar, con precios que oscilan entre $20 y $100 por panel.\\n\\n4. **Cortinas personalizadas**: Si decides hacer cortinas a medida, el costo puede ser significativamente mayor, dependiendo de las especificaciones.\\n\\n5. **Cortinas de materiales especiales**: Como las cortinas térmicas o acústicas, pueden tener un precio más alto debido a sus propiedades adicionales.\\n\\nPara obtener un precio exacto, te recomendaría visitar tiendas en línea o físicas que vendan cortinas y comparar precios según tus necesidades específicas.', additional_kwargs={'refusal': None}, response_metadata={'token_usage': {'completion_tokens': 237, 'prompt_tokens': 66, 'total_tokens': 303, 'completion_tokens_details': {'accepted_prediction_tokens': 0, 'audio_tokens': 0, 'reasoning_tokens': 0, 'rejected_prediction_tokens': 0}, 'prompt_tokens_details': {'audio_tokens': 0, 'cached_tokens': 0}}, 'model_name': 'gpt-4o-2024-08-06', 'system_fingerprint': 'fp_46bff0e0c8', 'id': 'chatcmpl-C9DESC38gHGFh2XaDNFYZvaMyNOC3', 'service_tier': 'default', 'finish_reason': 'stop', 'logprobs': None}, id='run--a7636a61-2556-44fd-9814-b094041acfc6-0', usage_metadata={'input_tokens': 66, 'output_tokens': 237, 'total_tokens': 303, 'input_token_details': {'audio': 0, 'cache_read': 0}, 'output_token_details': {'audio': 0, 'reasoning': 0}})]}\n"
     ]
    }
   ],
   "source": [
    "input = {\"messages\": [{\"role\": \"user\", \"content\": \"¿Cuanto vale una cortina?\"}]}\n",
    "respuesta= genera_query_o_responde(input)\n",
    "print (respuesta)"
   ]
  },
  {
   "cell_type": "code",
   "execution_count": 18,
   "id": "c65c2f6a-4a90-41c3-ba4f-3e798114961c",
   "metadata": {},
   "outputs": [
    {
     "data": {
      "text/plain": [
       "AIMessage(content='El precio de una cortina puede variar ampliamente dependiendo de varios factores, como el material, el tamaño, el diseño, la marca y el lugar donde se compre. Aquí hay algunos rangos generales de precios:\\n\\n1. **Cortinas de tela básica**: Pueden costar desde $10 hasta $50 por panel, dependiendo del tamaño y la calidad de la tela.\\n\\n2. **Cortinas de lujo o de diseñador**: Estas pueden costar desde $100 hasta varios cientos de dólares por panel.\\n\\n3. **Cortinas opacas o blackout**: Generalmente cuestan más que las cortinas estándar, con precios que oscilan entre $20 y $100 por panel.\\n\\n4. **Cortinas personalizadas**: Si decides hacer cortinas a medida, el costo puede ser significativamente mayor, dependiendo de las especificaciones.\\n\\n5. **Cortinas de materiales especiales**: Como las cortinas térmicas o acústicas, pueden tener un precio más alto debido a sus propiedades adicionales.\\n\\nPara obtener un precio exacto, te recomendaría visitar tiendas en línea o físicas que vendan cortinas y comparar precios según tus necesidades específicas.', additional_kwargs={'refusal': None}, response_metadata={'token_usage': {'completion_tokens': 237, 'prompt_tokens': 66, 'total_tokens': 303, 'completion_tokens_details': {'accepted_prediction_tokens': 0, 'audio_tokens': 0, 'reasoning_tokens': 0, 'rejected_prediction_tokens': 0}, 'prompt_tokens_details': {'audio_tokens': 0, 'cached_tokens': 0}}, 'model_name': 'gpt-4o-2024-08-06', 'system_fingerprint': 'fp_46bff0e0c8', 'id': 'chatcmpl-C9DESC38gHGFh2XaDNFYZvaMyNOC3', 'service_tier': 'default', 'finish_reason': 'stop', 'logprobs': None}, id='run--a7636a61-2556-44fd-9814-b094041acfc6-0', usage_metadata={'input_tokens': 66, 'output_tokens': 237, 'total_tokens': 303, 'input_token_details': {'audio': 0, 'cache_read': 0}, 'output_token_details': {'audio': 0, 'reasoning': 0}})"
      ]
     },
     "execution_count": 18,
     "metadata": {},
     "output_type": "execute_result"
    }
   ],
   "source": [
    "#cogemos el ultimo mensaje\n",
    "respuesta[\"messages\"][-1]"
   ]
  },
  {
   "cell_type": "code",
   "execution_count": 19,
   "id": "0023622b-ad13-47e9-b94a-a57ee7c59ad6",
   "metadata": {},
   "outputs": [
    {
     "name": "stdout",
     "output_type": "stream",
     "text": [
      "==================================\u001b[1m Ai Message \u001b[0m==================================\n",
      "\n",
      "El precio de una cortina puede variar ampliamente dependiendo de varios factores, como el material, el tamaño, el diseño, la marca y el lugar donde se compre. Aquí hay algunos rangos generales de precios:\n",
      "\n",
      "1. **Cortinas de tela básica**: Pueden costar desde $10 hasta $50 por panel, dependiendo del tamaño y la calidad de la tela.\n",
      "\n",
      "2. **Cortinas de lujo o de diseñador**: Estas pueden costar desde $100 hasta varios cientos de dólares por panel.\n",
      "\n",
      "3. **Cortinas opacas o blackout**: Generalmente cuestan más que las cortinas estándar, con precios que oscilan entre $20 y $100 por panel.\n",
      "\n",
      "4. **Cortinas personalizadas**: Si decides hacer cortinas a medida, el costo puede ser significativamente mayor, dependiendo de las especificaciones.\n",
      "\n",
      "5. **Cortinas de materiales especiales**: Como las cortinas térmicas o acústicas, pueden tener un precio más alto debido a sus propiedades adicionales.\n",
      "\n",
      "Para obtener un precio exacto, te recomendaría visitar tiendas en línea o físicas que vendan cortinas y comparar precios según tus necesidades específicas.\n"
     ]
    }
   ],
   "source": [
    "#Formateamos el mensaje\n",
    "respuesta[\"messages\"][-1].pretty_print()"
   ]
  },
  {
   "cell_type": "markdown",
   "id": "4a83c472-b2cf-4946-ae4e-1d0d6b240e25",
   "metadata": {},
   "source": [
    "### 3. Hacer una pregunta que requiera búsqueda semántica"
   ]
  },
  {
   "cell_type": "code",
   "execution_count": 20,
   "id": "0f0381b9-4368-4419-adc2-55bce98888f2",
   "metadata": {},
   "outputs": [
    {
     "name": "stdout",
     "output_type": "stream",
     "text": [
      "==================================\u001b[1m Ai Message \u001b[0m==================================\n",
      "Tool Calls:\n",
      "  retrieve_blog_posts (call_80sNgghWPwIWYHr19e6PbR7T)\n",
      " Call ID: call_80sNgghWPwIWYHr19e6PbR7T\n",
      "  Args:\n",
      "    query: Samsung adelanta a Google\n"
     ]
    }
   ],
   "source": [
    "input = {\n",
    "    \"messages\": [\n",
    "        {\n",
    "            \"role\": \"user\",\n",
    "            \"content\": \"¿Cómo adelantó Samsumng a Google\",\n",
    "        }\n",
    "    ]\n",
    "}\n",
    "genera_query_o_responde(input)[\"messages\"][-1].pretty_print()"
   ]
  },
  {
   "cell_type": "markdown",
   "id": "0c3e2487-e6f4-4680-8645-f79e98090868",
   "metadata": {},
   "source": [
    "## 4. Vemos la relevanciade los documentos"
   ]
  },
  {
   "cell_type": "markdown",
   "id": "6eaf0e56-157f-47b2-a9cb-0a82275d3f35",
   "metadata": {},
   "source": [
    "###  1.  Añade una arista condicional —grade_documents— para determinar si los documentos recuperados son relevantes para la pregunta. <span style=\"color:red\">Utilizaremos un modelo con un esquema de salida estructurado llamado GradeDocuments</span> para la calificación de documentos. La función grade_documents devolverá el nombre del nodo al que se debe ir según la decisión de calificación (genera respuesta o reescribe_pregunta):"
   ]
  },
  {
   "cell_type": "markdown",
   "id": "d519b98b-f217-481f-8ec6-6d00a3c36146",
   "metadata": {},
   "source": [
    "Conceptos a recordar: \n",
    "* <span style=\"color:red\">arista condicional</span>"
   ]
  },
  {
   "cell_type": "code",
   "execution_count": 21,
   "id": "c065a8fb-55af-4a05-be00-b20f254b2b74",
   "metadata": {},
   "outputs": [],
   "source": [
    "from pydantic import BaseModel, Field\n",
    "from typing import Literal\n",
    "\n",
    "GRADE_PROMPT = (\n",
    "    \"Eres un evaluador que determina la relevancia de un documento recuperado respecto a una pregunta del usuario. \\n \"\n",
    "    \"Aquí tienes el documento recuperado: \\n\\n {context} \\n\\n\"\n",
    "    \"Aquí tienes la pregunta del usuario: {question} \\n\"\n",
    "    \"Si el documento contiene palabra(s) clave o significado semántico relacionado con la pregunta del usuario, califícalo como relevante. \\n\"\n",
    "    \"Da una puntuación binaria 'si' o 'no' para indicar si el documento es relevante para la pregunta.\"\n",
    "\n",
    ")\n",
    "\n",
    "\n",
    "class GradeDocuments(BaseModel):\n",
    "    \"\"\"Califica los documentos utilizando una puntuación binaria para comprobar su relevancia\"\"\"\n",
    "\n",
    "    binary_score: str = Field(\n",
    "        description=\"Puntuación : 'si' si es relevante, o 'no' si no lo es\"\n",
    "    )\n",
    "\n",
    "\n",
    "grader_model = init_chat_model(\"openai:gpt-4.1\", temperature=0)\n",
    "\n",
    "\n",
    "def grade_documents(\n",
    "    state: MessagesState,\n",
    ") -> Literal[\"genera_respuesta\", \"rescribir_question\"]:\n",
    "    \"\"\"Determina si los documentos recuperados son relevantes para la pregunta.\"\"\"\n",
    "    question = state[\"messages\"][0].content\n",
    "    context = state[\"messages\"][-1].content\n",
    "    print (\"question:\",question)\n",
    "    print(\"context: \", context)\n",
    "    prompt = GRADE_PROMPT.format(question=question, context=context)\n",
    "    response = (\n",
    "        grader_model\n",
    "        .with_structured_output(GradeDocuments).invoke(\n",
    "            [{\"role\": \"user\", \"content\": prompt}]\n",
    "        )\n",
    "    )\n",
    "    score = response.binary_score\n",
    "    print (\"score :\", score)\n",
    "    if score == \"si\":\n",
    "        return \"genera_respuesta\"\n",
    "    else:\n",
    "        return \"rescribir_question\""
   ]
  },
  {
   "cell_type": "markdown",
   "id": "7660ef1b-4039-4b24-a6a0-66df39340a88",
   "metadata": {},
   "source": [
    "### 2. Ejecutar con una respuesta irrelevante en la respuesta de la tool :"
   ]
  },
  {
   "cell_type": "code",
   "execution_count": 22,
   "id": "4f786fb1-0b31-46dc-be4a-ae8900bcaae1",
   "metadata": {},
   "outputs": [
    {
     "name": "stdout",
     "output_type": "stream",
     "text": [
      "input: {'messages': [HumanMessage(content='¿Que tiempo hace en Alcante?', additional_kwargs={}, response_metadata={}), AIMessage(content='', additional_kwargs={}, response_metadata={}, tool_calls=[{'name': 'retrieve_blog_posts', 'args': {'query': 'Tiempo en Alicante'}, 'id': '1', 'type': 'tool_call'}]), ToolMessage(content='Son las 10 de la mañana', tool_call_id='1')]}\n",
      "question: ¿Que tiempo hace en Alcante?\n",
      "context:  Son las 10 de la mañana\n",
      "score : no\n"
     ]
    },
    {
     "data": {
      "text/plain": [
       "'rescribir_question'"
      ]
     },
     "execution_count": 22,
     "metadata": {},
     "output_type": "execute_result"
    }
   ],
   "source": [
    "#simulamos la respuesta de la tool mediante mensajes\n",
    "from langchain_core.messages import convert_to_messages\n",
    "\n",
    "input = {\n",
    "    \"messages\": convert_to_messages(\n",
    "        [\n",
    "            {\n",
    "                \"role\": \"user\",\n",
    "                \"content\": \"¿Que tiempo hace en Alcante?\",\n",
    "            },\n",
    "            {\n",
    "                \"role\": \"assistant\",\n",
    "                \"content\": \"\",\n",
    "                \"tool_calls\": [\n",
    "                    {\n",
    "                        \"id\": \"1\",\n",
    "                        \"name\": \"retrieve_blog_posts\",\n",
    "                        \"args\": {\"query\": \"Tiempo en Alicante\"},\n",
    "                    }\n",
    "                ],\n",
    "            },\n",
    "            {\"role\": \"tool\", \"content\": \"Son las 10 de la mañana\", \"tool_call_id\": \"1\"},\n",
    "        ]\n",
    "    )\n",
    "}\n",
    "\n",
    "print (\"input:\" , input)\n",
    "grade_documents(input)"
   ]
  },
  {
   "cell_type": "markdown",
   "id": "ef00e6c6-ed32-40ef-85fe-26c892ef6b14",
   "metadata": {},
   "source": [
    "### 3. Confirmar que el documento/respuesta relavante se  clasifica como tal:"
   ]
  },
  {
   "cell_type": "code",
   "execution_count": 23,
   "id": "545cd228-89d8-45b2-8fe6-dc7f36469f4a",
   "metadata": {
    "editable": true,
    "slideshow": {
     "slide_type": ""
    },
    "tags": []
   },
   "outputs": [
    {
     "name": "stdout",
     "output_type": "stream",
     "text": [
      "question: ¿Cómo Samsung a adelanto Google?\n",
      "context:  Samsung fue la primera en lograr algo insólito: adelantar a Google en política de actualizaciones. El fabricante ofrecesiete años de actualizaciones de sistemay otros siete años de parches de seguridad.\n",
      "score : si\n"
     ]
    },
    {
     "data": {
      "text/plain": [
       "'genera_respuesta'"
      ]
     },
     "execution_count": 23,
     "metadata": {},
     "output_type": "execute_result"
    }
   ],
   "source": [
    "input = {\n",
    "    \"messages\": convert_to_messages(\n",
    "        [\n",
    "            {\n",
    "                \"role\": \"user\",\n",
    "                \"content\": \"¿Cómo Samsung a adelanto Google?\",\n",
    "            },\n",
    "            {\n",
    "                \"role\": \"assistant\",\n",
    "                \"content\": \"\",\n",
    "                \"tool_calls\": [\n",
    "                    {\n",
    "                        \"id\": \"1\",\n",
    "                        \"name\": \"retrieve_blog_posts\",\n",
    "                        \"args\": {\"query\": \"¿Cómo Samsung a adelanto Google?\"},\n",
    "                    }\n",
    "                ],\n",
    "            },\n",
    "            {\n",
    "                \"role\": \"tool\",\n",
    "                \"content\": \"Samsung fue la primera en lograr algo insólito: adelantar a Google en política de actualizaciones. El fabricante ofrecesiete años de actualizaciones de sistemay otros siete años de parches de seguridad.\",\n",
    "                \"tool_call_id\": \"1\",\n",
    "            },\n",
    "        ]\n",
    "    )\n",
    "}\n",
    "grade_documents(input)"
   ]
  },
  {
   "cell_type": "markdown",
   "id": "4d24341d-52db-4cfa-a60a-2cf6006108ac",
   "metadata": {},
   "source": [
    "## 5 Rescribir la pregunta."
   ]
  },
  {
   "cell_type": "markdown",
   "id": "dbb00a92-72de-40de-89c2-47776e384e9d",
   "metadata": {
    "editable": true,
    "slideshow": {
     "slide_type": ""
    },
    "tags": []
   },
   "source": [
    "### 1. Construye el nodo de reescritura de pregunta (rescribir_question).\n",
    "La herramienta de recuperación puede devolver documentos potencialmente irrelevantes, lo que indica la necesidad de mejorar la pregunta original del usuario. Para ello, llamaremos al nodo rewrite_question."
   ]
  },
  {
   "cell_type": "code",
   "execution_count": 24,
   "id": "56c60a37-5f8b-4734-b398-62f83d0b313c",
   "metadata": {},
   "outputs": [],
   "source": [
    "REWRITE_PROMPT = (\n",
    "    \"Analiza detenidamente la siguiente pregunta e intenta comprender la intención o el significado profundo que transmite.\\n\"\n",
    "    \"Pregunta original:\"\n",
    "    \"\\n ------- \\n\"\n",
    "    \"{question}\"\n",
    "    \"\\n ------- \\n\"\n",
    "    \"Ahora, reescribe la pregunta para que sea más clara, precisa y fácil de entender:\"\n",
    ")\n",
    "\n",
    "\n",
    "def rescribir_question(state: MessagesState):\n",
    "    \"\"\"Rescribe/Mejora la pregunta original del usuario.\"\"\"\n",
    "    messages = state[\"messages\"]\n",
    "    question = messages[0].content\n",
    "    prompt = REWRITE_PROMPT.format(question=question)\n",
    "    print (\"xavi Prompt\",prompt)\n",
    "    response = response_model.invoke([{\"role\": \"user\", \"content\": prompt}])\n",
    "    return {\"messages\": [{\"role\": \"user\", \"content\": response.content}]}"
   ]
  },
  {
   "cell_type": "markdown",
   "id": "cb979386-c111-425c-b1f4-8c97647a2484",
   "metadata": {},
   "source": [
    "#### 2. Try it out:"
   ]
  },
  {
   "cell_type": "code",
   "execution_count": 25,
   "id": "42fb401c-cb47-4721-9adc-1846df2b343d",
   "metadata": {},
   "outputs": [
    {
     "name": "stdout",
     "output_type": "stream",
     "text": [
      "xavi Prompt Analiza detenidamente la siguiente pregunta e intenta comprender la intención o el significado profundo que transmite.\n",
      "Pregunta original:\n",
      " ------- \n",
      "¿Cómo Samsung a adelanto Google?\n",
      " ------- \n",
      "Ahora, reescribe la pregunta para que sea más clara, precisa y fácil de entender:\n",
      "¿Cómo ha logrado Samsung superar a Google?\n"
     ]
    }
   ],
   "source": [
    "input = {\n",
    "    \"messages\": convert_to_messages(\n",
    "        [\n",
    "            {\n",
    "                \"role\": \"user\",\n",
    "                \"content\": \"¿Cómo Samsung a adelanto Google?\",\n",
    "            },\n",
    "            {\n",
    "                \"role\": \"assistant\",\n",
    "                \"content\": \"\",\n",
    "                \"tool_calls\": [\n",
    "                    {\n",
    "                        \"id\": \"1\",\n",
    "                        \"name\": \"retrieve_blog_posts\",\n",
    "                        \"args\": {\"query\": \"¿Cómo Samsung a adelanto Google?\"},\n",
    "                    }\n",
    "                ],\n",
    "            },\n",
    "            {\"role\": \"tool\", \"content\": \"Son las 10 de la mañana\", \"tool_call_id\": \"1\"},\n",
    "        ]\n",
    "    )\n",
    "}\n",
    "\n",
    "response = rescribir_question(input)\n",
    "print(response[\"messages\"][-1][\"content\"])"
   ]
  },
  {
   "cell_type": "markdown",
   "id": "1e59a276-ab18-4e0c-8529-b44f281691a8",
   "metadata": {},
   "source": [
    "## 6. Generamos la Respuesta.\n",
    "\n",
    "### 1. Construimos el nodo generate_answer.\n",
    "Si superamos las comprobaciones del evaluador (grader), podemos generar la respuesta final basándonos en la pregunta original y el contexto recuperado"
   ]
  },
  {
   "cell_type": "code",
   "execution_count": 26,
   "id": "27ba8a6c-46ec-4e39-9744-c4d07e24ee7a",
   "metadata": {},
   "outputs": [],
   "source": [
    "GENERATE_PROMPT = (\n",
    "    \"Eres un asistente para tareas de preguntas y respuestas. \"\n",
    "    \"Utiliza los siguientes fragmentos de contexto recuperado para responder a la pregunta. \"\n",
    "    \"Si no sabes la respuesta, simplemente indica que no la sabes. \"\n",
    "    \"Utiliza un máximo de tres frases y mantén la respuesta concisa.\\n\"\n",
    "    \"Pregunta: {question} \\n\"\n",
    "    \"Contexto: {context}\"\n",
    ")\n",
    "\n",
    "\n",
    "\n",
    "def genera_respuesta(state: MessagesState):\n",
    "    \"\"\"Genera la respuesta.\"\"\"\n",
    "    question = state[\"messages\"][0].content\n",
    "    context = state[\"messages\"][-1].content\n",
    "    prompt = GENERATE_PROMPT.format(question=question, context=context)\n",
    "    response = response_model.invoke([{\"role\": \"user\", \"content\": prompt}])\n",
    "    return {\"messages\": [response]}"
   ]
  },
  {
   "cell_type": "markdown",
   "id": "bbe5d0e6-c4e9-47e8-83b7-6832b643da3e",
   "metadata": {},
   "source": [
    "### 2. Try it out."
   ]
  },
  {
   "cell_type": "code",
   "execution_count": 27,
   "id": "8e609524-dac0-437d-9511-50c88d79fee5",
   "metadata": {},
   "outputs": [
    {
     "name": "stdout",
     "output_type": "stream",
     "text": [
      "==================================\u001b[1m Ai Message \u001b[0m==================================\n",
      "\n",
      "Samsung ha logrado superar a Google en política de actualizaciones al ofrecer siete años de actualizaciones de sistema y otros siete años de parches de seguridad, lo cual es más extenso que lo que ofrece Google.\n"
     ]
    }
   ],
   "source": [
    "input = {\n",
    "    \"messages\": convert_to_messages(\n",
    "        [\n",
    "            {\n",
    "                \"role\": \"user\",\n",
    "                \"content\": \"¿Cómo ha logrado Samsung superar a Google?\",\n",
    "            },\n",
    "            {\n",
    "                \"role\": \"assistant\",\n",
    "                \"content\": \"\",\n",
    "                \"tool_calls\": [\n",
    "                    {\n",
    "                        \"id\": \"1\",\n",
    "                        \"name\": \"retrieve_blog_posts\",\n",
    "                        \"args\": {\"query\": \"¿Cómo ha logrado Samsung superar a Google?\"},\n",
    "                    }\n",
    "                ],\n",
    "            },\n",
    "            {\n",
    "                \"role\": \"tool\",\n",
    "                \"content\": \"Samsung fue la primera en lograr algo insólito: adelantar a Google en política de actualizaciones. El fabricante ofrecesiete años de actualizaciones de sistemay otros siete años de parches de seguridad.\",\n",
    "                \"tool_call_id\": \"1\",\n",
    "            },\n",
    "        ]\n",
    "    )\n",
    "}\n",
    "\n",
    "response = genera_respuesta(input)\n",
    "response[\"messages\"][-1].pretty_print()"
   ]
  },
  {
   "cell_type": "markdown",
   "id": "368e1756-8efd-4ddf-a95b-0b309a87df57",
   "metadata": {},
   "source": [
    "## 7. Configurar el grafo"
   ]
  },
  {
   "cell_type": "markdown",
   "id": "cb908205-eec8-4e55-9380-f0c3af9e1a26",
   "metadata": {},
   "source": [
    "### 7.1 Importamos los elementos necesarios para construir el grafo"
   ]
  },
  {
   "cell_type": "code",
   "execution_count": 28,
   "id": "fa0852a9-1e82-47a3-baa8-484467b6436a",
   "metadata": {},
   "outputs": [],
   "source": [
    "from langgraph.graph import StateGraph, START, END\n",
    "from langgraph.prebuilt import ToolNode\n",
    "from langgraph.prebuilt import tools_condition"
   ]
  },
  {
   "cell_type": "markdown",
   "id": "aa02ca32-0dc9-4b1d-b4b7-0b237939fa4d",
   "metadata": {},
   "source": [
    "### 7.2 Ensamblamos el workflow"
   ]
  },
  {
   "cell_type": "markdown",
   "id": "e858e4b2-ae31-4fee-bbfb-df336f35fff8",
   "metadata": {},
   "source": [
    "#### 7.2.1 Añadimos los nodos"
   ]
  },
  {
   "cell_type": "code",
   "execution_count": 29,
   "id": "1af90597-d90b-437e-9dae-9b9827b9d828",
   "metadata": {},
   "outputs": [
    {
     "data": {
      "text/plain": [
       "<langgraph.graph.state.StateGraph at 0x1c80863cc50>"
      ]
     },
     "execution_count": 29,
     "metadata": {},
     "output_type": "execute_result"
    }
   ],
   "source": [
    "workflow = StateGraph(MessagesState)\n",
    "workflow.add_node(genera_query_o_responde)\n",
    "workflow.add_node(\"retrieve\", ToolNode([retriever_tool]))\n",
    "workflow.add_node(rescribir_question)\n",
    "workflow.add_node(genera_respuesta)"
   ]
  },
  {
   "cell_type": "markdown",
   "id": "ef39b135-e13e-45eb-9f04-11c6f81d2d48",
   "metadata": {},
   "source": [
    "#### 7.2.2 Añadimos las aristas"
   ]
  },
  {
   "cell_type": "code",
   "execution_count": 30,
   "id": "71734362-d351-496d-89cd-d27ce9871075",
   "metadata": {},
   "outputs": [
    {
     "data": {
      "text/plain": [
       "<langgraph.graph.state.StateGraph at 0x1c80863cc50>"
      ]
     },
     "execution_count": 30,
     "metadata": {},
     "output_type": "execute_result"
    }
   ],
   "source": [
    "workflow.add_edge(START, \"genera_query_o_responde\")\n",
    "workflow.add_conditional_edges(\n",
    "    \"genera_query_o_responde\",\n",
    "    # Evalúa la decisión del LLM (llama a la herramienta retriever_tool o responde al usuario)\n",
    "    tools_condition,\n",
    "    {\n",
    "        # Translate the condition outputs to nodes in our graph\n",
    "        \"tools\": \"retrieve\",\n",
    "        END: END,\n",
    "    },\n",
    ")\n",
    "\n",
    "#\n",
    "workflow.add_conditional_edges(\n",
    "    \"retrieve\",\n",
    "    # Assess agent decision\n",
    "    grade_documents,\n",
    ")\n",
    "\n",
    "workflow.add_edge(\"genera_respuesta\", END)\n",
    "\n",
    "workflow.add_edge(\"rescribir_question\", \"genera_query_o_responde\")"
   ]
  },
  {
   "cell_type": "markdown",
   "id": "fde9edf8-9932-41a6-a862-b306d49391cd",
   "metadata": {},
   "source": [
    "#### 7.2.3 Compilamos el grafo"
   ]
  },
  {
   "cell_type": "code",
   "execution_count": 31,
   "id": "b0f1658c-d134-4fa8-b2d5-b7103cf42c25",
   "metadata": {},
   "outputs": [],
   "source": [
    "graph = workflow.compile()"
   ]
  },
  {
   "cell_type": "markdown",
   "id": "5c5ba68f-d54e-4dbb-a058-8a3d4675de30",
   "metadata": {},
   "source": [
    "#### 7.2.4 Pintamos el Grafo"
   ]
  },
  {
   "cell_type": "code",
   "execution_count": 32,
   "id": "4eb0c3e1-27a0-42ed-9e46-3ab678c123e3",
   "metadata": {},
   "outputs": [
    {
     "data": {
      "image/png": "[encoded data removed]",
      "text/plain": [
       "<IPython.core.display.Image object>"
      ]
     },
     "metadata": {},
     "output_type": "display_data"
    }
   ],
   "source": [
    "from IPython.display import Image, display\n",
    "\n",
    "display(Image(graph.get_graph().draw_mermaid_png()))\n"
   ]
  },
  {
   "cell_type": "markdown",
   "id": "4f389509-154f-4ebe-826d-68af2075b6f4",
   "metadata": {},
   "source": [
    "### NOtas"
   ]
  },
  {
   "cell_type": "code",
   "execution_count": 33,
   "id": "f9960d5b-e5fc-4db4-846d-a587280b6cac",
   "metadata": {},
   "outputs": [
    {
     "name": "stdout",
     "output_type": "stream",
     "text": [
      "📘 Update from node: genera_query_o_responde\n",
      "----------------------------------------\n",
      "📝 Contenido desde objeto:\n",
      "\n",
      "----------------------------------------\n",
      "\n",
      "question: ¿Cómo ha logrado Samsung superar a Google?\n",
      "context:  Antonio Sabán\n",
      "\n",
      "Antonio Sabán\n",
      "\n",
      "Samsung lleva19 años siendo el fabricante más televisores vendeen todo el mundo. En 2006 arrebató el liderato a LG, que años antes había hecho lo propio con Sony. Desde entonces, Corea del Sur ha mandado en este mercado sucediendo a lo que fue Japón en su momento. La situación está cerca de cambiar.\n",
      "\n",
      "Qué está pasando. El mercado de los televisores se está moviendo como nunca. En 2022,TCL superó a LGcomo segundo mayor fabricante del mundo. Hisense logró empatar en cuota de mercado yal año siguiente le superó. Pero LG no es la única surcoreana que está sintiendo el poder de los fabricantes chinos. Según datos de Counterpoint, Samsung contaba hace tres años con un 17% de cuota de mercado en televisores. Cayó al 16% en 2023, yse mantuvo en esos números en 2024. Pero.\n",
      "\n",
      "TCL y Hisense están dando donde más duele. Samsung ha logrado mantenerse primera, pero los datos hablan muy claro sobre el camino que está siguiendo el mercado. Samsung estácayendo un 3,3% en unidades distribuidasen la primera mitad de año, mientras TCL y Hisense crecen un 6,3 y un 2,6%.\n",
      "\n",
      "Ambas estaban sobre el 10% hace tres años, y a finales de 2024 ya estaban en un 14% y 12% de cuota. Y el problema para Samsung, pese a mantenerse, es que estos fabricantes le están quitando mucha cuota en televisores premium, que son de lejos los más rentables.\n",
      "\n",
      "Un mercado que se han quedado TCL y BOE. Y que en su parte más rentable va a darles alegrías, pues las estimaciones apuntan a que este año, lasminiLED superarán en ventasa las OLED de Samsung y LG. Y pese a que LG y Samsung comercializan miniLED, lo hacen con paneles procedentes de fabricantes chinos por la venta de sus fábricas.\n",
      "\n",
      "La inesperada ayuda de Estados Unidos. Gobierno de Corea del Sur estáapoyando con subvenciones a Samsung y LG, y las noticias que llegan desde Estados Unidos les favorecen: hay congresistas estadounidensespidiendo incluir a BOE en la \"lista negra\". Si la petición prospera, perder la venta de paneles a Apple y la posibilidad de entrar en el enorme mercado estadounidense de televisores puede dejar a la compañía muy tocada.\n",
      "\n",
      "Destacada | Samsung,Arthur WangenUnsplash\n",
      "\n",
      "En Xataka |Si la pregunta es hasta cuándo crecerán las teles de nuestro salón, el mercado habla muy claro: hasta que no nos quepan\n",
      "\n",
      "Los mejores comentarios:\n",
      "\n",
      "Ver8 comentarios\n",
      "\n",
      "En Xataka hablamos de...\n",
      "\n",
      "Ver más temas\n",
      "\n",
      "Webedia\n",
      "\n",
      "Tecnología\n",
      "\n",
      "Videojuegos\n",
      "\n",
      "Entretenimiento\n",
      "\n",
      "Gastronomía\n",
      "\n",
      "Motor\n",
      "\n",
      "Estilo de vida\n",
      "\n",
      "Economía\n",
      "\n",
      "Ediciones Internacionales\n",
      "\n",
      "Partners\n",
      "\n",
      "Destacamos\n",
      "\n",
      "Ver más temas\n",
      "\n",
      "Suscribir\n",
      "\n",
      "Más sitios que te gustarán\n",
      "\n",
      "Reciente\n",
      "\n",
      "Ver más artículos\n",
      "\n",
      "XatakaTV\n",
      "\n",
      "Ver más vídeos\n",
      "\n",
      "En Xataka |LG y Samsung tienen un nuevo pacto que nadie esperaba, según Reuters. Uno que quiere sacudir el mercado de los televisores\n",
      "\n",
      "En Xataka |China está devorando el mercado de los televisores. Tanto que Panasonic se plantea abandonarlo\n",
      "\n",
      "Los mejores comentarios:\n",
      "\n",
      "Ver11 comentarios\n",
      "\n",
      "En Xataka hablamos de...\n",
      "\n",
      "Ver más temas\n",
      "\n",
      "Webedia\n",
      "\n",
      "Tecnología\n",
      "\n",
      "Videojuegos\n",
      "\n",
      "Entretenimiento\n",
      "\n",
      "Gastronomía\n",
      "\n",
      "Motor\n",
      "\n",
      "Estilo de vida\n",
      "\n",
      "Economía\n",
      "\n",
      "Ediciones Internacionales\n",
      "\n",
      "Partners\n",
      "\n",
      "Destacamos\n",
      "\n",
      "Ver más temas\n",
      "\n",
      "Suscribir\n",
      "\n",
      "Más sitios que te gustarán\n",
      "\n",
      "Reciente\n",
      "\n",
      "Ver más artículos\n",
      "\n",
      "XatakaTV\n",
      "\n",
      "Ver más vídeos\n",
      "\n",
      "TCL y Hisense están dando donde más duele. Samsung ha logrado mantenerse primera, pero los datos hablan muy claro sobre el camino que está siguiendo el mercado. Samsung estácayendo un 3,3% en unidades distribuidasen la primera mitad de año, mientras TCL y Hisense crecen un 6,3 y un 2,6%.\n",
      "\n",
      "Ambas estaban sobre el 10% hace tres años, y a finales de 2024 ya estaban en un 14% y 12% de cuota. Y el problema para Samsung, pese a mantenerse, es que estos fabricantes le están quitando mucha cuota en televisores premium, que son de lejos los más rentables.\n",
      "\n",
      "De un 41% que tenía en este área a finales de 2023, Samsung cayó al 29% a finales de 2023, mientrasTCL y Hisense engordaban a marchas forzadas, llegando la primera incluso a superar a LG. Crecen a doble dígito en unidades distribuidas, pero algo menos en ingresos, lo que indica que están inundando el mercado con televisores más baratos que la competencia.\n",
      "\n",
      "Samsung lideró en miniLED, en pasado. La clave,según el analista Bob O'Briende Counterpoint, tiene que ver con la elección: \"los consumidores tienen que elegir entre un televisor OLED más pequeño o un televisor MiniLED más grande\". \"Un número cada vez mayor de consumidores elige MiniLED\", sentencia.\n",
      "score : no\n",
      "📘 Update from node: retrieve\n",
      "----------------------------------------\n",
      "📝 Contenido desde objeto:\n",
      "Antonio Sabán\n",
      "\n",
      "Antonio Sabán\n",
      "\n",
      "Samsung lleva19 años siendo el fabricante más televisores vendeen todo el mundo. En 2006 arrebató el liderato a LG, que años antes había hecho lo propio con Sony. Desde entonces, Corea del Sur ha mandado en este mercado sucediendo a lo que fue Japón en su momento. La situación está cerca de cambiar.\n",
      "\n",
      "Qué está pasando. El mercado de los televisores se está moviendo como nunca. En 2022,TCL superó a LGcomo segundo mayor fabricante del mundo. Hisense logró empatar en cuota de mercado yal año siguiente le superó. Pero LG no es la única surcoreana que está sintiendo el poder de los fabricantes chinos. Según datos de Counterpoint, Samsung contaba hace tres años con un 17% de cuota de mercado en televisores. Cayó al 16% en 2023, yse mantuvo en esos números en 2024. Pero.\n",
      "\n",
      "TCL y Hisense están dando donde más duele. Samsung ha logrado mantenerse primera, pero los datos hablan muy claro sobre el camino que está siguiendo el mercado. Samsung estácayendo un 3,3% en unidades distribuidasen la primera mitad de año, mientras TCL y Hisense crecen un 6,3 y un 2,6%.\n",
      "\n",
      "Ambas estaban sobre el 10% hace tres años, y a finales de 2024 ya estaban en un 14% y 12% de cuota. Y el problema para Samsung, pese a mantenerse, es que estos fabricantes le están quitando mucha cuota en televisores premium, que son de lejos los más rentables.\n",
      "\n",
      "Un mercado que se han quedado TCL y BOE. Y que en su parte más rentable va a darles alegrías, pues las estimaciones apuntan a que este año, lasminiLED superarán en ventasa las OLED de Samsung y LG. Y pese a que LG y Samsung comercializan miniLED, lo hacen con paneles procedentes de fabricantes chinos por la venta de sus fábricas.\n",
      "\n",
      "La inesperada ayuda de Estados Unidos. Gobierno de Corea del Sur estáapoyando con subvenciones a Samsung y LG, y las noticias que llegan desde Estados Unidos les favorecen: hay congresistas estadounidensespidiendo incluir a BOE en la \"lista negra\". Si la petición prospera, perder la venta de paneles a Apple y la posibilidad de entrar en el enorme mercado estadounidense de televisores puede dejar a la compañía muy tocada.\n",
      "\n",
      "Destacada | Samsung,Arthur WangenUnsplash\n",
      "\n",
      "En Xataka |Si la pregunta es hasta cuándo crecerán las teles de nuestro salón, el mercado habla muy claro: hasta que no nos quepan\n",
      "\n",
      "Los mejores comentarios:\n",
      "\n",
      "Ver8 comentarios\n",
      "\n",
      "En Xataka hablamos de...\n",
      "\n",
      "Ver más temas\n",
      "\n",
      "Webedia\n",
      "\n",
      "Tecnología\n",
      "\n",
      "Videojuegos\n",
      "\n",
      "Entretenimiento\n",
      "\n",
      "Gastronomía\n",
      "\n",
      "Motor\n",
      "\n",
      "Estilo de vida\n",
      "\n",
      "Economía\n",
      "\n",
      "Ediciones Internacionales\n",
      "\n",
      "Partners\n",
      "\n",
      "Destacamos\n",
      "\n",
      "Ver más temas\n",
      "\n",
      "Suscribir\n",
      "\n",
      "Más sitios que te gustarán\n",
      "\n",
      "Reciente\n",
      "\n",
      "Ver más artículos\n",
      "\n",
      "XatakaTV\n",
      "\n",
      "Ver más vídeos\n",
      "\n",
      "En Xataka |LG y Samsung tienen un nuevo pacto que nadie esperaba, según Reuters. Uno que quiere sacudir el mercado de los televisores\n",
      "\n",
      "En Xataka |China está devorando el mercado de los televisores. Tanto que Panasonic se plantea abandonarlo\n",
      "\n",
      "Los mejores comentarios:\n",
      "\n",
      "Ver11 comentarios\n",
      "\n",
      "En Xataka hablamos de...\n",
      "\n",
      "Ver más temas\n",
      "\n",
      "Webedia\n",
      "\n",
      "Tecnología\n",
      "\n",
      "Videojuegos\n",
      "\n",
      "Entretenimiento\n",
      "\n",
      "Gastronomía\n",
      "\n",
      "Motor\n",
      "\n",
      "Estilo de vida\n",
      "\n",
      "Economía\n",
      "\n",
      "Ediciones Internacionales\n",
      "\n",
      "Partners\n",
      "\n",
      "Destacamos\n",
      "\n",
      "Ver más temas\n",
      "\n",
      "Suscribir\n",
      "\n",
      "Más sitios que te gustarán\n",
      "\n",
      "Reciente\n",
      "\n",
      "Ver más artículos\n",
      "\n",
      "XatakaTV\n",
      "\n",
      "Ver más vídeos\n",
      "\n",
      "TCL y Hisense están dando donde más duele. Samsung ha logrado mantenerse primera, pero los datos hablan muy claro sobre el camino que está siguiendo el mercado. Samsung estácayendo un 3,3% en unidades distribuidasen la primera mitad de año, mientras TCL y Hisense crecen un 6,3 y un 2,6%.\n",
      "\n",
      "Ambas estaban sobre el 10% hace tres años, y a finales de 2024 ya estaban en un 14% y 12% de cuota. Y el problema para Samsung, pese a mantenerse, es que estos fabricantes le están quitando mucha cuota en televisores premium, que son de lejos los más rentables.\n",
      "\n",
      "De un 41% que tenía en este área a finales de 2023, Samsung cayó al 29% a finales de 2023, mientrasTCL y Hisense engordaban a marchas forzadas, llegando la primera incluso a superar a LG. Crecen a doble dígito en unidades distribuidas, pero algo menos en ingresos, lo que indica que están inundando el mercado con televisores más baratos que la competencia.\n",
      "\n",
      "Samsung lideró en miniLED, en pasado. La clave,según el analista Bob O'Briende Counterpoint, tiene que ver con la elección: \"los consumidores tienen que elegir entre un televisor OLED más pequeño o un televisor MiniLED más grande\". \"Un número cada vez mayor de consumidores elige MiniLED\", sentencia.\n",
      "----------------------------------------\n",
      "\n",
      "xavi Prompt Analiza detenidamente la siguiente pregunta e intenta comprender la intención o el significado profundo que transmite.\n",
      "Pregunta original:\n",
      " ------- \n",
      "¿Cómo ha logrado Samsung superar a Google?\n",
      " ------- \n",
      "Ahora, reescribe la pregunta para que sea más clara, precisa y fácil de entender:\n",
      "📘 Update from node: rescribir_question\n",
      "----------------------------------------\n",
      "📝 Contenido textual:\n",
      "¿Qué estrategias ha utilizado Samsung para superar a Google en el mercado?\n",
      "----------------------------------------\n",
      "\n",
      "📘 Update from node: genera_query_o_responde\n",
      "----------------------------------------\n",
      "📝 Contenido desde objeto:\n",
      "La información disponible no indica que Samsung haya superado a Google en un mercado específico, sino que se centra en la competencia de Samsung en el mercado de televisores, donde enfrenta desafíos de fabricantes chinos como TCL y Hisense. Sin embargo, puedo ofrecerte un análisis general de cómo Samsung ha logrado destacarse en varios mercados tecnológicos:\n",
      "\n",
      "1. **Diversificación de Productos**: Samsung ha diversificado su línea de productos, abarcando desde teléfonos móviles y electrodomésticos hasta semiconductores y pantallas, lo que le permite tener múltiples fuentes de ingresos y no depender de un solo mercado.\n",
      "\n",
      "2. **Innovación Tecnológica**: Samsung invierte significativamente en investigación y desarrollo para mantenerse a la vanguardia de la tecnología. Esto incluye avances en pantallas OLED y miniLED, así como en tecnología 5G y dispositivos plegables.\n",
      "\n",
      "3. **Estrategias de Marketing y Marca**: Samsung ha construido una marca fuerte y reconocida a nivel mundial, apoyada por campañas de marketing efectivas y patrocinios estratégicos.\n",
      "\n",
      "4. **Alianzas Estratégicas**: La empresa ha formado alianzas con otras compañías tecnológicas para fortalecer su posición en el mercado. Por ejemplo, colaboraciones con Google para integrar sus servicios en dispositivos Samsung.\n",
      "\n",
      "5. **Producción y Escala Global**: Samsung tiene una capacidad de producción masiva y una presencia global que le permite competir en precio y disponibilidad en diferentes mercados.\n",
      "\n",
      "6. **Adaptación a las Tendencias del Mercado**: Samsung ha sido ágil en adaptarse a las tendencias del mercado, como el aumento de la demanda de televisores más grandes y de alta calidad, y la transición hacia dispositivos más ecológicos.\n",
      "\n",
      "Estas estrategias han permitido a Samsung mantenerse competitivo en varios sectores tecnológicos, aunque no necesariamente en competencia directa con Google, ya que ambas empresas operan en áreas tecnológicas diferentes.\n",
      "----------------------------------------\n",
      "\n"
     ]
    }
   ],
   "source": [
    "from pprint import pprint  # para imprimir bonito\n",
    "\n",
    "# for chunk in graph.stream(\n",
    "#     {\n",
    "#         \"messages\": [\n",
    "#             {\n",
    "#                 \"role\": \"user\",\n",
    "#                 \"content\": \"¿Cómo ha logrado Samsung superar a Google?\",\n",
    "#             }\n",
    "#         ]\n",
    "#     }\n",
    "# ):\n",
    "#     for node, update in chunk.items():\n",
    "#         print(f\"🔁 Update from node: {node}\")\n",
    "#         print(update[\"messages\"][-1])\n",
    "#         print(\"📝 Mensaje generado:\")\n",
    "#         print(messages[-1])\n",
    "#         print(\"\\n\\n\")\n",
    "\n",
    "import pdb\n",
    "for chunk in graph.stream(\n",
    "    {\n",
    "        \"messages\": [\n",
    "            {\n",
    "                \"role\": \"user\",\n",
    "                \"content\": \"¿Cómo ha logrado Samsung superar a Google?\",\n",
    "            }\n",
    "        ]\n",
    "    }\n",
    "):\n",
    "    for node, update in chunk.items():\n",
    "        print(f\"📘 Update from node: {node}\")\n",
    "        print(\"-\" * 40)\n",
    "\n",
    "        messages = update.get(\"messages\", [])\n",
    "      \n",
    "        last_msg = messages[-1]\n",
    "\n",
    "        try:\n",
    "            if isinstance(last_msg, dict):\n",
    "                if \"content\" in last_msg:\n",
    "                    print(\"📝 Contenido textual:\")\n",
    "                    print(last_msg[\"content\"])\n",
    "                elif \"tool_calls\" in last_msg:\n",
    "                    print(\"🔧 Llamada a función:\")\n",
    "                    pprint(last_msg[\"tool_calls\"])\n",
    "                else:\n",
    "                    print(\"🕵️ Mensaje dict sin content/tool_calls:\")\n",
    "                    pprint(last_msg)\n",
    "            elif hasattr(last_msg, \"content\"):\n",
    "                print(\"📝 Contenido desde objeto:\")\n",
    "                print(last_msg.content)\n",
    "            else:\n",
    "                print(\"🕵️ Mensaje desconocido:\")\n",
    "                pprint(last_msg)\n",
    "\n",
    "        except Exception as e:\n",
    "            print(\"❌ Error leyendo el mensaje:\", str(e))\n",
    "            pprint(last_msg)\n",
    "\n",
    "        print(\"-\" * 40 + \"\\n\")\n",
    "\n"
   ]
  },
  {
   "cell_type": "code",
   "execution_count": 34,
   "id": "4084a5d0-6a69-4967-8240-17bff158e3b5",
   "metadata": {},
   "outputs": [],
   "source": [
    "input = {\n",
    "    \"messages\": [\n",
    "        {\n",
    "            \"role\": \"user\",\n",
    "            \"content\": \"¿Cómo ha logrado Samsung adelantar a Google?\",\n",
    "        }\n",
    "    ]\n",
    "}"
   ]
  },
  {
   "cell_type": "code",
   "execution_count": 35,
   "id": "bec0c099-cded-4337-aa14-10e79b5900ab",
   "metadata": {},
   "outputs": [
    {
     "name": "stdout",
     "output_type": "stream",
     "text": [
      "question: ¿Cómo ha logrado Samsung adelantar a Google?\n",
      "context:  Un mercado que se han quedado TCL y BOE. Y que en su parte más rentable va a darles alegrías, pues las estimaciones apuntan a que este año, lasminiLED superarán en ventasa las OLED de Samsung y LG. Y pese a que LG y Samsung comercializan miniLED, lo hacen con paneles procedentes de fabricantes chinos por la venta de sus fábricas.\n",
      "\n",
      "La inesperada ayuda de Estados Unidos. Gobierno de Corea del Sur estáapoyando con subvenciones a Samsung y LG, y las noticias que llegan desde Estados Unidos les favorecen: hay congresistas estadounidensespidiendo incluir a BOE en la \"lista negra\". Si la petición prospera, perder la venta de paneles a Apple y la posibilidad de entrar en el enorme mercado estadounidense de televisores puede dejar a la compañía muy tocada.\n",
      "\n",
      "Destacada | Samsung,Arthur WangenUnsplash\n",
      "\n",
      "En Xataka |Si la pregunta es hasta cuándo crecerán las teles de nuestro salón, el mercado habla muy claro: hasta que no nos quepan\n",
      "\n",
      "Los mejores comentarios:\n",
      "\n",
      "Ver8 comentarios\n",
      "\n",
      "En Xataka hablamos de...\n",
      "\n",
      "Ver más temas\n",
      "\n",
      "Webedia\n",
      "\n",
      "Tecnología\n",
      "\n",
      "Videojuegos\n",
      "\n",
      "Entretenimiento\n",
      "\n",
      "Gastronomía\n",
      "\n",
      "Motor\n",
      "\n",
      "Estilo de vida\n",
      "\n",
      "Economía\n",
      "\n",
      "Ediciones Internacionales\n",
      "\n",
      "Partners\n",
      "\n",
      "Destacamos\n",
      "\n",
      "Ver más temas\n",
      "\n",
      "Suscribir\n",
      "\n",
      "Más sitios que te gustarán\n",
      "\n",
      "Reciente\n",
      "\n",
      "Ver más artículos\n",
      "\n",
      "XatakaTV\n",
      "\n",
      "Ver más vídeos\n",
      "\n",
      "En Xataka |LG y Samsung tienen un nuevo pacto que nadie esperaba, según Reuters. Uno que quiere sacudir el mercado de los televisores\n",
      "\n",
      "En Xataka |China está devorando el mercado de los televisores. Tanto que Panasonic se plantea abandonarlo\n",
      "\n",
      "Los mejores comentarios:\n",
      "\n",
      "Ver11 comentarios\n",
      "\n",
      "En Xataka hablamos de...\n",
      "\n",
      "Ver más temas\n",
      "\n",
      "Webedia\n",
      "\n",
      "Tecnología\n",
      "\n",
      "Videojuegos\n",
      "\n",
      "Entretenimiento\n",
      "\n",
      "Gastronomía\n",
      "\n",
      "Motor\n",
      "\n",
      "Estilo de vida\n",
      "\n",
      "Economía\n",
      "\n",
      "Ediciones Internacionales\n",
      "\n",
      "Partners\n",
      "\n",
      "Destacamos\n",
      "\n",
      "Ver más temas\n",
      "\n",
      "Suscribir\n",
      "\n",
      "Más sitios que te gustarán\n",
      "\n",
      "Reciente\n",
      "\n",
      "Ver más artículos\n",
      "\n",
      "XatakaTV\n",
      "\n",
      "Ver más vídeos\n",
      "\n",
      "Antonio Sabán\n",
      "\n",
      "Antonio Sabán\n",
      "\n",
      "Samsung lleva19 años siendo el fabricante más televisores vendeen todo el mundo. En 2006 arrebató el liderato a LG, que años antes había hecho lo propio con Sony. Desde entonces, Corea del Sur ha mandado en este mercado sucediendo a lo que fue Japón en su momento. La situación está cerca de cambiar.\n",
      "\n",
      "Qué está pasando. El mercado de los televisores se está moviendo como nunca. En 2022,TCL superó a LGcomo segundo mayor fabricante del mundo. Hisense logró empatar en cuota de mercado yal año siguiente le superó. Pero LG no es la única surcoreana que está sintiendo el poder de los fabricantes chinos. Según datos de Counterpoint, Samsung contaba hace tres años con un 17% de cuota de mercado en televisores. Cayó al 16% en 2023, yse mantuvo en esos números en 2024. Pero.\n",
      "\n",
      "TCL y Hisense están dando donde más duele. Samsung ha logrado mantenerse primera, pero los datos hablan muy claro sobre el camino que está siguiendo el mercado. Samsung estácayendo un 3,3% en unidades distribuidasen la primera mitad de año, mientras TCL y Hisense crecen un 6,3 y un 2,6%.\n",
      "\n",
      "Ambas estaban sobre el 10% hace tres años, y a finales de 2024 ya estaban en un 14% y 12% de cuota. Y el problema para Samsung, pese a mantenerse, es que estos fabricantes le están quitando mucha cuota en televisores premium, que son de lejos los más rentables.\n",
      "\n",
      "TCL y Hisense están dando donde más duele. Samsung ha logrado mantenerse primera, pero los datos hablan muy claro sobre el camino que está siguiendo el mercado. Samsung estácayendo un 3,3% en unidades distribuidasen la primera mitad de año, mientras TCL y Hisense crecen un 6,3 y un 2,6%.\n",
      "\n",
      "Ambas estaban sobre el 10% hace tres años, y a finales de 2024 ya estaban en un 14% y 12% de cuota. Y el problema para Samsung, pese a mantenerse, es que estos fabricantes le están quitando mucha cuota en televisores premium, que son de lejos los más rentables.\n",
      "\n",
      "De un 41% que tenía en este área a finales de 2023, Samsung cayó al 29% a finales de 2023, mientrasTCL y Hisense engordaban a marchas forzadas, llegando la primera incluso a superar a LG. Crecen a doble dígito en unidades distribuidas, pero algo menos en ingresos, lo que indica que están inundando el mercado con televisores más baratos que la competencia.\n",
      "\n",
      "Samsung lideró en miniLED, en pasado. La clave,según el analista Bob O'Briende Counterpoint, tiene que ver con la elección: \"los consumidores tienen que elegir entre un televisor OLED más pequeño o un televisor MiniLED más grande\". \"Un número cada vez mayor de consumidores elige MiniLED\", sentencia.\n",
      "score : no\n",
      "xavi Prompt Analiza detenidamente la siguiente pregunta e intenta comprender la intención o el significado profundo que transmite.\n",
      "Pregunta original:\n",
      " ------- \n",
      "¿Cómo ha logrado Samsung adelantar a Google?\n",
      " ------- \n",
      "Ahora, reescribe la pregunta para que sea más clara, precisa y fácil de entender:\n"
     ]
    },
    {
     "data": {
      "text/plain": [
       "{'messages': [HumanMessage(content='¿Cómo ha logrado Samsung adelantar a Google?', additional_kwargs={}, response_metadata={}, id='904cf5c0-04b9-494a-b0c5-0c9fd72f0487'),\n",
       "  AIMessage(content='', additional_kwargs={'tool_calls': [{'id': 'call_FnuENnFP4jIYuz5MHKawDKXY', 'function': {'arguments': '{\"query\":\"Samsung adelanta a Google\"}', 'name': 'retrieve_blog_posts'}, 'type': 'function'}], 'refusal': None}, response_metadata={'token_usage': {'completion_tokens': 19, 'prompt_tokens': 68, 'total_tokens': 87, 'completion_tokens_details': {'accepted_prediction_tokens': 0, 'audio_tokens': 0, 'reasoning_tokens': 0, 'rejected_prediction_tokens': 0}, 'prompt_tokens_details': {'audio_tokens': 0, 'cached_tokens': 0}}, 'model_name': 'gpt-4o-2024-08-06', 'system_fingerprint': 'fp_46bff0e0c8', 'id': 'chatcmpl-C9DEzpGyLXmuyCXYk3emLfLhthPOC', 'service_tier': 'default', 'finish_reason': 'tool_calls', 'logprobs': None}, id='run--d65b6e56-be02-46c8-af71-ecb87f4ac03d-0', tool_calls=[{'name': 'retrieve_blog_posts', 'args': {'query': 'Samsung adelanta a Google'}, 'id': 'call_FnuENnFP4jIYuz5MHKawDKXY', 'type': 'tool_call'}], usage_metadata={'input_tokens': 68, 'output_tokens': 19, 'total_tokens': 87, 'input_token_details': {'audio': 0, 'cache_read': 0}, 'output_token_details': {'audio': 0, 'reasoning': 0}}),\n",
       "  ToolMessage(content='Un mercado que se han quedado TCL y BOE. Y que en su parte más rentable va a darles alegrías, pues las estimaciones apuntan a que este año, lasminiLED superarán en ventasa las OLED de Samsung y LG. Y pese a que LG y Samsung comercializan miniLED, lo hacen con paneles procedentes de fabricantes chinos por la venta de sus fábricas.\\n\\nLa inesperada ayuda de Estados Unidos. Gobierno de Corea del Sur estáapoyando con subvenciones a Samsung y LG, y las noticias que llegan desde Estados Unidos les favorecen: hay congresistas estadounidensespidiendo incluir a BOE en la \"lista negra\". Si la petición prospera, perder la venta de paneles a Apple y la posibilidad de entrar en el enorme mercado estadounidense de televisores puede dejar a la compañía muy tocada.\\n\\nDestacada | Samsung,Arthur WangenUnsplash\\n\\nEn Xataka |Si la pregunta es hasta cuándo crecerán las teles de nuestro salón, el mercado habla muy claro: hasta que no nos quepan\\n\\nLos mejores comentarios:\\n\\nVer8 comentarios\\n\\nEn Xataka hablamos de...\\n\\nVer más temas\\n\\nWebedia\\n\\nTecnología\\n\\nVideojuegos\\n\\nEntretenimiento\\n\\nGastronomía\\n\\nMotor\\n\\nEstilo de vida\\n\\nEconomía\\n\\nEdiciones Internacionales\\n\\nPartners\\n\\nDestacamos\\n\\nVer más temas\\n\\nSuscribir\\n\\nMás sitios que te gustarán\\n\\nReciente\\n\\nVer más artículos\\n\\nXatakaTV\\n\\nVer más vídeos\\n\\nEn Xataka |LG y Samsung tienen un nuevo pacto que nadie esperaba, según Reuters. Uno que quiere sacudir el mercado de los televisores\\n\\nEn Xataka |China está devorando el mercado de los televisores. Tanto que Panasonic se plantea abandonarlo\\n\\nLos mejores comentarios:\\n\\nVer11 comentarios\\n\\nEn Xataka hablamos de...\\n\\nVer más temas\\n\\nWebedia\\n\\nTecnología\\n\\nVideojuegos\\n\\nEntretenimiento\\n\\nGastronomía\\n\\nMotor\\n\\nEstilo de vida\\n\\nEconomía\\n\\nEdiciones Internacionales\\n\\nPartners\\n\\nDestacamos\\n\\nVer más temas\\n\\nSuscribir\\n\\nMás sitios que te gustarán\\n\\nReciente\\n\\nVer más artículos\\n\\nXatakaTV\\n\\nVer más vídeos\\n\\nAntonio Sabán\\n\\nAntonio Sabán\\n\\nSamsung lleva19 años siendo el fabricante más televisores vendeen todo el mundo. En 2006 arrebató el liderato a LG, que años antes había hecho lo propio con Sony. Desde entonces, Corea del Sur ha mandado en este mercado sucediendo a lo que fue Japón en su momento. La situación está cerca de cambiar.\\n\\nQué está pasando. El mercado de los televisores se está moviendo como nunca. En 2022,TCL superó a LGcomo segundo mayor fabricante del mundo. Hisense logró empatar en cuota de mercado yal año siguiente le superó. Pero LG no es la única surcoreana que está sintiendo el poder de los fabricantes chinos. Según datos de Counterpoint, Samsung contaba hace tres años con un 17% de cuota de mercado en televisores. Cayó al 16% en 2023, yse mantuvo en esos números en 2024. Pero.\\n\\nTCL y Hisense están dando donde más duele. Samsung ha logrado mantenerse primera, pero los datos hablan muy claro sobre el camino que está siguiendo el mercado. Samsung estácayendo un 3,3% en unidades distribuidasen la primera mitad de año, mientras TCL y Hisense crecen un 6,3 y un 2,6%.\\n\\nAmbas estaban sobre el 10% hace tres años, y a finales de 2024 ya estaban en un 14% y 12% de cuota. Y el problema para Samsung, pese a mantenerse, es que estos fabricantes le están quitando mucha cuota en televisores premium, que son de lejos los más rentables.\\n\\nTCL y Hisense están dando donde más duele. Samsung ha logrado mantenerse primera, pero los datos hablan muy claro sobre el camino que está siguiendo el mercado. Samsung estácayendo un 3,3% en unidades distribuidasen la primera mitad de año, mientras TCL y Hisense crecen un 6,3 y un 2,6%.\\n\\nAmbas estaban sobre el 10% hace tres años, y a finales de 2024 ya estaban en un 14% y 12% de cuota. Y el problema para Samsung, pese a mantenerse, es que estos fabricantes le están quitando mucha cuota en televisores premium, que son de lejos los más rentables.\\n\\nDe un 41% que tenía en este área a finales de 2023, Samsung cayó al 29% a finales de 2023, mientrasTCL y Hisense engordaban a marchas forzadas, llegando la primera incluso a superar a LG. Crecen a doble dígito en unidades distribuidas, pero algo menos en ingresos, lo que indica que están inundando el mercado con televisores más baratos que la competencia.\\n\\nSamsung lideró en miniLED, en pasado. La clave,según el analista Bob O\\'Briende Counterpoint, tiene que ver con la elección: \"los consumidores tienen que elegir entre un televisor OLED más pequeño o un televisor MiniLED más grande\". \"Un número cada vez mayor de consumidores elige MiniLED\", sentencia.', name='retrieve_blog_posts', id='20ad12a0-2f89-4d0d-beb7-61639727bf2e', tool_call_id='call_FnuENnFP4jIYuz5MHKawDKXY'),\n",
       "  HumanMessage(content='¿Qué estrategias ha utilizado Samsung para superar a Google en el mercado?', additional_kwargs={}, response_metadata={}, id='c10650bd-d83c-44aa-b0e1-ef89945169ff'),\n",
       "  AIMessage(content='Samsung ha implementado varias estrategias para mantenerse competitivo y superar a otros gigantes tecnológicos como Google en ciertos aspectos del mercado:\\n\\n1. **Innovación en Tecnología de Pantallas**: Samsung ha liderado en la producción de televisores y pantallas, especialmente en la tecnología miniLED, que ha superado en ventas a las OLED de Samsung y LG. Esto se debe a que los consumidores prefieren televisores más grandes con tecnología miniLED.\\n\\n2. **Apoyo Gubernamental**: El gobierno de Corea del Sur ha proporcionado subvenciones a Samsung, lo que ha fortalecido su posición en el mercado global. Además, las tensiones comerciales y políticas han favorecido a Samsung, especialmente con la posibilidad de que competidores como BOE enfrenten restricciones en mercados clave como Estados Unidos.\\n\\n3. **Alianzas Estratégicas**: Samsung ha formado pactos inesperados, como el mencionado con LG, para sacudir el mercado de los televisores y posiblemente otros sectores tecnológicos.\\n\\n4. **Diversificación de Productos**: Samsung ha mantenido una amplia gama de productos, desde dispositivos móviles hasta electrodomésticos y tecnología de pantallas, lo que le permite captar diferentes segmentos del mercado.\\n\\n5. **Adaptación a las Tendencias del Mercado**: Samsung ha sabido adaptarse a las tendencias del mercado, como el crecimiento de la demanda de televisores más grandes y con mejor tecnología, lo que le ha permitido mantener su liderazgo en ventas globales de televisores.\\n\\nEstas estrategias han permitido a Samsung no solo mantenerse competitivo, sino también superar a otros gigantes tecnológicos en ciertos aspectos del mercado.', additional_kwargs={'refusal': None}, response_metadata={'token_usage': {'completion_tokens': 321, 'prompt_tokens': 1195, 'total_tokens': 1516, 'completion_tokens_details': {'accepted_prediction_tokens': 0, 'audio_tokens': 0, 'reasoning_tokens': 0, 'rejected_prediction_tokens': 0}, 'prompt_tokens_details': {'audio_tokens': 0, 'cached_tokens': 0}}, 'model_name': 'gpt-4o-2024-08-06', 'system_fingerprint': 'fp_46bff0e0c8', 'id': 'chatcmpl-C9DF2IpTRn6BJwO2QbefR38joZhcG', 'service_tier': 'default', 'finish_reason': 'stop', 'logprobs': None}, id='run--6d8243b1-4fbc-4ff6-ba3d-36663c004182-0', usage_metadata={'input_tokens': 1195, 'output_tokens': 321, 'total_tokens': 1516, 'input_token_details': {'audio': 0, 'cache_read': 0}, 'output_token_details': {'audio': 0, 'reasoning': 0}})]}"
      ]
     },
     "execution_count": 35,
     "metadata": {},
     "output_type": "execute_result"
    }
   ],
   "source": [
    "graph.invoke(input)"
   ]
  },
  {
   "cell_type": "markdown",
   "id": "c69c18fa-b2ae-42a9-985a-44293080d78b",
   "metadata": {},
   "source": [
    "Notas para la reu: Definición rápida:\n",
    "Un agente en LangChain es una entidad capaz de razonar paso a paso, decidir qué herramientas o funciones usar, ejecutar acciones (como buscar información, hacer cálculos, llamar APIs, etc.), y combinar resultados para dar una respuesta final.\n",
    "\n",
    "¿En qué se diferencia de una simple cadena (\"chain\")?\n",
    "Chain: Es una secuencia fija de pasos (ej: extrae datos → llama a un LLM → genera texto).\n",
    "\n",
    "Agente: Toma decisiones sobre qué hacer en cada paso, según el contexto y los resultados anteriores. Puede elegir diferentes herramientas, iterar, preguntar, buscar, etc. No sigue una ruta fija.\n",
    "\n",
    "¿Cómo funciona un agente en LangChain?\n",
    "Recibe una pregunta o tarea.\n",
    "\n",
    "El LLM interpreta la tarea y decide cuál (o cuáles) herramientas necesita para resolverla (por ejemplo: buscar en Google, consultar una base de datos, hacer cálculos, etc.).\n",
    "\n",
    "Ejecuta acciones: llama a la(s) herramienta(s), analiza los resultados, decide si necesita más pasos.\n",
    "\n",
    "Itera hasta tener suficiente información.\n",
    "\n",
    "Redacta la respuesta final al usuario.\n",
    "\n",
    "https://langchain-ai.github.io/langgraph/tutorials/rag/langgraph_agentic_rag/\n",
    "\n"
   ]
  }
 ],
 "metadata": {
  "kernelspec": {
   "display_name": "Python 3 (ipykernel)",
   "language": "python",
   "name": "python3"
  },
  "language_info": {
   "codemirror_mode": {
    "name": "ipython",
    "version": 3
   },
   "file_extension": ".py",
   "mimetype": "text/x-python",
   "name": "python",
   "nbconvert_exporter": "python",
   "pygments_lexer": "ipython3",
   "version": "3.12.8"
  }
 },
 "nbformat": 4,
 "nbformat_minor": 5
}
