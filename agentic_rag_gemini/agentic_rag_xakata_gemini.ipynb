{
 "cells": [
  {
   "cell_type": "markdown",
   "id": "99f10bce-0260-47e1-b57b-616b86754ed1",
   "metadata": {},
   "source": [
    "Set Up for the Agentic Rag"
   ]
  },
  {
   "cell_type": "code",
   "execution_count": 1,
   "id": "5854c410-d7cb-4e31-ac16-99d7826b918b",
   "metadata": {},
   "outputs": [
    {
     "name": "stdout",
     "output_type": "stream",
     "text": [
      "Note: you may need to restart the kernel to use updated packages.\n"
     ]
    }
   ],
   "source": [
    "pip install -U --quiet langgraph langchain-community langchain-text-splitters langchain-google-genai"
   ]
  },
  {
   "cell_type": "code",
   "execution_count": 2,
   "id": "d75c8330-3f9c-4d8a-8da8-dc957e3056f6",
   "metadata": {},
   "outputs": [
    {
     "name": "stdout",
     "output_type": "stream",
     "text": [
      "✅ Claves cargadas correctamente\n"
     ]
    }
   ],
   "source": [
    "# Importamos librerías necesarias\n",
    "import os\n",
    "from dotenv import load_dotenv\n",
    "\n",
    "# Cargamos variables de entorno\n",
    "dotenv_path = load_dotenv()\n",
    "\n",
    "# Leemos las claves\n",
    "token_gemini = os.getenv(\"GOOGLE_API_KEY\")\n",
    "token_tavily = os.getenv(\"TAVILY_API_KEY\")\n",
    "\n",
    "# Verificar que las claves existen\n",
    "if not token_gemini:\n",
    "    raise ValueError(\"❌ Falta la clave GOOGLE_API_KEY en el archivo .env\")\n",
    "\n",
    "if not token_tavily:\n",
    "    raise ValueError(\"❌ Falta la clave TAVILY_API_KEY en el archivo .env\")\n",
    "\n",
    "print(\"✅ Claves cargadas correctamente\")"
   ]
  },
  {
   "cell_type": "markdown",
   "id": "ad1ab0d4-93bb-48c8-8828-493817400556",
   "metadata": {},
   "source": [
    "## 1 Preprocess the Documents"
   ]
  },
  {
   "cell_type": "markdown",
   "id": "633f19e8-5712-4071-9018-0c7d4e1b2eab",
   "metadata": {},
   "source": [
    "### 1. Scrap Xakata Web Site"
   ]
  },
  {
   "cell_type": "code",
   "execution_count": 3,
   "id": "684987fc-04e8-42f6-9530-dcb2fda556a7",
   "metadata": {},
   "outputs": [
    {
     "name": "stdout",
     "output_type": "stream",
     "text": [
      "Se han encontrado 335 sitemaps.\n",
      "Ejemplo: ['https://www.xataka.com/categoria/default/sitemap.xml', 'https://www.xataka.com/categoria/otros/sitemap.xml', 'https://www.xataka.com/categoria/moviles/sitemap.xml']\n",
      "\n",
      "Se han filtrado 7 sitemaps relevantes.\n",
      "Ejemplo: ['https://www.xataka.com/categoria/moviles/sitemap.xml', 'https://www.xataka.com/categoria/ordenadores/sitemap.xml', 'https://www.xataka.com/categoria/videojuegos/sitemap.xml']\n",
      "Procesando https://www.xataka.com/categoria/moviles/sitemap.xml\n",
      "Procesando https://www.xataka.com/categoria/ordenadores/sitemap.xml\n",
      "Procesando https://www.xataka.com/categoria/videojuegos/sitemap.xml\n",
      "Procesando https://www.xataka.com/categoria/perifericos/sitemap.xml\n",
      "Procesando https://www.xataka.com/categoria/televisores/sitemap.xml\n",
      "Procesando https://www.xataka.com/categoria/componentes/sitemap.xml\n",
      "Procesando https://www.xataka.com/categoria/inteligencia-artificial/sitemap.xml\n",
      "\n",
      "Total artículos únicos extraídos: 60\n",
      "{'url': 'https://www.xataka.com/analisis/apple-iphone-17-analisis-caracteristicas-precio-especificaciones', 'category': 'analisis'}\n",
      "{'url': 'https://i.blogs.es/6a6f2f/img_0277/650_1200.jpeg', 'category': '6a6f2f'}\n",
      "{'url': 'https://www.xataka.com/analisis/apple-iphone-air-analisis-review-caractersticas-precio-especificaciones', 'category': 'analisis'}\n",
      "\n",
      "Total artículos correctamente scrapeados: 30\n",
      "- iPhone 17, análisis: el mejor iPhone base que Apple ha hecho en años (analisis)\n",
      "- iPhone Air, análisis: el iPhone más delgado hasta la fecha me ha callado la boca (analisis)\n",
      "- Xiaomi 17, 17 Pro y 17 Pro Max: la pantalla trasera quiere ser el golpe de efecto para plantar cara al iPhone (moviles)\n",
      "- Google cree tener la llave para competir con Windows, Linux y macOS en portátiles. Esa llave se llama Android (ordenadores)\n",
      "- Xiaomi 15T y Xiaomi 15T Pro: los nuevo gama alta \"económicos\" de Xiaomi presumen de cámaras Leica y zoom óptico (moviles)\n",
      "- El rey de los ratones ya tiene sucesor: el Logitech MX Master 4 añade la respuesta háptica a su arsenal (perifericos)\n",
      "- El puerto USB-A ha desaparecido de los portátiles. Los fabricantes de periféricos parecen no haberse enterado (ordenadores)\n",
      "- Windows 10 iba a morir el mes que viene. Microsoft acaba de tirar un salvavidas a todos los que querían seguir usándolo (ordenadores)\n",
      "- La Raspberry Pi 500+ es un fantástico homenaje moderno al ZX Spectrum. Uno con el teclado mecánico como protagonista (ordenadores)\n",
      "- \"Funcionaba en cualquier ordenador\": el principal trabajo del creador de 'DOOM' sigue siendo explicar cómo demonios existe 'DOOM' (videojuegos)\n"
     ]
    }
   ],
   "source": [
    "import requests\n",
    "from bs4 import BeautifulSoup\n",
    "from urllib.parse import urljoin, urlparse\n",
    "from langchain_core.documents import Document\n",
    "from time import sleep\n",
    "\n",
    "from typing import List, Set\n",
    "\n",
    "import requests\n",
    "from bs4 import BeautifulSoup\n",
    "\n",
    "# --------------------------------------\n",
    "# 1. Leer el sitemap_index.xml\n",
    "# --------------------------------------\n",
    "\n",
    "def get_category_sitemaps(index_url=\"https://www.xataka.com/sitemap_index.xml\"):\n",
    "    headers = {\"User-Agent\": \"XaviBot/1.0\"}\n",
    "    response = requests.get(index_url, headers=headers)\n",
    "    soup = BeautifulSoup(response.content, \"xml\")\n",
    "\n",
    "    sitemaps = [loc.get_text() for loc in soup.find_all(\"loc\")]\n",
    "    return sitemaps\n",
    "\n",
    "category_sitemaps = get_category_sitemaps()\n",
    "print(f\"Se han encontrado {len(category_sitemaps)} sitemaps.\")\n",
    "print(\"Ejemplo:\", category_sitemaps[:3])\n",
    "\n",
    "# --------------------------------------\n",
    "# 2. Filtrar solo las categorías importantes\n",
    "# --------------------------------------\n",
    "\n",
    "important_categories = [\n",
    "    \"moviles\", \"portatiles\", \"ordenadores\", \"componentes\",\n",
    "    \"perifericos\", \"televisores\", \"software\", \"internet\",\n",
    "    \"inteligencia-artificial\", \"videojuegos\", \"gadgets\"\n",
    "]\n",
    "\n",
    "filtered_sitemaps = [\n",
    "    url for url in category_sitemaps\n",
    "    if any(f\"/{cat}/\" in url for cat in important_categories)\n",
    "]\n",
    "\n",
    "print(f\"\\nSe han filtrado {len(filtered_sitemaps)} sitemaps relevantes.\")\n",
    "print(\"Ejemplo:\", filtered_sitemaps[:3])\n",
    "\n",
    "# --------------------------------------\n",
    "# 3. Extraer URLs de artículos desde los sitemaps\n",
    "# --------------------------------------\n",
    "\n",
    "def get_articles_from_category_sitemap(sitemap_url, max_articles=10):\n",
    "    headers = {\"User-Agent\": \"XaviBot/1.0\"}\n",
    "    response = requests.get(sitemap_url, headers=headers)\n",
    "    soup = BeautifulSoup(response.content, \"xml\")\n",
    "\n",
    "    urls = [loc.get_text() for loc in soup.find_all(\"loc\")]\n",
    "    return urls[:max_articles]\n",
    "\n",
    "all_articles = []\n",
    "seen_urls = set()\n",
    "\n",
    "for sitemap_url in filtered_sitemaps:\n",
    "    print(f\"Procesando {sitemap_url}\")\n",
    "    articles = get_articles_from_category_sitemap(sitemap_url, max_articles=10)\n",
    "\n",
    "    for url in articles:\n",
    "        if url not in seen_urls:\n",
    "            category = url.split(\"/\")[3] if len(url.split(\"/\")) > 3 else \"desconocida\"\n",
    "            all_articles.append({\n",
    "                \"url\": url,\n",
    "                \"category\": category\n",
    "            })\n",
    "            seen_urls.add(url)\n",
    "    sleep(0.5)  # ser amable con el servidor\n",
    "\n",
    "print(f\"\\nTotal artículos únicos extraídos: {len(all_articles)}\")\n",
    "for a in all_articles[:3]:\n",
    "    print(a)\n",
    "\n",
    "# --------------------------------------\n",
    "# 4. Scraping del contenido: title + text\n",
    "# --------------------------------------\n",
    "\n",
    "def scrape_article(url, category):\n",
    "    headers = {\"User-Agent\": \"XaviBot/1.0\"}\n",
    "    try:\n",
    "        \n",
    "        response = requests.get(url, headers=headers, timeout=10)\n",
    "        response.encoding = 'utf-8' # <-- aquí el fix\n",
    "\n",
    "        if response.status_code != 200:\n",
    "            return None\n",
    "\n",
    "        soup = BeautifulSoup(response.text, \"html.parser\")\n",
    "\n",
    "        title_tag = soup.find(\"h1\")\n",
    "        paragraphs = soup.find_all(\"p\")\n",
    "\n",
    "        if not title_tag or not paragraphs:\n",
    "            return None\n",
    "\n",
    "        title = title_tag.get_text(strip=True)\n",
    "        content = \"\\n\\n\".join([p.get_text(strip=True) for p in paragraphs])\n",
    "\n",
    "        return {\n",
    "            \"url\": url,\n",
    "            \"title\": title,\n",
    "            \"content\": content,\n",
    "            \"category\": category\n",
    "        }\n",
    "    except Exception as e:\n",
    "        print(f\"❌ Error en {url}: {e}\")\n",
    "        return None\n",
    "\n",
    "# Ejecutar scraping de todos los artículos\n",
    "scraped_articles = []\n",
    "\n",
    "for article in all_articles:\n",
    "    result = scrape_article(article[\"url\"], article[\"category\"])\n",
    "    if result:\n",
    "        scraped_articles.append(result)\n",
    "\n",
    "print(f\"\\nTotal artículos correctamente scrapeados: {len(scraped_articles)}\")\n",
    "for a in scraped_articles[:10]:\n",
    "    print(f\"- {a['title']} ({a['category']})\")\n",
    "\n",
    "\n"
   ]
  },
  {
   "cell_type": "markdown",
   "id": "22b8083d-e798-4c6f-b8f8-875a54c99eeb",
   "metadata": {},
   "source": [
    "### 2. Convertimos los documentos extraidos al formato Document que espera el Splitter"
   ]
  },
  {
   "cell_type": "code",
   "execution_count": 4,
   "id": "48a56dba-0673-4e84-aa58-eba0d33e2fa8",
   "metadata": {},
   "outputs": [],
   "source": [
    "from langchain_core.documents import Document\n",
    "\n",
    "documents = [\n",
    "    Document(\n",
    "        page_content=article[\"content\"],\n",
    "        metadata={\n",
    "            \"title\": article[\"title\"],\n",
    "            \"url\": article[\"url\"],\n",
    "            \"category\": article[\"category\"]\n",
    "        }\n",
    "    )\n",
    "    for article in scraped_articles\n",
    "]"
   ]
  },
  {
   "cell_type": "code",
   "execution_count": 5,
   "id": "66f0499e-a10e-4e1a-97d2-1ac37f96987b",
   "metadata": {},
   "outputs": [
    {
     "data": {
      "text/plain": [
       "Document(metadata={'title': 'iPhone 17, análisis: el mejor iPhone base que Apple ha hecho en años', 'url': 'https://www.xataka.com/analisis/apple-iphone-17-analisis-caracteristicas-precio-especificaciones', 'category': 'analisis'}, page_content=\"Antonio Vallejo\\n\\nAntonio Vallejo\\n\\nCuando terminó la presentación en la que vimos al completotoda la familia de nuevos dispositivos, me rondaba un pensamiento que, incluso tras haber estado ya un buen tiempo con el iPhone 17, sigo manteniendo: Apple ha diseñado el mejor modelo base de su familia en años. Y lo ha hecho manteniendo prácticamente el mismo aspecto superficial de losiPhone 16, con cambios aquí y allá. Lo verdaderamente importante está en el interior, y ahí es donde Apple ha dadoel auténtico empujeque necesitaba su línea de dispositivos ‘no-Pro’. Bajo estas líneas te explico mi experiencia tras varios días de uso intensivo con el terminal.\\n\\n\\n\\nIPHONE 17\\n\\npantalla\\n\\nLTPO OLED de 120 Hz, 6,3 pulgadas (460 ppp)\\n\\nResolución de 2.622 x 1.206p\\n\\nHDR\\n\\nTrue Tone\\n\\nBrillo pico máximo de 3.000 nits (1.000 nits típico)\\n\\nDimensiones y peso\\n\\n149,6 x 71,5 x 8 mm\\n\\n177 gramos\\n\\nPROCESADOR\\n\\nApple A19\\n\\nram\\n\\n8 GB\\n\\nALMACENAMIENTO\\n\\n256 GB / 512 GB\\n\\nCÁMARAS TRASERAS\\n\\nPrincipal: 48 MP, f/1.6, OIS por desplazamineto del sensor\\n\\nUltra gran angular: 48 MP, 13 mm, f/2.2, 120 grados\\n\\nZoom 2x\\n\\nCÁMARA FRONTAL\\n\\n18 megapíxeles, f/1.9, 20 mm (ultrawide) con autoenfoque\\n\\nbatería\\n\\n3.692 mAh\\n\\nPD3.2, Carga rápida, Carga inalámbrica MagSafe\\n\\nsistema operativo\\n\\niOS 26\\n\\nconectividad\\n\\n5G\\n\\nWiFi 7\\n\\nBluetooth 6\\n\\nGPS\\n\\nNFC\\n\\nNano SIM + eSIM (hasta dos eSIM al mismo tiempo)\\n\\nUWB\\n\\nPuerto USB-C\\n\\nUSB 2 (hasta 480 Mbps)\\n\\notros\\n\\nCertificación IP68\\n\\nEmergencia SOS\\n\\nDetección de accidentes\\n\\nFace ID\\n\\nControl de Cámara\\n\\nBotón de acción\\n\\nprecio\\n\\nDesde959 euros\\n\\niPhone 17 de 256 GB: Pantalla de 6,3 Pulgadas con Promotion, Chip A19, cámara Frontal Center Stage, Mayor Resistencia a los arañazos, autonomía para el día Entero; Negro\\n\\nTal y como hemos mencionado en la introducción, el iPhone 17 mantiene la filosofía de diseño que conocemos del iPhone 16, una decisión que contrasta más que nunca con el diseño de losiPhone 17 Pro, que nada tienen que ver respecto a sus predecesores. Mientras que el Pro y Pro Max estrenan diseñounibodyde aluminio con una ventana trasera de cristal (para permitir correctamente la carga inalámbrica), el modelo baseconserva el panel de vidrio completoque hemos estado viendo a lo largo de los últimos años.\\n\\nLa construcción transmite inmediatamente una sensación de estar ante un dispositivo de rango premium, algo a lo que Apple ya nos tiene acostumbrados. El chasis de aluminio combina bordes redondeados que resultan cómodos en la palma de la mano, con laterales planos que logran mantener la estética industrial del dispositivo. El marco metálico se integra perfectamente con el panel trasero, ofreciendo uniformidad. Como se puede comprobar en las imágenes, en este sentido hay poco que mencionar al respecto, pues el diseño es muy similar a su predecesor.\\n\\nEste año, Apple ha renovado su paleta de colores con opciones más suaves y sofisticadas. Además de los clásicos negro y blanco, encontramos versiones en azul, lavanda y verde, siendo esta última la que hemos tenido en nuestras manos. Como suele ser habitual en los modelos que no son Pro, los tonos tiran más por el pastel, alejándose de colores demasiado llamativos. Y en lo que respecta a la isla de cámaras, ésta adopta un tono más intenso del color principal, ofreciendo una vista general muy atractiva y elegante sin excederse.\\n\\nEl tamaño del modelo base ahora es mayor, aunqueel aumento de peso es apenas perceptible: 177 gramosfrente a los 170 del iPhone 16. Este incremento se explica por el aumento del panel y sobre todo se justifica cuando tenemos presentes todas las mejoras que incorpora.\\n\\nLos marcos alrededor de la pantalla se han reducido significativamente respecto a la generación anterior, un cambio que se aprecia incluso sin tener el iPhone 16 al lado para comparar. Esto hace quela pantalla pase de 6,1 a 6,3 pulgadassin que las dimensiones del teléfono aumenten dramáticamente. No son las 6,7 pulgadas deliPhone 16 Pluspero así Apple hace que nadie eche de menos esa versión para hacerle hueco aliPhone Airen el maldito puesto delcuarto iPhone.\\n\\n\\n\\nEn el frontal conservamosla isla dinámicaque integrael nuevo sensor selfiede 18 megapíxeles junto al sistema de reconocimiento facialFace ID. Los sensores de proximidad y luz ambiental también se ubican en esta zona, mientras que el software aporta el resto para disfrazar lo mejor posible el hueco que deja la isla dinámica con fantásticas animaciones y utilidades del sistema.\\n\\nNingún cambio si hablamos de botones físicos, respecto a su predecesor. En el lateral derecho encontramos el botón de encendido, y justo debajoel botón de Control de Cámaraque hizo su primera aparición en los iPhone 16. En el lado opuesto se sitúael botón de acciónprogramable, seguido de los controles de volumen y, más abajo, la bandeja para tarjeta Nano-SIM.\\n\\nDependiendo del país donde se haya adquirido el terminal, el dispositivo solo podrá funcionar únicamente medianteeSIM(como es el caso de Estados Unidos). En Europa seguimos contando con bandeja para tarjetas Nano SIMa excepción del iPhone Air, que solamente ofrece soporte exclusivo de eSIM. Apple asegura que la versión compatible únicamente con eSIM es más eficiente, ofreciendo mayor autonomía.\\n\\nEn la parte inferior contamos con el puertoUSB-C, el micrófono principal y uno de los altavoces estéreo. El segundo altavoz se encuentra en el auricular frontal, completando la configuración de audio dual.\\n\\nEn cuanto a materiales utilizados para su construcción, el marco de aluminio proporciona rigidez estructural, mientras que el frontal incorporaCeramic Shield 2con resistencia mejorada a arañazos y caídas. El panel trasero utiliza una variante de Ceramic Shield que, según Apple, ofrece hasta cuatro veces más resistencia a roturas que su predecesor. No me he atrevido a probar su resistencia, pero si Apple quiere enviarnos otra unidad para esta clase de pruebas, dejamos la puerta abierta.\\n\\nEl marco de aluminio tiende a acumular huellas con facilidad, pero el panel trasero con acabado en vidrio resiste mucho mejor las marcas de dedos y resulta más sencillo de mantener limpio. Por otro lado, lacertificación IP68garantiza protección contra polvo e inmersión en hasta seis metros de agua dulce durante treinta minutos.\\n\\nLa pantalla representa sin duda la mejora más significativa del iPhone 17 respecto a su predecesor. Apple ha equipado finalmente el modelo base conun panel LTPO Super Retina XDR OLED de 6,3 pulgadasque incorpora la tecnologíaProMotion, eliminando una de las diferencias más frustrantes que separaban históricamente las versiones estándar de las Pro.\\n\\nEl salto cualitativo es enorme. Si ya has experimentado la fluidez que aportan esos 120 Hz, que Apple los introdujo desde eliPhone 13 Pro, el tema no cambia mucho en este aspecto, pero si vienes de un dispositivo con pantalla de 60 Hz, la evolución se agradece. Android ha imperado en el segmento de los dispositivos con paneles de 120 Hz incluso en terminales relativamente económicos, por eso Apple lo ha tenido difícil para justificar cómo un dispositivo de 1.000 euros no ofrecía esta característica hasta ahora.\\n\\nLa tecnología LTPO permite que la frecuencia de refrescose ajuste dinámicamente entre 1 y 120 Hzsegún el contenido mostrado, optimizando el consumo energético sin sacrificar suavidad visual. Esto se nota sobre todo al navegar por menús, desplazarse por redes sociales o interactuar con las animaciones del sistema. En juegos es algo más complicado, porque no todos ofrecen compatibilidad con esta tasa de refresco, pero desde luego ayuda. Apple no ofrece una opción para forzar esos 120 Hz continuamente, pero tampoco la he echado en falta viendo el excelente funcionamiento del panel.\\n\\n\\n\\nLa pantalla alcanza una resolución de 2.622 x 1.206 píxeles en formato 19,5:9, lo que se traduce en una densidad de aproximadamente 460 píxeles por pulgada. Ofrecela misma resolución que los modelos Pro, y lo cierto es que la nitidez que aporta el panel es excelente para cualquier tipo de contenido, desde texto hasta fotografías o vídeos en alta definición.\\n\\nEn términos de brillo, Apple promete cifras impresionantes sobre el papel: 1000 nits en uso típico, 1600 nits en modo de alto brillo (HBM) y picos de hasta 3000 nits en una porción minúscula de la pantalla. En la práctica,la experiencia de uso en exteriores es más que satisfactoria, gracias también al tratamiento antirreflejos de la superficie.\\n\\nEl terminal se puede utilizar sin problemas bajo luz solar directa, pero cabe mencionar que no lidera en este apartado. Apple ha tenido que hacer malabares para ajustar la gestión térmica y energética del dispositivo para priorizar la autonomía mientras usamos el móvil con el brillo al máximo, de ahí que, en cuanto a entrega de brillo máxima, se trate de un dispositivo más conservador que otros.\\n\\nPara visualización de contenidoHDR, el panel soporta tantoHDR10 como Dolby Vision, y Apple mantiene su sistema de reproducción HDR sin que se requiera que el contenido esté a pantalla completa para activarse, funcionando muy bien incluso en ventanas flotantes o en multitarea.\\n\\nLa llegada de la tecnología LTPO también permite finalmente que Apple implemente la opción de pantalla siempre activa (Always On Display) en el modelo base. Esta función, que ya disfrutaban los Pro desde hace generaciones, muestra información relevante como hora, widgets y notificaciones sin necesidad de despertar completamente el dispositivo. Es una función práctica en el día a día pero, personalmente, me gusta tenerla desactivada. Incluso deshabilito la opción de encender la pantalla cuando detecta movimiento. Menos intoxicación digital y más control para encender la pantalla solamente cuando yo quiera. Costumbres raras.\\n\\nEl sistema de altavoces estéreo híbrido emplea el auricular frontal como un canal y el altavoz inferior como el otro. La calidad del audiosigue siendo excelente, en la línea del iPhone 16, con un sonido nítido, balanceado y buena entrega en los graves. Los altavoces ofrecen cuerpo y buen detalle en frecuencias medias y bajas. Todo hace que reproducir cualquier contenido multimedia a través de los altavoces sea una grata experiencia.\\n\\nEl volumen máximo es lo suficientemente adecuado para uso personal, aunque puede quedarse algo justo en entornos más ruidosos. Pocos avances en este apartado respecto al ya excelente apartado sonoro del iPhone 16 y modelos previos.\\n\\nEl iPhone 17 incorpora el nuevo procesador Apple A19 fabricado en proceso de 3 nanómetros. Y bueno, no esel A19 Prodel iPhone 17 Pro, Pro Max y Air, pero seguimos hablando de un procesador de corte premium con grandes capacidades. \\xa0Aunque Apple mantiene su tradicional hermetismo sobre especificaciones exactas, las filtraciones y análisis técnicos apuntan a que los dos núcleos de alto rendimiento alcanzanfrecuencias de hasta 4,26 GHzy sus cuatro núcleos de eficiencia parten de los 2,6 GHz.\\n\\nTambien sabemos que la GPU integrada cuenta con cinco núcleos,uno menos que los seis del A19 Pro. Esta diferencia, junto con los 8 GB de RAM frente a los 12 GB de las versiones Pro, marca las principales distinciones entre ambos procesadores. No obstante, cabe mencionar que para la inmensa mayoría de tareas cotidianas, la diferencia resulta imperceptible.\\n\\n\\n\\nEn nuestras pruebas de rendimiento con Geekbench 6 y 3DMark, el dispositivo alcanzó cifras excelentes que reflejanla potencia bruta del A19frente al resto de modelos. No son diferencias que notarás a primera vista si vienes de uniPhone 16 Pro, ni siquiera de uniPhone 15 Pro, pero es una mejora notable para que el rendimiento del sistema brille tanto en nuestras tareas del día a día como en juegos y reproducción de contenido.\\n\\nDurante estos días de pruebas intensivas, el rendimiento en juegos ha resultado magnífico. Títulos exigentes como 'Zenless Zone Zero' o 'Resident Evil Village' se ejecutan con gran fluidez en una configuración de gráficos al máximo detalle. Sin embargo, aquí aparece el principal talón de Aquiles del iPhone 17:el calentamiento. Aquí no haycámara de vapor, como en los modelos Pro, por lo que el modelo base debe conformarse con soluciones térmicas pasivas más convencionales.\\n\\n\\n\\niphone 17\\n\\niPhone Air\\n\\niPhone 17 Pro MAX\\n\\ngoogle pixel 10 pro xl\\n\\nSAMSUNG GALAXY S25 ULTRA\\n\\nOPPO FIND X8 PRO\\n\\nPROCESAdOR\\n\\nA19\\n\\nA19 Pro (un núcleo menos en la GPU)\\n\\nA19 Pro\\n\\nTensor G5\\n\\nQualcomm Snapdragon 8 Elite\\n\\nMediaTek Dimensity 9400\\n\\nRAM\\n\\n8 GB\\n\\n12 GB\\n\\n12 GB\\n\\n16 GB\\n\\n12 GB\\n\\n16 GB\\n\\nGEEKBENCH 6 (SINGLE/MULTI)\\n\\n3.653 / 9.225\\n\\n3.752 / 9432\\n\\n3.750 / 9.731\\n\\n2.279 / 5.364\\n\\n3.851 / 9.451\\n\\n2.685 / 8.398\\n\\n3D MARK Wild Life Unlimited\\n\\n19.409\\n\\n21.323\\n\\n25.146\\n\\n\\n\\n12.940\\n\\n23.731\\n\\n22.312\\n\\n3D MARK Wild Life Stress Unlimited\\n\\n20.955 / 14.665\\n\\n20.765 / 12.185\\n\\n26.091 / 17.919\\n\\n12.583 / 6.023\\n\\n23.965 / 19.531\\n\\n23.330 / 18.964\\n\\nPCMARK WORK\\n\\n-\\n\\n-\\n\\n-\\n\\n13.935\\n\\n25.251\\n\\n16.738\\n\\n\\n\\nDurante sesiones prolongadas de juego o tareas exigentes que estresan especialmente la GPU, el dispositivose calienta considerablementeen la zona trasera, llegando a resultar incómodo de sostener. Este calentamiento provoca que el sistema active mecanismos de protección térmica, reduciendo progresivamente el rendimiento para controlar la temperatura.\\n\\nEl ‘Thermal Throttling’ es el enemigo público de los dispositivos sin solución activa de refrigeración, por lo que en sesiones extensas se pierde una porción significativa de las prestaciones del chip. No obstante, la caída es gradual, sin bajones bruscos que arruinen la experiencia. Durante estos días he podido jugar en sesiones de hora y media aproximadamente y, a pesar de que la parte trasera achicharraba, el rendimiento seguía siendo excepcional. Si juegas mucho en móvil, para mí es imprescindible un mando.\\n\\n\\n\\nOtro apunte que mejora respecto a modelos anteriores es queel almacenamiento interno parte de 256 GBen la configuración base, doblando los 128 GB del iPhone 16 al mismo precio de lanzamiento. 128 GB pueden quedarse cortos para gente que utiliza mucho la cámara del móvil, ya que las resoluciones de foto y vídeo que maneja el terminal no son moco de pavo. También para gente que descarga aplicaciones a mansalva. La memoria además utiliza tecnología NVMe extremadamente rápida.\\n\\nSi bien Apple tardó en implementar el conector USB-C en sus terminales, parece que también se tomará su tiempo en lo que a protocolos de transferencia se refiere. Y es queel iPhone 17 es compatible solamente con velocidades de USB 2.0, es decir, hasta 480 Mbps. El estándarUSB 3con velocidades de hasta 10 Gbps se queda solamente en los modelos Pro. Por lo tanto, si usas la transferencia de datos mediante cable a menudo, con archivos pesados como vídeos y demás, es algo molesto. Más aún pensando que en 2025 Apple sigue en las mismas en este aspecto.\\n\\nEl iPhone 17 integra una batería de 3692 mAh, ligeramente superior a los 3.561 mAh del iPhone 16. Aunque la pequeña diferencia entre ambas cifras no es lo importante, ya que en el primero contamos con una pantalla superior en tamaño. En la práctica,las cifras nos han dado muy buenas sensaciones, ya que hemos obtenido hasta 6 horas y 39 minutos de pantalla activa en ciclos de carga donde hemos utilizado el móvil de manera intensiva, con hasta hora y media de juego sin interrupciones, reproducción de vídeo, redes sociales, cámara, etc.\\n\\nPara aquellas personas que usen menos el teléfono, puede aguantar fácilmente día y medio sin esfuerzo. Las cifras son algo superiores a las que hacía su predecesor. Y eso es bueno, ya que aquí tenemos la contra del panel de 120 Hz, que aunque eficiente, es un elemento más a tener en cuenta para su consumo.\\n\\n\\n\\nLa velocidad de carga ha experimentado mejoras, como por ejemplo la compatibilidad con el estándar AVS (Adjustable Voltage Standard) dentro del protocolo USB Power Delivery 3.2, permitiendo cargas más rápidas con adaptadores compatibles. En mi caso he utilizado tanto el cargador de miMacbook Air M2como el Warp Charge de OnePlus de 65 vatios.\\n\\nCon el medidor de unenchufe inteligente, comprobamos que en ambos casos carga con una potencia de 30 vatios máximo, decreciendo un poco conforme se iba completando la carga. En nuestras pruebas hemos conseguido un 18% de carga en 10 minutos, alcanzando el 50% en 23 minutos.La carga completa de 0 a 100 requiere 1 hora y 30 minutos aproximadamente.\\n\\nLa carga inalámbrica alcanza los 25 vatios medianteMagSafeo Qi2, con Apple prometiendo un 50% de batería en 30 minutos sobre base compatible. El terminal también soporta carga inversa por cable a 4,5 vatios, útil para emergencias con accesorios.\\n\\nEl iPhone 17 arranca coniOS 26preinstalado, la última versión del sistema operativo de Apple que introduce el nuevo lenguaje de diseñoLiquid Glass. El salto numérico, de iOS 18 a 26, responde a la unificación de nomenclatura con el resto de sistemas operativos de Apple, alineándose con el año.\\n\\nLiquid Glass representa la mayor renovación visual de iOS en años, inspirándose claramente en visionOS. Hay quienes tambiénpiensan en Windows Vistacuando lo ven, opinión que puedo llegar a compartir. La interfaz completa adopta elementos cristalinos y líquidos según se mire (no se han complicado demasiado con el nombre), con una respuesta táctil más dinámica y animaciones más elaboradas que en versiones anteriores. No soy muy fan del diseño general del nuevo sistema operativo por cuestiones que explico más abajo, perola sensación que da al interactuar con cualquier elemento del sistema es bastante gustosa.\\n\\n\\n\\nLa personalización también alcanza niveles inéditos para iOS. Los iconos de aplicaciones pueden ampliarse ocultando sus nombres, podemos aplicar colores uniformes en ellos, alternar entre temas claro y oscuro, e incluso adoptar un aspecto monocromo con el estilo propio de Liquid Glass, aunque esta última opción no resulta muy práctica.\\n\\nLos widgets también reciben actualizaciones visuales manteniéndose apilables como en versiones anteriores. Y las pantallas de bloqueo y principal lucen ahora el acabado Liquid Glass con mayor capacidad de personalización. El widget de hora es redimensionable y se adapta de manera inteligente a las fotos y notificaciones entrantes. Apple añade además nuevas escenas espaciales que aportan efecto tridimensional a los fondos de pantalla, aumentando la sensación de profundidad.\\n\\nNumerosas aplicaciones del sistema han sido rediseñadas, como es el caso de Fotos, Safari, FaceTime, Teléfono y demás. En esta última app también contamos confunciones para combatir activamente el spam, algo que se agradece hoy día. Además, la nueva aplicación de Juegos centraliza todo lo relacionado con videojuegos, permitiendo explorar cualquier juego que se encuentre disponible en la App Store, conectar con amigos y lanzar juegos directamente. Es un intento de tener unificados todos nuestros juegos, aunque en la realidad no aporta mucha utilidad.\\n\\n\\n\\nTras varios días usando iOS 26,las sensaciones que me da han sido mixtas. De prestaciones va bien cargado y el sistema cuenta con mayor fluidez que nunca, algo apoyado por mejores animaciones, pero entiendo a aquellos que no les ha acabado convenciendo el diseño de Liquid Glass. Aunque aporta mayor personalización en iconos e interfaz con animaciones vistosas y funciones útiles, su ejecución deja que desear.\\n\\nLastransparencias mezcladas con fondos difuminadosy el diseño general crean cierta sensación caótica que resta la limpieza y simetría por la que iOS suele ser conocido. También hay botones y controles que pueden resultar confusos o poco intuitivos. Todo ello mientras se ha exagerado en líneas generales el tamaño de las interfaces para simplificarlo todo. Además, Liquid Glass continúa con carencias fundamentales como la gestión de archivos, que continúa siendo una pesadilla en iOS.\\n\\nEl iPhone 17 llega al mercado conApple Intelligencedisponible en la mayoría de regiones, Europa incluida, algo queno ocurrió con el iPhone 16. Las funcionalidades principales ya están operativas: Visual Intelligence, Herramientas de escritura, Playground oChatGPT integrado en Siri.\\n\\nVisual Intelligence es la respuesta de Apple aCircle to Searchde Google, permitiendo buscar cualquier elemento en pantalla. Basta con tomar una captura de pantalla y seleccionar el elemento del que deseamos realizar una búsqueda o saber más de él. La verdad es quefunciona bien e incluye extracción de textopor medio de ChatGPT, pero el uso resulta de momento menos inmediato que la alternativa de Google.\\n\\nLas herramientas de escritura se encuentran en el menú contextual que aparece al dejar pulsado cualquier texto y ayudan a redactar y corregir con sugerencias contextuales razonables. La eficacia dePlaygroundpara generar imágenes mediante inteligencia artificial sigue siendo deficiente, mientras que la integración de ChatGPT en Siri mejora las respuestas a consultas complejas, perola implementación sigue siendo una solución temporalque una estrategia a largo plazo.\\n\\nTodas estas funciones son prácticamente las mismas desde la salida del iPhone 16, por lo queApple Intelligence sigue en pausay de momento resulta una decepción. Hay funciones que están bien y pueden resultar útiles ocasionalmente, pero la IA en iOS deja aún mucho que desear. Las opciones son limitadas, en parte por cómo Apple protege su ecosistema frente a modelos de lenguaje de terceros, al carecer todavía de modelo propio competitivo. Por otro lado también es ejemplar que se pueda usar un modelo de lenguaje en local y tenga un enfoque tan basado en la privacidad, pero en cuanto a opciones y a capacidades de uso real de momento va varios pasos por detrás de la competencia.\\n\\nEl apartado fotográfico del iPhone 17 trae actualizaciones significativas, especialmente en el sensor gran angular y la cámara frontal, mientras que la principal se mantiene apenas sin cambios sustanciales por tercer año consecutivo.\\n\\nEl sistema de cámaras del iPhone 17 lo protagonizan:\\n\\n\\n\\nLa configuración de cámara principalrepite esquema por tercer año. Los cambios en los sensores de las cámaras suelen ser muy controlados por parte de Apple. Ya en el iPhone 16 Pro pedíamos una vuelta de tuerca respecto a los ya excelentes sensores del iPhone 15 Pro, pero en este sentido pocas aportaciones podemos hacer con respecto al sensor principal que no hayamos contado ya.\\n\\nLas fotografías diurnas muestran una excelente calidad, con abundante detalle, colores precisos y un contraste adecuado. El procesado resulta muy natural en la mayoría de ocasiones, aunque dependiendo de la escena cabe la posibilidad de que haya exceso de nitidez. No suele ser la norma, así que en líneas generales es un sensor que sigue funcionando francamente bien.\\n\\nLa principal debilidad quizás la tenemos en el rango dinámico, que no destaca especialmente. A veces las escenas con alto contraste tienden a mostrar sombras aplastadas y luces quemadas con relativa frecuencia. Si bien Apple ha perfeccionado otros aspectos del procesado fotográfico, el rango dinámico continúa siendo una tarea pendiente.\\n\\nLos retratos siguen luciendo excelentes, prueba de la experiencia que lleva Apple en este campo durante años. La detección y separación de los elementos y personas resulta prácticamente perfecta, conun desenfoque de fondo de gran calidad.\\n\\nEl zoom 2x también muestra resultados espectaculares. Si bien no se trata de un zoom óptico real sino un recorte digital de 12 megapíxeles a partir del centro del sensor, la calidad final muestra un excelente detalle, con un buen contraste y colores fieles.\\n\\nEl nuevo gran angular de 48 megapíxeles no supone realmente una mejora espectacular sobre el anterior de 12 megapíxeles en uso normal. Ambos ofrecen un detalle fino y un rango dinámico en condiciones típicas, además de que su procesado aporta colores que se mantienen muy bien.Por defecto captura a 24 megapíxeles, aunque al activar el modo completo de 48 megapíxeles sí apreciamos un incremento notable en detalle. Las imágenes capturadas en dicha resolución también ocupan más espacio, por lo que solamente recomendaría cambiar de resolución en momentos donde se necesite un gran detalle.\\n\\nEl gran angular destaca especialmente en fotografía macro, donde el enfoque automático marca diferencia. Las tomas en macro se capturan normalmente a 12 megapíxeles y, tras la retahíla de fotos a flores, puedo afirmar que el sensor ofrece un detalle excelente, manteniendo además colores muy naturales. Además, no hay que hacer nada, ya que la activación del modo macro se realiza automáticamente y funciona muy bien.\\n\\n\\n\\nLa cámara frontal de 18 megapíxeles quizás representa la mejora más significativa, sobre todo teniendo en cuenta que Apple sigue consolidando sus dispositivos en redes sociales. Su nuevo sistema de Encuadre Centrado para mantenernos siempre en el centro incluso cuando hay varias personas es tremendamente útil, así como su sensor cuadrado que permite capturar selfies de 18 megapíxeles en formato 4:3 tanto en vertical como horizontal. Eso significa que podemos capturar fotos y vídeos en horizontal mientras mantenemos el móvil en vertical y viceversa, algo tremendamente versátil para redes sociales y creadores de contenido.\\n\\nLa calidad resulta excelente manteniendo bastante fiel la textura de la piel, tonos naturales y buen rango dinámico. La presencia de enfoque automático y estabilización óptica también marca diferencia. Es todo lo que se le pide a una cámara selfie: gran calidad y sin tener que hacer nada más que presionar un botón.\\n\\nEn condiciones de poca luz, la cámara principal captura fotografías de 24 megapíxeles congran detalle y un rango dinámico sobresaliente. El sistema mantiene correctamente las fuentes de luz sin un ruido excesivo. El modo nocturno automático se activa correctamente y podemos incluso aumentar su intensidad mediante el modo noche ‘Máximo’, que alarga el tiempo de captura pero elimina de manera más eficaz el ruido y aporta detalle.\\n\\nEl zoom 2x funciona adecuadamente en condiciones de baja luminosidad, con un ruido ligeramente más evidente, pero detalle, colores y rango dinámico bien mantenidos.El modo noche Máximo limpia el ruidoconsiderablemente aplicando nitidez sin pecar de exceso.\\n\\nEl gran angular es el que más sufre en poca luz mostrando fotografías con menos detalle y abundante ruido. Usar aquí el modo nocturno Máximo resulta imprescindible si queremos usar el gran angular en condiciones lumínicas pobres, requiriendo algo más de paciencia por los mayores tiempos de captura y procesado, pero entregando resultados significativamente mejores y más limpios.\\n\\nLa cámara frontal se desenvuelve bien en baja luminosidad capturando a 12 megapíxeles, teniendo en cuenta el hardware del que estamos tratando. El detalle generalmente es bueno y los colores y niveles de ruido se mantienen muy controlados. Quizás la mayor pega es la textura de la piel en condiciones de baja luminosidad, pero bueno, es lo que hay.\\n\\nBotón de control de cámara. En lo que respecta a este botón físico, representauna de las novedades del año pasadoque se mantiene en esta generación. Aunque puede generar opiniones divididas, debo decir que siempre me ha aportado una experiencia razonablemente buena. La presión necesaria para abrir el menú de ajustes resulta idónea, los controles de deslizamiento funcionan con precisión, y constituye una manera rápida de lanzar la aplicación de cámara directamente pulsando el botón. Sigue siendo más intuitivo darle al botón desde la propia pantalla del teléfono, pero es cuestión de acostumbrarse.\\n\\nTambién ofrece bastante personalización, ya que permite añadir al menú desplegable exactamente los ajustes que queremos ver, eliminando opciones innecesarias. Sin embargo, la posición del botón continúa siendo problema. Situado a media altura del lateral, intenta ser accesible tanto en orientación vertical como horizontal, perotermina en tierra de nadiesin resultar verdaderamente cómodo en ninguna de las dos posiciones.\\n\\nLa grabación de vídeo constituye tradicionalmenteel punto fuerte de los iPhone, y el 17 no decepciona. Todas las cámaras, incluida la frontal, graban hasta 4K a 60fps con estabilización siempre activa e imposible de desactivar. Para grabar 4K a 60fps debemos activar el formato de alta eficienciaHEVC/H.265. Se graban dos pistas de audio: estéreo AAC y cuatro canales APAC, todo almacenado en un contenedor MOV.\\n\\nLo cierto es que cuando grabamos vídeo con el sensor principal, el resultado es excelente, con el mínimo de defectos. El detalle y nitidez impresionan, al igual que el rango dinámico, más equilibrado y con buen contraste. Los colores se reproducen con gran precisión, haciendo que el listón de Apple en la grabación de vídeo siga estando altísimo.\\n\\nCon un zoom de dos aumentos los vídeos mantienen una calidad comparable, aunque ligeramente más suaves y ruidosos, sin ser nada dramático. El vídeo 4K del gran angular también ofrece un detalle sólido e imagen nítida, al igual que su rango dinámico. Aunque en este caso, los colores suelen ser algo más llamativos comparados con la cámara principal, una diferencia que puede resultar agradable según gustos.\\n\\nEn baja luminosidad obviamente el reto es mayor, aunquela cámara principal sigue ofreciendo un rendimiento francamente notable. El detalle se mantiene muy bien tanto en sombras como con luces. A zoom 2x los vídeos continúan siendo excelentes, solo que ligeramente más suaves y con ruido, resultado esperable. En gran angular y de noche, la calidad del vídeo es incluso mayor al mismo sensor tomando fotos con baja luminosidad.\\n\\nDurante años, Apple ha confiado en fabricantes externos como Broadcom para la incorporación de chips de conectividad inalámbrica. Primero fueel chip C1(ahora C1X), el que desplazó a Qualcomm para ofrecer conectividad 5G en el teléfono. Ahora esel chip N1, desarrollo propio y de la casa que aporta a los iPhone 17 y iPhone AirBluetooth 6,WiFi 7tribanda yThread.\\n\\n\\n\\nCon este chip, el terminal tiene acceso a las bandas de 6GHz si tu router lo soporta. Con Bluetooth 6.0 hay una mejora teórica en la eficiencia, latencia y ahorro energético, aunque hay poquitos teléfonos que lo ofrezcan de serie. Además de los nuevos iPhone, losGoogle Pixel 10también cuentan con este protocolo. El uso de chips propietarios en los iPhone son en parte la razón por la que nos encontramos con dispositivos cada vez más eficientes.\\n\\nEl C1 que tanto destacó en eliPhone 16eofrecía optimización en autonomía y eficiencia energética. Sumando el N1 en la ecuación,Apple busca optimizar al máximo posible la autonomía de sus teléfonosmientras deja de depender de fabricantes de terceros, una estrategia que bien le sirvió también en los procesadores de sus Mactras despedirse de Intel.\\n\\n\\n\\nApple ha ejecutado este año una maniobra maestra convirtiendo el iPhone 17 base enel modelo más recomendable de toda su gamapara el gran público, incorporando prácticamente todo lo importante que se le puede pedir en comparación a los modelos Pro.\\n\\nEl panel LTPO de 120Hz elimina la diferencia más significativa de los modelos Pro (no ha habido suerte este año tampoco con el teleobjetivo). Otra decisión en favor del usuario ha sidola duplicación del almacenamiento base a 256 GBsin incremento de precio. Además, la nueva cámara frontal de 18 megapíxeles con estabilización óptica y el gran angular mejorado de 48 megapíxeles completan un paquete fotográfico a la altura de lo que se le espera, brillando además en vídeo como siempre.\\n\\nTampoco es perfecto, y desde luego que ningún teléfono lo es.El calentamiento y el throttling sigue siendo una tarea pendiente, sobre todo bajo cargas sostenidas y exigentes. El puerto USB sigue limitado a velocidades 2.0 en 2025, por lo que si queremos capacidades de USB3 de hasta 10 Gbps tendremos que irnos a los modelos Pro (ni siquiera el Air es compatible).\\n\\nPor la parte que le toca a iOS 26, Apple ha introducido novedades interesantes, pero el diseño deLiquid Glass no está hecho para todo el mundo.\\n\\nNo obstante, el conjunto general resulta tremendamente atractivo. Y es que desde hace años, nunca Apple había ofrecido tanto por ‘tan poco’. Hablamos de un terminal con el diseño familiar de Apple, pantalla y rendimiento de grado Pro, sistema de cámaras de gran nivel, y almacenamiento base duplicado por el mismo precio.\\n\\nA menos que necesites específicamente el teleobjetivo de los Pro, grabes vídeo profesional requiriendo ProRes o te haya encandilado el nuevo diseño de los Pro, el iPhone 17 base se corona como una de las mejores compras que podemos recomendar si buscas un dispositivo premium y no vienes de un modelo reciente. Quizás Apple vaya a canibalizar las ventas de sus modelos superiores con este movimiento, pero para los consumidores representa una gran victoria. Bravo.\\n\\n8,8\\n\\niPhone 17 de 256 GB: Pantalla de 6,3 Pulgadas con Promotion, Chip A19, cámara Frontal Center Stage, Mayor Resistencia a los arañazos, autonomía para el día Entero; Negro\\n\\n\\n\\nEste dispositivo ha sido cedido para prueba por parte de Apple. Puedes consultarcómo hacemos las reviews en Xatakay nuestrapolítica de relaciones con empresas.\\n\\nEn Xataka |Los mejores móviles calidad precio (2025). Sus análisis y vídeos están aquí\\n\\nLos mejores comentarios:\\n\\nVer65 comentarios\\n\\nEn Xataka hablamos de...\\n\\nVer más temas\\n\\nWebedia\\n\\nTecnología\\n\\nVideojuegos\\n\\nEntretenimiento\\n\\nGastronomía\\n\\nMotor\\n\\nEstilo de vida\\n\\nEconomía\\n\\nEdiciones Internacionales\\n\\nPartners\\n\\nDestacamos\\n\\nVer más temas\\n\\nSuscribir\\n\\nMás sitios que te gustarán\\n\\nReciente\\n\\nVer más artículos\\n\\nXatakaTV\\n\\nVer más vídeos\")"
      ]
     },
     "execution_count": 5,
     "metadata": {},
     "output_type": "execute_result"
    }
   ],
   "source": [
    "documents[0]"
   ]
  },
  {
   "cell_type": "markdown",
   "id": "8dc6be1d-be30-4b05-8a25-6fc04ebd621b",
   "metadata": {},
   "source": [
    "#### 2.1 Chunking"
   ]
  },
  {
   "cell_type": "code",
   "execution_count": 6,
   "id": "e7ba5bbb-6881-432b-a7d3-40c1d729e46f",
   "metadata": {},
   "outputs": [],
   "source": [
    "from langchain_text_splitters import RecursiveCharacterTextSplitter \n",
    "from typing import List\n",
    "\n",
    "def split_documents(\n",
    "    docs: List[Document],\n",
    "    chunk_size: int = 500,\n",
    "    chunk_overlap: int = 100\n",
    ") -> List[Document]:\n",
    "    \"\"\"\n",
    "    Divide documentos largos en fragmentos más pequeños usando RecursiveCharacterTextSplitter.\n",
    "\n",
    "    Args:\n",
    "        docs: Lista de Documentos de LangChain.\n",
    "        chunk_size: Tamaño máximo de cada fragmento.\n",
    "        chunk_overlap: Número de caracteres que se solapan entre fragmentos.\n",
    "\n",
    "    Returns:\n",
    "        Lista de documentos divididos.\n",
    "    \"\"\"\n",
    "    text_splitter = RecursiveCharacterTextSplitter.from_tiktoken_encoder(\n",
    "        chunk_size=chunk_size,\n",
    "        chunk_overlap=chunk_overlap\n",
    "    )\n",
    "    chunked = text_splitter.split_documents(docs)\n",
    "    print(f\"📄 Documentos originales: {len(docs)} → 🧩 Chunks generados: {len(chunked)}\")\n",
    "    return chunked\n"
   ]
  },
  {
   "cell_type": "code",
   "execution_count": 7,
   "id": "e9f67605-7b8f-4a1c-93a2-f65a5b72ce60",
   "metadata": {
    "scrolled": true
   },
   "outputs": [
    {
     "name": "stdout",
     "output_type": "stream",
     "text": [
      "📄 Documentos originales: 30 → 🧩 Chunks generados: 329\n",
      "Se han generado 329 fragmentos.\n"
     ]
    }
   ],
   "source": [
    "doc_splits = split_documents(documents, chunk_size=500, chunk_overlap=200)\n",
    "\n",
    "print(f\"Se han generado {len(doc_splits)} fragmentos.\")"
   ]
  },
  {
   "cell_type": "code",
   "execution_count": 8,
   "id": "d697bad6-a56b-4e59-b978-82d44684c037",
   "metadata": {},
   "outputs": [
    {
     "data": {
      "text/plain": [
       "'Antonio Vallejo\\n\\nAntonio Vallejo\\n\\nCuando terminó la presentación en la que vimos al completotoda la familia de nuevos dispositivos, me rondaba un pensamiento que, incluso tras haber estado ya un buen tiempo con el iPhone 17, sigo manteniendo: Apple ha diseñado el mejor modelo base de su familia en años. Y lo ha hecho manteniendo prácticamente el mismo aspecto superficial de losiPhone 16, con cambios aquí y allá. Lo verdaderamente importante está en el interior, y ahí es donde Apple ha dadoel auténtico empujeque necesitaba su línea de dispositivos ‘no-Pro’. Bajo estas líneas te explico mi experiencia tras varios días de uso intensivo con el terminal.\\n\\n\\n\\nIPHONE 17\\n\\npantalla\\n\\nLTPO OLED de 120 Hz, 6,3 pulgadas (460 ppp)\\n\\nResolución de 2.622 x 1.206p\\n\\nHDR\\n\\nTrue Tone\\n\\nBrillo pico máximo de 3.000 nits (1.000 nits típico)\\n\\nDimensiones y peso\\n\\n149,6 x 71,5 x 8 mm\\n\\n177 gramos\\n\\nPROCESADOR\\n\\nApple A19\\n\\nram\\n\\n8 GB\\n\\nALMACENAMIENTO\\n\\n256 GB / 512 GB\\n\\nCÁMARAS TRASERAS\\n\\nPrincipal: 48 MP, f/1.6, OIS por desplazamineto del sensor\\n\\nUltra gran angular: 48 MP, 13 mm, f/2.2, 120 grados\\n\\nZoom 2x\\n\\nCÁMARA FRONTAL\\n\\n18 megapíxeles, f/1.9, 20 mm (ultrawide) con autoenfoque\\n\\nbatería\\n\\n3.692 mAh'"
      ]
     },
     "execution_count": 8,
     "metadata": {},
     "output_type": "execute_result"
    }
   ],
   "source": [
    "doc_splits[0].page_content.strip()"
   ]
  },
  {
   "cell_type": "code",
   "execution_count": 9,
   "id": "f5d3e650-6bb4-4e3d-99d7-da547e2f8178",
   "metadata": {},
   "outputs": [
    {
     "data": {
      "text/plain": [
       "'Brillo pico máximo de 3.000 nits (1.000 nits típico)\\n\\nDimensiones y peso\\n\\n149,6 x 71,5 x 8 mm\\n\\n177 gramos\\n\\nPROCESADOR\\n\\nApple A19\\n\\nram\\n\\n8 GB\\n\\nALMACENAMIENTO\\n\\n256 GB / 512 GB\\n\\nCÁMARAS TRASERAS\\n\\nPrincipal: 48 MP, f/1.6, OIS por desplazamineto del sensor\\n\\nUltra gran angular: 48 MP, 13 mm, f/2.2, 120 grados\\n\\nZoom 2x\\n\\nCÁMARA FRONTAL\\n\\n18 megapíxeles, f/1.9, 20 mm (ultrawide) con autoenfoque\\n\\nbatería\\n\\n3.692 mAh\\n\\nPD3.2, Carga rápida, Carga inalámbrica MagSafe\\n\\nsistema operativo\\n\\niOS 26\\n\\nconectividad\\n\\n5G\\n\\nWiFi 7\\n\\nBluetooth 6\\n\\nGPS\\n\\nNFC\\n\\nNano SIM + eSIM (hasta dos eSIM al mismo tiempo)\\n\\nUWB\\n\\nPuerto USB-C\\n\\nUSB 2 (hasta 480 Mbps)\\n\\notros\\n\\nCertificación IP68\\n\\nEmergencia SOS\\n\\nDetección de accidentes\\n\\nFace ID\\n\\nControl de Cámara\\n\\nBotón de acción\\n\\nprecio\\n\\nDesde959 euros\\n\\niPhone 17 de 256 GB: Pantalla de 6,3 Pulgadas con Promotion, Chip A19, cámara Frontal Center Stage, Mayor Resistencia a los arañazos, autonomía para el día Entero; Negro'"
      ]
     },
     "execution_count": 9,
     "metadata": {},
     "output_type": "execute_result"
    }
   ],
   "source": [
    "doc_splits[1].page_content.strip()"
   ]
  },
  {
   "cell_type": "code",
   "execution_count": 10,
   "id": "32c2a52b-1f62-49ec-8dcb-c8bae0cee362",
   "metadata": {},
   "outputs": [
    {
     "data": {
      "text/plain": [
       "'sistema operativo\\n\\niOS 26\\n\\nconectividad\\n\\n5G\\n\\nWiFi 7\\n\\nBluetooth 6\\n\\nGPS\\n\\nNFC\\n\\nNano SIM + eSIM (hasta dos eSIM al mismo tiempo)\\n\\nUWB\\n\\nPuerto USB-C\\n\\nUSB 2 (hasta 480 Mbps)\\n\\notros\\n\\nCertificación IP68\\n\\nEmergencia SOS\\n\\nDetección de accidentes\\n\\nFace ID\\n\\nControl de Cámara\\n\\nBotón de acción\\n\\nprecio\\n\\nDesde959 euros\\n\\niPhone 17 de 256 GB: Pantalla de 6,3 Pulgadas con Promotion, Chip A19, cámara Frontal Center Stage, Mayor Resistencia a los arañazos, autonomía para el día Entero; Negro\\n\\nTal y como hemos mencionado en la introducción, el iPhone 17 mantiene la filosofía de diseño que conocemos del iPhone 16, una decisión que contrasta más que nunca con el diseño de losiPhone 17 Pro, que nada tienen que ver respecto a sus predecesores. Mientras que el Pro y Pro Max estrenan diseñounibodyde aluminio con una ventana trasera de cristal (para permitir correctamente la carga inalámbrica), el modelo baseconserva el panel de vidrio completoque hemos estado viendo a lo largo de los últimos años.'"
      ]
     },
     "execution_count": 10,
     "metadata": {},
     "output_type": "execute_result"
    }
   ],
   "source": [
    "doc_splits[2].page_content.strip()"
   ]
  },
  {
   "cell_type": "markdown",
   "id": "f65efd1c-26af-4029-8b75-f5291bf0d8f1",
   "metadata": {},
   "source": [
    "## 2. Creamos el retriever tool en memoria."
   ]
  },
  {
   "cell_type": "markdown",
   "id": "ac29847b-8e6a-4137-9fd3-8bcf6c2e4793",
   "metadata": {},
   "source": [
    "### 1. Use an in-memory vector store and OpenAI embeddings"
   ]
  },
  {
   "cell_type": "code",
   "execution_count": 11,
   "id": "bfb2fe23-664e-470c-a68e-b4e86d7747cf",
   "metadata": {},
   "outputs": [],
   "source": [
    "from langchain_core.vectorstores import InMemoryVectorStore\n",
    "\n",
    "from langchain_google_genai import GoogleGenerativeAIEmbeddings\n",
    "embeddings = GoogleGenerativeAIEmbeddings(model=\"models/text-embedding-004\") # <-- USA ESTE MODELO, ES MÁS MODERNO\n",
    "vectorstore = InMemoryVectorStore(embedding=embeddings)\n",
    "# from langchain_core.vectorstores import InMemoryVectorStore\n",
    "# from langchain_openai import OpenAIEmbeddings\n",
    "\n",
    "#Lo dejo para demostrar que los embeddings tienen una cierta cantidad de tokens con lo cual es mejor partir\n",
    "# vectorstore = InMemoryVectorStore.from_documents(\n",
    "#     documents=doc_splits, embedding=OpenAIEmbeddings()\n",
    "# )\n",
    "# retriever = vectorstore.as_retriever()\n",
    "#vectorstore = InMemoryVectorStore(embedding=OpenAIEmbeddings())"
   ]
  },
  {
   "cell_type": "code",
   "execution_count": 12,
   "id": "6e8c1c55-d79c-4997-b5d9-d23d89db941c",
   "metadata": {},
   "outputs": [
    {
     "name": "stdout",
     "output_type": "stream",
     "text": [
      "Procesando batch 1 con 329 chunks...\n"
     ]
    }
   ],
   "source": [
    "# 2. Procesa por batches (lotes). Tenemos que procesar por lotes por que no admite mas de 300000  tokens\n",
    "batch_size = 500\n",
    "\n",
    "for i in range(0, len(doc_splits), batch_size):\n",
    "    batch = doc_splits[i:i + batch_size]\n",
    "    # Procesa cada batch aquí. Ejemplo: añade al VectorStore\n",
    "    vectorstore.add_documents(batch)\n",
    "    print(f\"Procesando batch {i//batch_size + 1} con {len(batch)} chunks...\")\n"
   ]
  },
  {
   "cell_type": "code",
   "execution_count": 13,
   "id": "29f7b265-0b9d-45b6-b3fe-d7f0cd08041f",
   "metadata": {},
   "outputs": [],
   "source": [
    "retriever = vectorstore.as_retriever()"
   ]
  },
  {
   "cell_type": "markdown",
   "id": "0928ee88-95c5-4821-b983-dd73cfa317ef",
   "metadata": {},
   "source": [
    "### 2. Creamos una retriever **tool** usando LangChain's prebuilt create_retriever_tool:"
   ]
  },
  {
   "cell_type": "code",
   "execution_count": 14,
   "id": "842a33e2-4c5f-410c-8e71-2b13cf9cb588",
   "metadata": {},
   "outputs": [],
   "source": [
    "from langchain.tools.retriever import create_retriever_tool\n",
    "\n",
    "retriever_tool = create_retriever_tool(\n",
    "    retriever,\n",
    "    \"retrieve_blog_posts\",#nombre\n",
    "    \"Busca y devuelve info acerca de articulos de Xakata.\",#Descripcion\n",
    ")"
   ]
  },
  {
   "cell_type": "code",
   "execution_count": 15,
   "id": "2234ba21-582c-43b1-88a3-4e8113a226d4",
   "metadata": {},
   "outputs": [
    {
     "data": {
      "text/plain": [
       "'Imágenes | Huawei\\n\\nEn Xataka |Durante años la tele nos habló. Ahora la IA quiere que le hablemos nosotros\\n\\nLos mejores comentarios:\\n\\nVer12 comentarios\\n\\nEn Xataka hablamos de...\\n\\nVer más temas\\n\\nWebedia\\n\\nTecnología\\n\\nVideojuegos\\n\\nEntretenimiento\\n\\nGastronomía\\n\\nMotor\\n\\nEstilo de vida\\n\\nEconomía\\n\\nEdiciones Internacionales\\n\\nPartners\\n\\nDestacamos\\n\\nVer más temas\\n\\nSuscribir\\n\\nMás sitios que te gustarán\\n\\nReciente\\n\\nVer más artículos\\n\\nXatakaTV\\n\\nVer más vídeos\\n\\nTÜV Rheinland Flicker Free\\n\\nTÜV Rheinland Circadian Friendly\\n\\nprocesador\\n\\nMediaTek Dimensity 8400 Ultra\\n\\nGPU Mali-G720\\n\\nNPU 880\\n\\nMediaTek Dimensity 9400+\\n\\nGPU Immortalis-G925 MC12\\n\\nNPU 890\\n\\nmemoria ram\\n\\n12 GB LPDDR5x\\n\\n12 GB LPDDR5x\\n\\nalmacenamiento interno\\n\\n256, 512 GB UFS 4.1\\n\\n256, 512 GB, 1 TB UFS 4.1\\n\\ncámara trasera\\n\\nLeica VARIO-SUMMILUX 1:1.7-2.2/15-46 ASPH\\n\\nAngular Light Fusion 800, 50 MP, f/1.7, OIS\\n\\nTelefoto 50 MP, f/1,9\\n\\nGran angular 12 MP, f/2.2, FOV 120º\\n\\nVídeo 4K@60 FPS, HDR10+\\n\\nLeica VARIO-SUMMILUX 1:1.62-3.0/15-115 ASPH\\n\\nAngular Light Fusion 900, 50 MP, f/1.6, OIS\\n\\nTelefoto 50 MP, f/3.0, zoom óptico x5\\n\\nGran angular 12 MP, f/2.2, FOV 120º\\n\\nVídeo 4K@60 FPS, HDR10+\\n\\ncámara delantera\\n\\n32MP, f/2.2, FOV 90º\\n\\n32MP, f/2.2, FOV 90º\\n\\nbatería\\n\\n5.500 mAh\\n\\nCarga rápida 67W\\n\\n5.500 mAh\\n\\nCarga rápida 90W\\n\\nCarga inalámbrica 50W\\n\\nsistema operativo\\n\\nAndroid 16 con HyperOS 3\\n\\nAndroid 16 con HyperOS 3\\n\\nconectividad\\n\\nWiFI 6E\\n\\nDualSIM (nano, eSIM)\\n\\nNFC\\n\\nBluetooth 6.0\\n\\n5G NSA/SA\\n\\n194 gramos\\n\\n162,7 x 77,9 x 7,96 mm\\n\\n210 gramos\\n\\npantalla\\n\\nAMOLED de 6,83 pulgadas\\n\\nResolución 1,5K (2.772 x 1.280 píxeles)\\n\\n447 ppp\\n\\nDCI-P3\\n\\nTasa de refresco: 120 Hz\\n\\nMuestreo táctil: 480 Hz\\n\\nPWM Dimming: 3.840 Hz\\n\\nGorilla Glass 7i\\n\\nBrillo pico: 3.200 nits\\n\\nHDR10+, Dolby Vision\\n\\nTÜV Rheinland Low Blue Light\\n\\nTÜV Rheinland Flicker Free\\n\\nTÜV Rheinland Circadian Friendly\\n\\nAMOLED de 6,83 pulgadas\\n\\nResolución 1,5K (2.772 x 1.280 píxeles)\\n\\n447 ppp\\n\\nDCI-P3\\n\\nDC Dimming\\n\\nTasa de refresco: 144 Hz\\n\\nMuestreo táctil: 480 Hz\\n\\nGorilla Glass 7i\\n\\nBrillo pico: 3.200 nits\\n\\nHDR10+, Dolby Vision\\n\\nTÜV Rheinland Low Blue Light\\n\\nTÜV Rheinland Flicker Free\\n\\nTÜV Rheinland Circadian Friendly\\n\\nprocesador\\n\\nMediaTek Dimensity 8400 Ultra\\n\\nGPU Mali-G720\\n\\nNPU 880\\n\\nMediaTek Dimensity 9400+\\n\\nGPU Immortalis-G925 MC12\\n\\nNPU 890\\n\\nmemoria ram\\n\\n12 GB LPDDR5x\\n\\n12 GB LPDDR5x\\n\\nalmacenamiento interno\\n\\n256, 512 GB UFS 4.1\\n\\n256, 512 GB, 1 TB UFS 4.1\\n\\ncámara trasera\\n\\nLeica VARIO-SUMMILUX 1:1.7-2.2/15-46 ASPH\\n\\nAngular Light Fusion 800, 50 MP, f/1.7, OIS\\n\\nconectividad inalámbrica\\n\\nWiFi 7, Wi-Fi 6, Wi-Fi 5, Wi-Fi 4 y 802.11a/b/g\\n\\nWi-Fi 2,4G |\\xa0Wifi 5G\\n\\nMLO, 2x2 MIMO, sonido 8x8 para MU-MIMO, WiFi Direct, Miracast, 2.4G y 5G de doble canal\\n\\nBluetooth 5.4, Bluetooth dual\\n\\nSBC/AAC/AptX/AptX\\xa0HD/AptX\\xa0Adaptive/LDAC/LHDC\\xa05.0/LC3/MIHC\\n\\nNFC\\n\\nWiFi 7, Wi-Fi 6, Wi-Fi 5, Wi-Fi 4 y 802.11a/b/g\\n\\nWi-Fi 2,4G |\\xa0Wifi 5G\\n\\nMLO, 2x2 MIMO, sonido 8x8 para MU-MIMO, WiFi Direct, Miracast, 2.4G y 5G de doble canal\\n\\nBluetooth 5.4, Bluetooth dual\\n\\nSBC/AAC/AptX/AptX\\xa0HD/AptX\\xa0Adaptive/LDAC/LHDC\\xa05.0/LC3/MIHC\\n\\nNFC\\n\\nWiFi 7, Wi-Fi 6, Wi-Fi 5, Wi-Fi 4 y 802.11a/b/g\\n\\nWi-Fi 2,4G |\\xa0Wifi 5G\\n\\nMLO, 2x2 MIMO, sonido 8x8 para MU-MIMO, WiFi Direct, Miracast, 2.4G y 5G de doble canal\\n\\nBluetooth 5.4, Bluetooth dual\\n\\nSBC/AAC/AptX/AptX\\xa0HD/AptX\\xa0Adaptive/LDAC/LHDC\\xa05.0/LC3/MIHC\\n\\nNFC\\n\\nposicionamiento\\n\\nB1I\\xa0+\\xa0B1C+\\xa0B2a｜GPS:\\xa0L1\\xa0+\\xa0L5｜Galileo:\\xa0E1\\xa0+\\xa0E5a'"
      ]
     },
     "execution_count": 15,
     "metadata": {},
     "output_type": "execute_result"
    }
   ],
   "source": [
    "retriever_tool.invoke({\"query\": \"Lanzamiento del El Honor Magic V5\"})"
   ]
  },
  {
   "cell_type": "markdown",
   "id": "52e47a1b-f704-4722-8048-beff47b7b1c2",
   "metadata": {},
   "source": [
    "### 3. Test the tool"
   ]
  },
  {
   "cell_type": "markdown",
   "id": "bec19045-f941-4dc3-8b16-4bc80aadf320",
   "metadata": {},
   "source": [
    "## 3. Generamos la Query.\n",
    "Ahora comenzaremos a construir los componentes (nodos y aristas) para nuestro grafo agentic RAG. Ten en cuenta que los componentes operarán sobre el MessagesState — el estado del grafo que contiene una clave messages con una lista de mensajes de chat."
   ]
  },
  {
   "cell_type": "markdown",
   "id": "0821d4e7-e27a-402b-8487-cd106f2daff7",
   "metadata": {},
   "source": [
    "### 1.Construir un **nodo genera_query_o_responde**. Este llamará a un LLM para generar una respuesta basada en el estado actual del grafo (lista de mensajes). Dado el conjunto de mensajes de entrada, decidirá si recuperar información usando la herramienta de recuperación (retriever tool), o responder directamente al usuario. Ten en cuenta que le estamos dando acceso al modelo conversacional a la herramienta de recuperación que creamos antes, a través de .bind_tools:"
   ]
  },
  {
   "cell_type": "code",
   "execution_count": 16,
   "id": "eb39dacb-e40f-43cf-b6a5-0dd7d8e27815",
   "metadata": {},
   "outputs": [],
   "source": [
    "from langgraph.graph import MessagesState\n",
    "from langchain_google_genai import ChatGoogleGenerativeAI\n",
    "\n",
    "# response_model=  ChatOpenAI(model=\"gpt-4o\", temperature=0) # <-- ELIMINAR ESTA LÍNEA\n",
    "\n",
    "response_model = ChatGoogleGenerativeAI(model=\"gemini-2.5-flash\")\n",
    "\n",
    "def genera_query_o_responde(state: MessagesState):\n",
    "    \"\"\"Llama al modelo para generar una respuesta basada en el estado actual.\n",
    "      Dada la pregunta, decidirá si recupera información usando la herramienta de recuperación o simplemente responde al usuario.\"\"\"\n",
    "    response = (\n",
    "        response_model\n",
    "        .bind_tools(tools=[retriever_tool]).invoke(state[\"messages\"])\n",
    "    )\n",
    "    return {\"messages\": [response]}\n",
    "\n"
   ]
  },
  {
   "cell_type": "markdown",
   "id": "6a2b709f-9520-4d12-81a6-cf718cfc1097",
   "metadata": {},
   "source": [
    "### 2. Lo probamos con una pregunta aleatoria que no tenga que ver con la info obtenida"
   ]
  },
  {
   "cell_type": "code",
   "execution_count": 17,
   "id": "4f46c2e3-9328-4358-9d6b-b07fdc76dc32",
   "metadata": {},
   "outputs": [
    {
     "name": "stdout",
     "output_type": "stream",
     "text": [
      "{'messages': [AIMessage(content='Lo siento, no puedo darte el precio de una cortina. Mi función es buscar información en artículos de Xataka y allí no se encuentra ese tipo de datos.', additional_kwargs={}, response_metadata={'prompt_feedback': {'block_reason': 0, 'safety_ratings': []}, 'finish_reason': 'STOP', 'model_name': 'gemini-2.5-flash', 'safety_ratings': []}, id='run--48d9e0fa-3bc7-4a0d-b43b-5d739ae61bce-0', usage_metadata={'input_tokens': 61, 'output_tokens': 109, 'total_tokens': 170, 'input_token_details': {'cache_read': 0}, 'output_token_details': {'reasoning': 75}})]}\n"
     ]
    }
   ],
   "source": [
    "input = {\"messages\": [{\"role\": \"user\", \"content\": \"¿Cuanto vale una cortina?\"}]}\n",
    "respuesta= genera_query_o_responde(input)\n",
    "print (respuesta)"
   ]
  },
  {
   "cell_type": "code",
   "execution_count": 18,
   "id": "c65c2f6a-4a90-41c3-ba4f-3e798114961c",
   "metadata": {},
   "outputs": [
    {
     "data": {
      "text/plain": [
       "AIMessage(content='Lo siento, no puedo darte el precio de una cortina. Mi función es buscar información en artículos de Xataka y allí no se encuentra ese tipo de datos.', additional_kwargs={}, response_metadata={'prompt_feedback': {'block_reason': 0, 'safety_ratings': []}, 'finish_reason': 'STOP', 'model_name': 'gemini-2.5-flash', 'safety_ratings': []}, id='run--48d9e0fa-3bc7-4a0d-b43b-5d739ae61bce-0', usage_metadata={'input_tokens': 61, 'output_tokens': 109, 'total_tokens': 170, 'input_token_details': {'cache_read': 0}, 'output_token_details': {'reasoning': 75}})"
      ]
     },
     "execution_count": 18,
     "metadata": {},
     "output_type": "execute_result"
    }
   ],
   "source": [
    "#cogemos el ultimo mensaje\n",
    "respuesta[\"messages\"][-1]"
   ]
  },
  {
   "cell_type": "code",
   "execution_count": 19,
   "id": "0023622b-ad13-47e9-b94a-a57ee7c59ad6",
   "metadata": {},
   "outputs": [
    {
     "name": "stdout",
     "output_type": "stream",
     "text": [
      "==================================\u001b[1m Ai Message \u001b[0m==================================\n",
      "\n",
      "Lo siento, no puedo darte el precio de una cortina. Mi función es buscar información en artículos de Xataka y allí no se encuentra ese tipo de datos.\n"
     ]
    }
   ],
   "source": [
    "#Formateamos el mensaje\n",
    "respuesta[\"messages\"][-1].pretty_print()"
   ]
  },
  {
   "cell_type": "markdown",
   "id": "4a83c472-b2cf-4946-ae4e-1d0d6b240e25",
   "metadata": {},
   "source": [
    "### 3. Hacer una pregunta que requiera búsqueda semántica"
   ]
  },
  {
   "cell_type": "code",
   "execution_count": 20,
   "id": "0f0381b9-4368-4419-adc2-55bce98888f2",
   "metadata": {},
   "outputs": [
    {
     "name": "stdout",
     "output_type": "stream",
     "text": [
      "==================================\u001b[1m Ai Message \u001b[0m==================================\n",
      "Tool Calls:\n",
      "  retrieve_blog_posts (e99780f8-c899-4d55-ad1d-625b0404bd68)\n",
      " Call ID: e99780f8-c899-4d55-ad1d-625b0404bd68\n",
      "  Args:\n",
      "    query: Lanzamiento del Honor Magic V5\n"
     ]
    }
   ],
   "source": [
    "input = {\n",
    "    \"messages\": [\n",
    "        {\n",
    "            \"role\": \"user\",\n",
    "            \"content\": \"Lanzamiento del El Honor Magic V5\",\n",
    "        }\n",
    "    ]\n",
    "}\n",
    "genera_query_o_responde(input)[\"messages\"][-1].pretty_print()"
   ]
  },
  {
   "cell_type": "markdown",
   "id": "0c3e2487-e6f4-4680-8645-f79e98090868",
   "metadata": {},
   "source": [
    "## 4. Vemos la relevanciade los documentos"
   ]
  },
  {
   "cell_type": "markdown",
   "id": "6eaf0e56-157f-47b2-a9cb-0a82275d3f35",
   "metadata": {},
   "source": [
    "###  1.  Añade una arista condicional —grade_documents— para determinar si los documentos recuperados son relevantes para la pregunta. <span style=\"color:red\">Utilizaremos un modelo con un esquema de salida estructurado llamado GradeDocuments</span> para la calificación de documentos. La función grade_documents devolverá el nombre del nodo al que se debe ir según la decisión de calificación (genera respuesta o reescribe_pregunta):"
   ]
  },
  {
   "cell_type": "markdown",
   "id": "d519b98b-f217-481f-8ec6-6d00a3c36146",
   "metadata": {},
   "source": [
    "Conceptos a recordar: \n",
    "* <span style=\"color:red\">arista condicional</span>"
   ]
  },
  {
   "cell_type": "code",
   "execution_count": 21,
   "id": "c065a8fb-55af-4a05-be00-b20f254b2b74",
   "metadata": {},
   "outputs": [],
   "source": [
    "from pydantic import BaseModel, Field\n",
    "from typing import Literal\n",
    "# Importamos la clase del modelo de chat de Gemini\n",
    "from langchain_google_genai import ChatGoogleGenerativeAI\n",
    "\n",
    "\n",
    "GRADE_PROMPT = (\n",
    "    \"Eres un evaluador que determina la relevancia de un documento recuperado respecto a una pregunta del usuario. \\\\n \"\n",
    "    \"Aquí tienes el documento recuperado: \\\\n\\\\n {context} \\\\n\\\\n\"\n",
    "    \"Aquí tienes la pregunta del usuario: {question} \\\\n\"\n",
    "    \"Si el documento contiene palabra(s) clave o significado semántico relacionado con la pregunta del usuario, califícalo como relevante. \\\\n\"\n",
    "    \"Da una puntuación binaria 'si' o 'no' para indicar si el documento es relevante para la pregunta.\"\n",
    "\n",
    ")\n",
    "\n",
    "\n",
    "class GradeDocuments(BaseModel):\n",
    "    \"\"\"Califica los documentos utilizando una puntuación binaria para comprobar su relevancia\"\"\"\n",
    "\n",
    "    binary_score: str = Field(\n",
    "        description=\"Puntuación : 'si' si es relevante, o 'no' si no lo es\"\n",
    "    )\n",
    "# AHORA (LA FORMA CORRECTA):\n",
    "grader_model = ChatGoogleGenerativeAI(model=\"gemini-2.5-flash\", temperature=0)\n",
    "\n",
    "def grade_documents(\n",
    "    state: MessagesState,\n",
    ") -> Literal[\"genera_respuesta\", \"rescribir_question\"]:\n",
    "    \"\"\"Determina si los documentos recuperados son relevantes para la pregunta.\"\"\"\n",
    "    question = state[\"messages\"][0].content\n",
    "    # El último mensaje es la salida de la herramienta (tool)\n",
    "    context = state[\"messages\"][-1].content\n",
    "    prompt = GRADE_PROMPT.format(question=question, context=context)\n",
    "    response = (\n",
    "        grader_model\n",
    "        .with_structured_output(GradeDocuments).invoke(\n",
    "            [{\"role\": \"user\", \"content\": prompt}]\n",
    "        )\n",
    "    )\n",
    "    score = response.binary_score\n",
    "    print (\"score :\", score)\n",
    "    if score == \"si\":\n",
    "        return \"genera_respuesta\"\n",
    "    else:\n",
    "        return \"rescribir_question\""
   ]
  },
  {
   "cell_type": "markdown",
   "id": "7660ef1b-4039-4b24-a6a0-66df39340a88",
   "metadata": {},
   "source": [
    "### 2. Ejecutar con una respuesta irrelevante en la respuesta de la tool :"
   ]
  },
  {
   "cell_type": "code",
   "execution_count": 22,
   "id": "4f786fb1-0b31-46dc-be4a-ae8900bcaae1",
   "metadata": {},
   "outputs": [
    {
     "name": "stdout",
     "output_type": "stream",
     "text": [
      "input: {'messages': [HumanMessage(content='¿Que tiempo hace en Alcante?', additional_kwargs={}, response_metadata={}), AIMessage(content='', additional_kwargs={}, response_metadata={}, tool_calls=[{'name': 'retrieve_blog_posts', 'args': {'query': 'Tiempo en Alicante'}, 'id': '1', 'type': 'tool_call'}]), ToolMessage(content='Son las 10 de la mañana', tool_call_id='1')]}\n",
      "score : no\n"
     ]
    },
    {
     "data": {
      "text/plain": [
       "'rescribir_question'"
      ]
     },
     "execution_count": 22,
     "metadata": {},
     "output_type": "execute_result"
    }
   ],
   "source": [
    "#simulamos la respuesta de la tool mediante mensajes\n",
    "from langchain_core.messages import convert_to_messages\n",
    "\n",
    "input = {\n",
    "    \"messages\": convert_to_messages(\n",
    "        [\n",
    "            {\n",
    "                \"role\": \"user\",\n",
    "                \"content\": \"¿Que tiempo hace en Alcante?\",\n",
    "            },\n",
    "            {\n",
    "                \"role\": \"assistant\",\n",
    "                \"content\": \"\",\n",
    "                \"tool_calls\": [\n",
    "                    {\n",
    "                        \"id\": \"1\",\n",
    "                        \"name\": \"retrieve_blog_posts\",\n",
    "                        \"args\": {\"query\": \"Tiempo en Alicante\"},\n",
    "                    }\n",
    "                ],\n",
    "            },\n",
    "            {\"role\": \"tool\", \"content\": \"Son las 10 de la mañana\", \"tool_call_id\": \"1\"},\n",
    "        ]\n",
    "    )\n",
    "}\n",
    "\n",
    "print (\"input:\" , input)\n",
    "grade_documents(input)"
   ]
  },
  {
   "cell_type": "markdown",
   "id": "ef00e6c6-ed32-40ef-85fe-26c892ef6b14",
   "metadata": {},
   "source": [
    "### 3. Confirmar que el documento/respuesta relavante se  clasifica como tal:"
   ]
  },
  {
   "cell_type": "code",
   "execution_count": 23,
   "id": "545cd228-89d8-45b2-8fe6-dc7f36469f4a",
   "metadata": {
    "editable": true,
    "slideshow": {
     "slide_type": ""
    },
    "tags": []
   },
   "outputs": [
    {
     "name": "stdout",
     "output_type": "stream",
     "text": [
      "score : si\n"
     ]
    },
    {
     "data": {
      "text/plain": [
       "'genera_respuesta'"
      ]
     },
     "execution_count": 23,
     "metadata": {},
     "output_type": "execute_result"
    }
   ],
   "source": [
    "input = {\n",
    "    \"messages\": convert_to_messages(\n",
    "        [\n",
    "            {\n",
    "                \"role\": \"user\",\n",
    "                \"content\": \"¿Cómo Samsung a adelanto Google?\",\n",
    "            },\n",
    "            {\n",
    "                \"role\": \"assistant\",\n",
    "                \"content\": \"\",\n",
    "                \"tool_calls\": [\n",
    "                    {\n",
    "                        \"id\": \"1\",\n",
    "                        \"name\": \"retrieve_blog_posts\",\n",
    "                        \"args\": {\"query\": \"¿Cómo Samsung a adelanto Google?\"},\n",
    "                    }\n",
    "                ],\n",
    "            },\n",
    "            {\n",
    "                \"role\": \"tool\",\n",
    "                \"content\": \"Samsung fue la primera en lograr algo insólito: adelantar a Google en política de actualizaciones. El fabricante ofrecesiete años de actualizaciones de sistemay otros siete años de parches de seguridad.\",\n",
    "                \"tool_call_id\": \"1\",\n",
    "            },\n",
    "        ]\n",
    "    )\n",
    "}\n",
    "grade_documents(input)"
   ]
  },
  {
   "cell_type": "markdown",
   "id": "4d24341d-52db-4cfa-a60a-2cf6006108ac",
   "metadata": {},
   "source": [
    "## 5 Rescribir la pregunta."
   ]
  },
  {
   "cell_type": "markdown",
   "id": "dbb00a92-72de-40de-89c2-47776e384e9d",
   "metadata": {
    "editable": true,
    "slideshow": {
     "slide_type": ""
    },
    "tags": []
   },
   "source": [
    "### 1. Construye el nodo de reescritura de pregunta (rescribir_question).\n",
    "La herramienta de recuperación puede devolver documentos potencialmente irrelevantes, lo que indica la necesidad de mejorar la pregunta original del usuario. Para ello, llamaremos al nodo rewrite_question."
   ]
  },
  {
   "cell_type": "code",
   "execution_count": 24,
   "id": "56c60a37-5f8b-4734-b398-62f83d0b313c",
   "metadata": {},
   "outputs": [],
   "source": [
    "REWRITE_PROMPT = (\n",
    "    \"Analiza detenidamente la siguiente pregunta e intenta comprender la intención o el significado profundo que transmite.\\n\"\n",
    "    \"Pregunta original:\"\n",
    "    \"\\n ------- \\n\"\n",
    "    \"{question}\"\n",
    "    \"\\n ------- \\n\"\n",
    "    \"Ahora, reescribe la pregunta para que sea más clara, precisa y fácil de entender:\"\n",
    ")\n",
    "\n",
    "\n",
    "def rescribir_question(state: MessagesState):\n",
    "    \"\"\"Rescribe/Mejora la pregunta original del usuario.\"\"\"\n",
    "    messages = state[\"messages\"]\n",
    "    question = messages[0].content\n",
    "    prompt = REWRITE_PROMPT.format(question=question)\n",
    "    print (\"xavi Prompt\",prompt)\n",
    "    response = response_model.invoke([{\"role\": \"user\", \"content\": prompt}])\n",
    "    return {\"messages\": [{\"role\": \"user\", \"content\": response.content}]}"
   ]
  },
  {
   "cell_type": "markdown",
   "id": "cb979386-c111-425c-b1f4-8c97647a2484",
   "metadata": {},
   "source": [
    "#### 2. Try it out:"
   ]
  },
  {
   "cell_type": "code",
   "execution_count": 25,
   "id": "42fb401c-cb47-4721-9adc-1846df2b343d",
   "metadata": {},
   "outputs": [
    {
     "name": "stdout",
     "output_type": "stream",
     "text": [
      "xavi Prompt Analiza detenidamente la siguiente pregunta e intenta comprender la intención o el significado profundo que transmite.\n",
      "Pregunta original:\n",
      " ------- \n",
      "Dame informacion sobre Honor Magic V5\n",
      " ------- \n",
      "Ahora, reescribe la pregunta para que sea más clara, precisa y fácil de entender:\n",
      "La intención principal de la pregunta original es obtener detalles sobre un dispositivo específico de Honor, el \"Magic V5\". Sin embargo, hay una ambigüedad significativa: actualmente no existe un modelo de Honor plegable conocido como \"Magic V5\". Los modelos más recientes son el Magic V2, Magic Vs, o Magic V Flip. La pregunta también es vaga sobre el *tipo* de información que se busca.\n",
      "\n",
      "Reescribiendo la pregunta para que sea más clara, precisa y fácil de entender:\n",
      "\n",
      "---\n",
      "\n",
      "**Estoy buscando información detallada sobre el dispositivo Honor Magic V5.**\n",
      "\n",
      "**Para poder proporcionarte la información más precisa, me gustaría confirmar:**\n",
      "\n",
      "1.  **¿Te refieres específicamente a un modelo llamado \"Honor Magic V5\", o quizás a otro de la serie Honor Magic V, como el Honor Magic V2, Honor Magic Vs, o el Honor Magic V Flip?**\n",
      "2.  **¿Qué tipo de información te interesa principalmente? Por ejemplo: especificaciones técnicas, precio, fecha de lanzamiento, reseñas, comparativas, disponibilidad, etc.**\n",
      "\n",
      "---\n"
     ]
    }
   ],
   "source": [
    "input = {\n",
    "    \"messages\": convert_to_messages(\n",
    "        [\n",
    "            {\n",
    "                \"role\": \"user\",\n",
    "                \"content\": \"Dame informacion sobre Honor Magic V5\",\n",
    "            },\n",
    "            {\n",
    "                \"role\": \"assistant\",\n",
    "                \"content\": \"\",\n",
    "                \"tool_calls\": [\n",
    "                    {\n",
    "                        \"id\": \"1\",\n",
    "                        \"name\": \"retrieve_blog_posts\",\n",
    "                        \"args\": {\"query\": \"Dame informacion sobre Honor Magic V5\"},\n",
    "                    }\n",
    "                ],\n",
    "            },\n",
    "            {\"role\": \"tool\", \"content\": \"Son las 10 de la mañana\", \"tool_call_id\": \"1\"},\n",
    "        ]\n",
    "    )\n",
    "}\n",
    "\n",
    "response = rescribir_question(input)\n",
    "print(response[\"messages\"][-1][\"content\"])"
   ]
  },
  {
   "cell_type": "markdown",
   "id": "1e59a276-ab18-4e0c-8529-b44f281691a8",
   "metadata": {},
   "source": [
    "## 6. Generamos la Respuesta.\n",
    "\n",
    "### 1. Construimos el nodo generate_answer.\n",
    "Si superamos las comprobaciones del evaluador (grader), podemos generar la respuesta final basándonos en la pregunta original y el contexto recuperado"
   ]
  },
  {
   "cell_type": "code",
   "execution_count": 26,
   "id": "27ba8a6c-46ec-4e39-9744-c4d07e24ee7a",
   "metadata": {},
   "outputs": [],
   "source": [
    "GENERATE_PROMPT = (\n",
    "    \"Eres un asistente para tareas de preguntas y respuestas. \"\n",
    "    \"Utiliza los siguientes fragmentos de contexto recuperado para responder a la pregunta. \"\n",
    "    \"Si no sabes la respuesta, simplemente indica que no la sabes. \"\n",
    "    \"Utiliza un máximo de tres frases y mantén la respuesta concisa.\\n\"\n",
    "    \"Pregunta: {question} \\n\"\n",
    "    \"Contexto: {context}\"\n",
    ")\n",
    "\n",
    "\n",
    "\n",
    "def genera_respuesta(state: MessagesState):\n",
    "    \"\"\"Genera la respuesta.\"\"\"\n",
    "    question = state[\"messages\"][0].content\n",
    "    context = state[\"messages\"][-1].content\n",
    "    prompt = GENERATE_PROMPT.format(question=question, context=context)\n",
    "    response = response_model.invoke([{\"role\": \"user\", \"content\": prompt}])\n",
    "    return {\"messages\": [response]}"
   ]
  },
  {
   "cell_type": "markdown",
   "id": "bbe5d0e6-c4e9-47e8-83b7-6832b643da3e",
   "metadata": {},
   "source": [
    "### 2. Try it out."
   ]
  },
  {
   "cell_type": "code",
   "execution_count": 27,
   "id": "8e609524-dac0-437d-9511-50c88d79fee5",
   "metadata": {},
   "outputs": [
    {
     "name": "stdout",
     "output_type": "stream",
     "text": [
      "==================================\u001b[1m Ai Message \u001b[0m==================================\n",
      "\n",
      "El Honor Magic V5 es un smartphone que destaca por su formato singular y la integración de inteligencia artificial, siendo Google Gemini una parte fundamental de su experiencia de uso. Este terminal ofrece buenas especificaciones y apuesta por un diseño de dos pantallas.\n"
     ]
    }
   ],
   "source": [
    "input = {\n",
    "    \"messages\": convert_to_messages(\n",
    "        [\n",
    "            {\n",
    "                \"role\": \"user\",\n",
    "                \"content\": \"Dame informacion sobre Honor Magic V5\",\n",
    "            },\n",
    "            {\n",
    "                \"role\": \"assistant\",\n",
    "                \"content\": \"\",\n",
    "                \"tool_calls\": [\n",
    "                    {\n",
    "                        \"id\": \"1\",\n",
    "                        \"name\": \"retrieve_blog_posts\",\n",
    "                        \"args\": {\"query\": \"Dame informacion sobre Honor Magic V5\"},\n",
    "                    }\n",
    "                ],\n",
    "            },\n",
    "            {\n",
    "                \"role\": \"tool\",\n",
    "                \"content\": \"Honor Magic V5, un smartphone que apuesta por este singular formato pero lo hace con un componente cada vez más relevante: la IA.\\n\\nAsí, Google Gemini se convierte en parte fundamental de la experiencia de uso de un terminal que viene repleto de buenas especificaciones para convencernos de algo que debería ser obvio: dos pantallas son mejor que una.\",\n",
    "                \"tool_call_id\": \"1\",\n",
    "            },\n",
    "        ]\n",
    "    )\n",
    "}\n",
    "\n",
    "response = genera_respuesta(input)\n",
    "response[\"messages\"][-1].pretty_print()"
   ]
  },
  {
   "cell_type": "markdown",
   "id": "368e1756-8efd-4ddf-a95b-0b309a87df57",
   "metadata": {},
   "source": [
    "## 7. Configurar el grafo"
   ]
  },
  {
   "cell_type": "markdown",
   "id": "cb908205-eec8-4e55-9380-f0c3af9e1a26",
   "metadata": {},
   "source": [
    "### 7.1 Importamos los elementos necesarios para construir el grafo"
   ]
  },
  {
   "cell_type": "code",
   "execution_count": 28,
   "id": "fa0852a9-1e82-47a3-baa8-484467b6436a",
   "metadata": {},
   "outputs": [],
   "source": [
    "from langgraph.graph import StateGraph, START, END\n",
    "from langgraph.prebuilt import ToolNode\n",
    "from langgraph.prebuilt import tools_condition"
   ]
  },
  {
   "cell_type": "markdown",
   "id": "aa02ca32-0dc9-4b1d-b4b7-0b237939fa4d",
   "metadata": {},
   "source": [
    "### 7.2 Ensamblamos el workflow"
   ]
  },
  {
   "cell_type": "markdown",
   "id": "e858e4b2-ae31-4fee-bbfb-df336f35fff8",
   "metadata": {},
   "source": [
    "#### 7.2.1 Añadimos los nodos"
   ]
  },
  {
   "cell_type": "code",
   "execution_count": 29,
   "id": "1af90597-d90b-437e-9dae-9b9827b9d828",
   "metadata": {},
   "outputs": [
    {
     "data": {
      "text/plain": [
       "<langgraph.graph.state.StateGraph at 0x20103ed3cb0>"
      ]
     },
     "execution_count": 29,
     "metadata": {},
     "output_type": "execute_result"
    }
   ],
   "source": [
    "workflow = StateGraph(MessagesState)\n",
    "workflow.add_node(genera_query_o_responde)\n",
    "workflow.add_node(\"retrieve\", ToolNode([retriever_tool]))\n",
    "workflow.add_node(rescribir_question)\n",
    "workflow.add_node(genera_respuesta)"
   ]
  },
  {
   "cell_type": "markdown",
   "id": "ef39b135-e13e-45eb-9f04-11c6f81d2d48",
   "metadata": {},
   "source": [
    "#### 7.2.2 Añadimos las aristas"
   ]
  },
  {
   "cell_type": "code",
   "execution_count": 30,
   "id": "71734362-d351-496d-89cd-d27ce9871075",
   "metadata": {},
   "outputs": [
    {
     "data": {
      "text/plain": [
       "<langgraph.graph.state.StateGraph at 0x20103ed3cb0>"
      ]
     },
     "execution_count": 30,
     "metadata": {},
     "output_type": "execute_result"
    }
   ],
   "source": [
    "workflow.add_edge(START, \"genera_query_o_responde\")\n",
    "workflow.add_conditional_edges(\n",
    "    \"genera_query_o_responde\",\n",
    "    # Evalúa la decisión del LLM (llama a la herramienta retriever_tool o responde al usuario)\n",
    "    tools_condition,\n",
    "    {\n",
    "        # Translate the condition outputs to nodes in our graph\n",
    "        \"tools\": \"retrieve\",\n",
    "        END: END,\n",
    "    },\n",
    ")\n",
    "\n",
    "#\n",
    "workflow.add_conditional_edges(\n",
    "    \"retrieve\",\n",
    "    # Assess agent decision\n",
    "    grade_documents,\n",
    ")\n",
    "\n",
    "workflow.add_edge(\"genera_respuesta\", END)\n",
    "\n",
    "workflow.add_edge(\"rescribir_question\", \"genera_query_o_responde\")"
   ]
  },
  {
   "cell_type": "markdown",
   "id": "fde9edf8-9932-41a6-a862-b306d49391cd",
   "metadata": {},
   "source": [
    "#### 7.2.3 Compilamos el grafo"
   ]
  },
  {
   "cell_type": "code",
   "execution_count": 31,
   "id": "b0f1658c-d134-4fa8-b2d5-b7103cf42c25",
   "metadata": {},
   "outputs": [],
   "source": [
    "graph = workflow.compile()"
   ]
  },
  {
   "cell_type": "markdown",
   "id": "5c5ba68f-d54e-4dbb-a058-8a3d4675de30",
   "metadata": {},
   "source": [
    "#### 7.2.4 Pintamos el Grafo"
   ]
  },
  {
   "cell_type": "code",
   "execution_count": 32,
   "id": "4eb0c3e1-27a0-42ed-9e46-3ab678c123e3",
   "metadata": {},
   "outputs": [
    {
     "data": {
      "image/png": "[encoded data removed]",
      "text/plain": [
       "<IPython.core.display.Image object>"
      ]
     },
     "metadata": {},
     "output_type": "display_data"
    }
   ],
   "source": [
    "from IPython.display import Image, display\n",
    "\n",
    "display(Image(graph.get_graph().draw_mermaid_png()))\n"
   ]
  },
  {
   "cell_type": "markdown",
   "id": "4f389509-154f-4ebe-826d-68af2075b6f4",
   "metadata": {},
   "source": [
    "### NOtas"
   ]
  },
  {
   "cell_type": "code",
   "execution_count": 33,
   "id": "f9960d5b-e5fc-4db4-846d-a587280b6cac",
   "metadata": {},
   "outputs": [
    {
     "name": "stdout",
     "output_type": "stream",
     "text": [
      "📘 Update from node: genera_query_o_responde\n",
      "----------------------------------------\n",
      "📝 Contenido desde objeto:\n",
      "\n",
      "----------------------------------------\n",
      "\n",
      "score : no\n",
      "📘 Update from node: retrieve\n",
      "----------------------------------------\n",
      "📝 Contenido desde objeto:\n",
      "TÜV Rheinland Flicker Free\n",
      "\n",
      "TÜV Rheinland Circadian Friendly\n",
      "\n",
      "procesador\n",
      "\n",
      "MediaTek Dimensity 8400 Ultra\n",
      "\n",
      "GPU Mali-G720\n",
      "\n",
      "NPU 880\n",
      "\n",
      "MediaTek Dimensity 9400+\n",
      "\n",
      "GPU Immortalis-G925 MC12\n",
      "\n",
      "NPU 890\n",
      "\n",
      "memoria ram\n",
      "\n",
      "12 GB LPDDR5x\n",
      "\n",
      "12 GB LPDDR5x\n",
      "\n",
      "almacenamiento interno\n",
      "\n",
      "256, 512 GB UFS 4.1\n",
      "\n",
      "256, 512 GB, 1 TB UFS 4.1\n",
      "\n",
      "cámara trasera\n",
      "\n",
      "Leica VARIO-SUMMILUX 1:1.7-2.2/15-46 ASPH\n",
      "\n",
      "Angular Light Fusion 800, 50 MP, f/1.7, OIS\n",
      "\n",
      "Telefoto 50 MP, f/1,9\n",
      "\n",
      "Gran angular 12 MP, f/2.2, FOV 120º\n",
      "\n",
      "Vídeo 4K@60 FPS, HDR10+\n",
      "\n",
      "Leica VARIO-SUMMILUX 1:1.62-3.0/15-115 ASPH\n",
      "\n",
      "Angular Light Fusion 900, 50 MP, f/1.6, OIS\n",
      "\n",
      "Telefoto 50 MP, f/3.0, zoom óptico x5\n",
      "\n",
      "Gran angular 12 MP, f/2.2, FOV 120º\n",
      "\n",
      "Vídeo 4K@60 FPS, HDR10+\n",
      "\n",
      "cámara delantera\n",
      "\n",
      "32MP, f/2.2, FOV 90º\n",
      "\n",
      "32MP, f/2.2, FOV 90º\n",
      "\n",
      "batería\n",
      "\n",
      "5.500 mAh\n",
      "\n",
      "Carga rápida 67W\n",
      "\n",
      "5.500 mAh\n",
      "\n",
      "Carga rápida 90W\n",
      "\n",
      "Carga inalámbrica 50W\n",
      "\n",
      "sistema operativo\n",
      "\n",
      "Android 16 con HyperOS 3\n",
      "\n",
      "Android 16 con HyperOS 3\n",
      "\n",
      "conectividad\n",
      "\n",
      "WiFI 6E\n",
      "\n",
      "DualSIM (nano, eSIM)\n",
      "\n",
      "NFC\n",
      "\n",
      "Bluetooth 6.0\n",
      "\n",
      "5G NSA/SA\n",
      "\n",
      "GLONASS: G1｜QZSS: L1 + L5｜NaVIC L5\n",
      "\n",
      "B1I + B1C+ B2a｜GPS: L1 + L5｜Galileo: E1 + E5a\n",
      "\n",
      "GLONASS: G1｜QZSS: L1 + L5｜NaVIC L5\n",
      "\n",
      "sistema operativo\n",
      "\n",
      "Xiaomi HyperOS 3\n",
      "\n",
      "Xiaomi HyperOS 3\n",
      "\n",
      "Xiaomi HyperOS 3\n",
      "\n",
      "OTROS\n",
      "\n",
      "Desbloque con huella dactilar\n",
      "\n",
      "Desbloque con huella dactilar\n",
      "\n",
      "Desbloque con huella dactilar\n",
      "\n",
      "contenido de la caja\n",
      "\n",
      "Móvil, adaptador de corriente, cable USB tipo C, funda, protector de pantalla (instalado de fábrica), pin de tarjeta SIM, manual de usuario\n",
      "\n",
      "Móvil, adaptador de corriente, cable USB tipo C, funda, protector de pantalla (instalado de fábrica), pin de tarjeta SIM, manual de usuario\n",
      "\n",
      "Móvil, adaptador de corriente, cable USB tipo C, funda, protector de pantalla (instalado de fábrica), pin de tarjeta SIM, manual de usuario\n",
      "\n",
      "precio\n",
      "\n",
      "Desde 4.499 yuanes\n",
      "\n",
      "Desde 4.999 yuanes\n",
      "\n",
      "Desde 5.999 yuanes\n",
      "\n",
      "Imágenes | Huawei\n",
      "\n",
      "En Xataka |Durante años la tele nos habló. Ahora la IA quiere que le hablemos nosotros\n",
      "\n",
      "Los mejores comentarios:\n",
      "\n",
      "Ver12 comentarios\n",
      "\n",
      "En Xataka hablamos de...\n",
      "\n",
      "Ver más temas\n",
      "\n",
      "Webedia\n",
      "\n",
      "Tecnología\n",
      "\n",
      "Videojuegos\n",
      "\n",
      "Entretenimiento\n",
      "\n",
      "Gastronomía\n",
      "\n",
      "Motor\n",
      "\n",
      "Estilo de vida\n",
      "\n",
      "Economía\n",
      "\n",
      "Ediciones Internacionales\n",
      "\n",
      "Partners\n",
      "\n",
      "Destacamos\n",
      "\n",
      "Ver más temas\n",
      "\n",
      "Suscribir\n",
      "\n",
      "Más sitios que te gustarán\n",
      "\n",
      "Reciente\n",
      "\n",
      "Ver más artículos\n",
      "\n",
      "XatakaTV\n",
      "\n",
      "Ver más vídeos\n",
      "\n",
      "194 gramos\n",
      "\n",
      "162,7 x 77,9 x 7,96 mm\n",
      "\n",
      "210 gramos\n",
      "\n",
      "pantalla\n",
      "\n",
      "AMOLED de 6,83 pulgadas\n",
      "\n",
      "Resolución 1,5K (2.772 x 1.280 píxeles)\n",
      "\n",
      "447 ppp\n",
      "\n",
      "DCI-P3\n",
      "\n",
      "Tasa de refresco: 120 Hz\n",
      "\n",
      "Muestreo táctil: 480 Hz\n",
      "\n",
      "PWM Dimming: 3.840 Hz\n",
      "\n",
      "Gorilla Glass 7i\n",
      "\n",
      "Brillo pico: 3.200 nits\n",
      "\n",
      "HDR10+, Dolby Vision\n",
      "\n",
      "TÜV Rheinland Low Blue Light\n",
      "\n",
      "TÜV Rheinland Flicker Free\n",
      "\n",
      "TÜV Rheinland Circadian Friendly\n",
      "\n",
      "AMOLED de 6,83 pulgadas\n",
      "\n",
      "Resolución 1,5K (2.772 x 1.280 píxeles)\n",
      "\n",
      "447 ppp\n",
      "\n",
      "DCI-P3\n",
      "\n",
      "DC Dimming\n",
      "\n",
      "Tasa de refresco: 144 Hz\n",
      "\n",
      "Muestreo táctil: 480 Hz\n",
      "\n",
      "Gorilla Glass 7i\n",
      "\n",
      "Brillo pico: 3.200 nits\n",
      "\n",
      "HDR10+, Dolby Vision\n",
      "\n",
      "TÜV Rheinland Low Blue Light\n",
      "\n",
      "TÜV Rheinland Flicker Free\n",
      "\n",
      "TÜV Rheinland Circadian Friendly\n",
      "\n",
      "procesador\n",
      "\n",
      "MediaTek Dimensity 8400 Ultra\n",
      "\n",
      "GPU Mali-G720\n",
      "\n",
      "NPU 880\n",
      "\n",
      "MediaTek Dimensity 9400+\n",
      "\n",
      "GPU Immortalis-G925 MC12\n",
      "\n",
      "NPU 890\n",
      "\n",
      "memoria ram\n",
      "\n",
      "12 GB LPDDR5x\n",
      "\n",
      "12 GB LPDDR5x\n",
      "\n",
      "almacenamiento interno\n",
      "\n",
      "256, 512 GB UFS 4.1\n",
      "\n",
      "256, 512 GB, 1 TB UFS 4.1\n",
      "\n",
      "cámara trasera\n",
      "\n",
      "Leica VARIO-SUMMILUX 1:1.7-2.2/15-46 ASPH\n",
      "\n",
      "Angular Light Fusion 800, 50 MP, f/1.7, OIS\n",
      "----------------------------------------\n",
      "\n",
      "xavi Prompt Analiza detenidamente la siguiente pregunta e intenta comprender la intención o el significado profundo que transmite.\n",
      "Pregunta original:\n",
      " ------- \n",
      "Dame informacion sobre Honor Magic V5\n",
      " ------- \n",
      "Ahora, reescribe la pregunta para que sea más clara, precisa y fácil de entender:\n",
      "📘 Update from node: rescribir_question\n",
      "----------------------------------------\n",
      "📝 Contenido textual:\n",
      "La pregunta original, \"Dame informacion sobre Honor Magic V5\", es demasiado abierta y asume la existencia de un modelo específico que, por la numeración actual de Honor, podría no ser correcto (la serie ha pasado por V, Vs, V2, etc., pero no directamente a V5).\n",
      "\n",
      "La intención profunda es obtener detalles sobre un dispositivo plegable de Honor que el usuario ha identificado como \"Magic V5\", ya sea porque ha oído hablar de él, lo ha confundido con otro, o está buscando información sobre la próxima generación de la serie Magic V.\n",
      "\n",
      "Aquí hay una reescritura que aborda estas posibilidades y es más clara y precisa:\n",
      "\n",
      "---\n",
      "\n",
      "**Pregunta reescrita:**\n",
      "\n",
      "\"Estoy buscando información sobre el Honor Magic V5. ¿Podrías confirmarme si este modelo ya ha sido lanzado, si es un rumor sobre una futura versión, o si te refieres a otro dispositivo de la serie Honor Magic V? En caso de que exista o sea un modelo próximo, me interesaría conocer sus características principales, fecha de lanzamiento estimada y precio.\"\n",
      "----------------------------------------\n",
      "\n",
      "📘 Update from node: genera_query_o_responde\n",
      "----------------------------------------\n",
      "📝 Contenido desde objeto:\n",
      "La información que te proporcioné anteriormente parece ser de un modelo de Xiaomi y no de un Honor Magic V5. Mis disculpas por la confusión.\n",
      "\n",
      "Hasta la fecha, Honor no ha lanzado un modelo llamado \"Honor Magic V5\". La serie de plegables de Honor ha seguido con el Honor Magic V, Honor Magic Vs y el más reciente Honor Magic V2.\n",
      "\n",
      "Es posible que te refieras a un rumor sobre una futura versión o que lo hayas confundido con otro dispositivo.\n",
      "\n",
      "Si estás interesado en el último modelo plegable de Honor, el **Honor Magic V2**, puedo buscar información sobre sus características principales, fecha de lanzamiento y precio. ¿Te gustaría que lo haga?\n",
      "----------------------------------------\n",
      "\n"
     ]
    }
   ],
   "source": [
    "from pprint import pprint  # para imprimir bonito\n",
    "\n",
    "# for chunk in graph.stream(\n",
    "#     {\n",
    "#         \"messages\": [\n",
    "#             {\n",
    "#                 \"role\": \"user\",\n",
    "#                 \"content\": \"¿Cómo ha logrado Samsung superar a Google?\",\n",
    "#             }\n",
    "#         ]\n",
    "#     }\n",
    "# ):\n",
    "#     for node, update in chunk.items():\n",
    "#         print(f\"🔁 Update from node: {node}\")\n",
    "#         print(update[\"messages\"][-1])\n",
    "#         print(\"📝 Mensaje generado:\")\n",
    "#         print(messages[-1])\n",
    "#         print(\"\\n\\n\")\n",
    "\n",
    "import pdb\n",
    "for chunk in graph.stream(\n",
    "    {\n",
    "        \"messages\": [\n",
    "            {\n",
    "                \"role\": \"user\",\n",
    "                \"content\": \"Dame informacion sobre Honor Magic V5\",\n",
    "            }\n",
    "        ]\n",
    "    }\n",
    "):\n",
    "    for node, update in chunk.items():\n",
    "        print(f\"📘 Update from node: {node}\")\n",
    "        print(\"-\" * 40)\n",
    "\n",
    "        messages = update.get(\"messages\", [])\n",
    "      \n",
    "        last_msg = messages[-1]\n",
    "\n",
    "        try:\n",
    "            if isinstance(last_msg, dict):\n",
    "                if \"content\" in last_msg:\n",
    "                    print(\"📝 Contenido textual:\")\n",
    "                    print(last_msg[\"content\"])\n",
    "                elif \"tool_calls\" in last_msg:\n",
    "                    print(\"🔧 Llamada a función:\")\n",
    "                    pprint(last_msg[\"tool_calls\"])\n",
    "                else:\n",
    "                    print(\"🕵️ Mensaje dict sin content/tool_calls:\")\n",
    "                    pprint(last_msg)\n",
    "            elif hasattr(last_msg, \"content\"):\n",
    "                print(\"📝 Contenido desde objeto:\")\n",
    "                print(last_msg.content)\n",
    "            else:\n",
    "                print(\"🕵️ Mensaje desconocido:\")\n",
    "                pprint(last_msg)\n",
    "\n",
    "        except Exception as e:\n",
    "            print(\"❌ Error leyendo el mensaje:\", str(e))\n",
    "            pprint(last_msg)\n",
    "\n",
    "        print(\"-\" * 40 + \"\\n\")\n",
    "\n"
   ]
  },
  {
   "cell_type": "code",
   "execution_count": 34,
   "id": "4084a5d0-6a69-4967-8240-17bff158e3b5",
   "metadata": {},
   "outputs": [],
   "source": [
    "input = {\n",
    "    \"messages\": [\n",
    "        {\n",
    "            \"role\": \"user\",\n",
    "            \"content\": \"Dame la informacion mas relevanten y resumida sobre Honor Magic V5\",\n",
    "        }\n",
    "    ]\n",
    "}"
   ]
  },
  {
   "cell_type": "code",
   "execution_count": 35,
   "id": "bec0c099-cded-4337-aa14-10e79b5900ab",
   "metadata": {},
   "outputs": [
    {
     "name": "stderr",
     "output_type": "stream",
     "text": [
      "Retrying langchain_google_genai.chat_models._chat_with_retry.<locals>._chat_with_retry in 2.0 seconds as it raised ResourceExhausted: 429 You exceeded your current quota, please check your plan and billing details. For more information on this error, head to: https://ai.google.dev/gemini-api/docs/rate-limits.\n",
      "* Quota exceeded for metric: generativelanguage.googleapis.com/generate_content_free_tier_requests, limit: 10\n",
      "Please retry in 8.525614105s. [violations {\n",
      "  quota_metric: \"generativelanguage.googleapis.com/generate_content_free_tier_requests\"\n",
      "  quota_id: \"GenerateRequestsPerMinutePerProjectPerModel-FreeTier\"\n",
      "  quota_dimensions {\n",
      "    key: \"model\"\n",
      "    value: \"gemini-2.5-flash\"\n",
      "  }\n",
      "  quota_dimensions {\n",
      "    key: \"location\"\n",
      "    value: \"global\"\n",
      "  }\n",
      "  quota_value: 10\n",
      "}\n",
      ", links {\n",
      "  description: \"Learn more about Gemini API quotas\"\n",
      "  url: \"https://ai.google.dev/gemini-api/docs/rate-limits\"\n",
      "}\n",
      ", retry_delay {\n",
      "  seconds: 8\n",
      "}\n",
      "].\n",
      "Retrying langchain_google_genai.chat_models._chat_with_retry.<locals>._chat_with_retry in 4.0 seconds as it raised ResourceExhausted: 429 You exceeded your current quota, please check your plan and billing details. For more information on this error, head to: https://ai.google.dev/gemini-api/docs/rate-limits.\n",
      "* Quota exceeded for metric: generativelanguage.googleapis.com/generate_content_free_tier_requests, limit: 10\n",
      "Please retry in 6.437238137s. [violations {\n",
      "  quota_metric: \"generativelanguage.googleapis.com/generate_content_free_tier_requests\"\n",
      "  quota_id: \"GenerateRequestsPerMinutePerProjectPerModel-FreeTier\"\n",
      "  quota_dimensions {\n",
      "    key: \"model\"\n",
      "    value: \"gemini-2.5-flash\"\n",
      "  }\n",
      "  quota_dimensions {\n",
      "    key: \"location\"\n",
      "    value: \"global\"\n",
      "  }\n",
      "  quota_value: 10\n",
      "}\n",
      ", links {\n",
      "  description: \"Learn more about Gemini API quotas\"\n",
      "  url: \"https://ai.google.dev/gemini-api/docs/rate-limits\"\n",
      "}\n",
      ", retry_delay {\n",
      "  seconds: 6\n",
      "}\n",
      "].\n",
      "Retrying langchain_google_genai.chat_models._chat_with_retry.<locals>._chat_with_retry in 8.0 seconds as it raised ResourceExhausted: 429 You exceeded your current quota, please check your plan and billing details. For more information on this error, head to: https://ai.google.dev/gemini-api/docs/rate-limits.\n",
      "* Quota exceeded for metric: generativelanguage.googleapis.com/generate_content_free_tier_requests, limit: 10\n",
      "Please retry in 2.35043682s. [violations {\n",
      "  quota_metric: \"generativelanguage.googleapis.com/generate_content_free_tier_requests\"\n",
      "  quota_id: \"GenerateRequestsPerMinutePerProjectPerModel-FreeTier\"\n",
      "  quota_dimensions {\n",
      "    key: \"model\"\n",
      "    value: \"gemini-2.5-flash\"\n",
      "  }\n",
      "  quota_dimensions {\n",
      "    key: \"location\"\n",
      "    value: \"global\"\n",
      "  }\n",
      "  quota_value: 10\n",
      "}\n",
      ", links {\n",
      "  description: \"Learn more about Gemini API quotas\"\n",
      "  url: \"https://ai.google.dev/gemini-api/docs/rate-limits\"\n",
      "}\n",
      ", retry_delay {\n",
      "  seconds: 2\n",
      "}\n",
      "].\n",
      "Retrying langchain_google_genai.chat_models._chat_with_retry.<locals>._chat_with_retry in 16.0 seconds as it raised ResourceExhausted: 429 You exceeded your current quota, please check your plan and billing details. For more information on this error, head to: https://ai.google.dev/gemini-api/docs/rate-limits.\n",
      "* Quota exceeded for metric: generativelanguage.googleapis.com/generate_content_free_tier_requests, limit: 10\n",
      "Please retry in 54.266834066s. [violations {\n",
      "  quota_metric: \"generativelanguage.googleapis.com/generate_content_free_tier_requests\"\n",
      "  quota_id: \"GenerateRequestsPerMinutePerProjectPerModel-FreeTier\"\n",
      "  quota_dimensions {\n",
      "    key: \"model\"\n",
      "    value: \"gemini-2.5-flash\"\n",
      "  }\n",
      "  quota_dimensions {\n",
      "    key: \"location\"\n",
      "    value: \"global\"\n",
      "  }\n",
      "  quota_value: 10\n",
      "}\n",
      ", links {\n",
      "  description: \"Learn more about Gemini API quotas\"\n",
      "  url: \"https://ai.google.dev/gemini-api/docs/rate-limits\"\n",
      "}\n",
      ", retry_delay {\n",
      "  seconds: 54\n",
      "}\n",
      "].\n"
     ]
    },
    {
     "name": "stdout",
     "output_type": "stream",
     "text": [
      "score : no\n",
      "xavi Prompt Analiza detenidamente la siguiente pregunta e intenta comprender la intención o el significado profundo que transmite.\n",
      "Pregunta original:\n",
      " ------- \n",
      "Dame la informacion mas relevanten y resumida sobre Honor Magic V5\n",
      " ------- \n",
      "Ahora, reescribe la pregunta para que sea más clara, precisa y fácil de entender:\n",
      "==================================\u001b[1m Ai Message \u001b[0m==================================\n",
      "\n",
      "Gracias por el análisis detallado y la pregunta reescrita. Entiendo perfectamente la intención de buscar información concisa y relevante sobre el Honor Magic V5, y la importancia de considerar si el modelo existe o si se refiere al plegable más reciente de la serie Honor Magic V.\n",
      "\n",
      "Agradezco la claridad y precisión de la nueva formulación. Si tienes alguna otra pregunta o quieres que busque información con esta nueva pregunta, házmelo saber.\n"
     ]
    }
   ],
   "source": [
    "graph.invoke(input)[\"messages\"][-1].pretty_print()"
   ]
  },
  {
   "cell_type": "markdown",
   "id": "c69c18fa-b2ae-42a9-985a-44293080d78b",
   "metadata": {},
   "source": [
    "Notas para la reu: Definición rápida:\n",
    "Un agente en LangChain es una entidad capaz de razonar paso a paso, decidir qué herramientas o funciones usar, ejecutar acciones (como buscar información, hacer cálculos, llamar APIs, etc.), y combinar resultados para dar una respuesta final.\n",
    "\n",
    "¿En qué se diferencia de una simple cadena (\"chain\")?\n",
    "Chain: Es una secuencia fija de pasos (ej: extrae datos → llama a un LLM → genera texto).\n",
    "\n",
    "Agente: Toma decisiones sobre qué hacer en cada paso, según el contexto y los resultados anteriores. Puede elegir diferentes herramientas, iterar, preguntar, buscar, etc. No sigue una ruta fija.\n",
    "\n",
    "¿Cómo funciona un agente en LangChain?\n",
    "Recibe una pregunta o tarea.\n",
    "\n",
    "El LLM interpreta la tarea y decide cuál (o cuáles) herramientas necesita para resolverla (por ejemplo: buscar en Google, consultar una base de datos, hacer cálculos, etc.).\n",
    "\n",
    "Ejecuta acciones: llama a la(s) herramienta(s), analiza los resultados, decide si necesita más pasos.\n",
    "\n",
    "Itera hasta tener suficiente información.\n",
    "\n",
    "Redacta la respuesta final al usuario.\n",
    "\n",
    "https://langchain-ai.github.io/langgraph/tutorials/rag/langgraph_agentic_rag/\n",
    "\n"
   ]
  }
 ],
 "metadata": {
  "kernelspec": {
   "display_name": "Python 3 (ipykernel)",
   "language": "python",
   "name": "python3"
  },
  "language_info": {
   "codemirror_mode": {
    "name": "ipython",
    "version": 3
   },
   "file_extension": ".py",
   "mimetype": "text/x-python",
   "name": "python",
   "nbconvert_exporter": "python",
   "pygments_lexer": "ipython3",
   "version": "3.12.8"
  }
 },
 "nbformat": 4,
 "nbformat_minor": 5
}
