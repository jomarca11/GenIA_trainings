{
 "cells": [
  {
   "cell_type": "markdown",
   "id": "99f10bce-0260-47e1-b57b-616b86754ed1",
   "metadata": {},
   "source": [
    "Set Up for the Agentic Rag"
   ]
  },
  {
   "cell_type": "code",
   "execution_count": 1,
   "id": "7535d1b6",
   "metadata": {},
   "outputs": [],
   "source": [
    "# conda create -n langchain\n",
    "# conda activate langchain\n",
    "# conda install ipykernel"
   ]
  },
  {
   "cell_type": "code",
   "execution_count": 2,
   "id": "5854c410-d7cb-4e31-ac16-99d7826b918b",
   "metadata": {},
   "outputs": [],
   "source": [
    "# pip install -r requirements.txt"
   ]
  },
  {
   "cell_type": "code",
   "execution_count": 1,
   "id": "d75c8330-3f9c-4d8a-8da8-dc957e3056f6",
   "metadata": {},
   "outputs": [
    {
     "name": "stdout",
     "output_type": "stream",
     "text": [
      "✅ Claves cargadas correctamente\n"
     ]
    }
   ],
   "source": [
    "# Importamos librerías necesarias\n",
    "import os\n",
    "from dotenv import load_dotenv, find_dotenv\n",
    "\n",
    "# Cargamos variables de entorno\n",
    "dotenv_path = load_dotenv()\n",
    "\n",
    "# Leemos las claves\n",
    "token_gemini = os.getenv(\"GOOGLE_API_KEY\")\n",
    "\n",
    "# Verificar que las claves existen\n",
    "if not token_gemini:\n",
    "    raise ValueError(\"❌ Falta la clave GOOGLE_API_KEY en el archivo .env\")\n",
    "\n",
    "print(\"✅ Claves cargadas correctamente\")"
   ]
  },
  {
   "cell_type": "markdown",
   "id": "ad1ab0d4-93bb-48c8-8828-493817400556",
   "metadata": {},
   "source": [
    "## 1 Preprocess the Documents"
   ]
  },
  {
   "cell_type": "markdown",
   "id": "633f19e8-5712-4071-9018-0c7d4e1b2eab",
   "metadata": {},
   "source": [
    "### 1. Scrap Xataka Web Site"
   ]
  },
  {
   "cell_type": "code",
   "execution_count": 2,
   "id": "684987fc-04e8-42f6-9530-dcb2fda556a7",
   "metadata": {},
   "outputs": [
    {
     "name": "stdout",
     "output_type": "stream",
     "text": [
      "Se han encontrado 335 sitemaps.\n",
      "Ejemplo: ['https://www.xataka.com/categoria/default/sitemap.xml', 'https://www.xataka.com/categoria/otros/sitemap.xml', 'https://www.xataka.com/categoria/moviles/sitemap.xml']\n",
      "\n",
      "Se han filtrado 7 sitemaps relevantes.\n",
      "Ejemplo: ['https://www.xataka.com/categoria/moviles/sitemap.xml', 'https://www.xataka.com/categoria/ordenadores/sitemap.xml', 'https://www.xataka.com/categoria/videojuegos/sitemap.xml']\n",
      "Procesando https://www.xataka.com/categoria/moviles/sitemap.xml\n",
      "Procesando https://www.xataka.com/categoria/ordenadores/sitemap.xml\n",
      "Procesando https://www.xataka.com/categoria/videojuegos/sitemap.xml\n",
      "Procesando https://www.xataka.com/categoria/perifericos/sitemap.xml\n",
      "Procesando https://www.xataka.com/categoria/televisores/sitemap.xml\n",
      "Procesando https://www.xataka.com/categoria/componentes/sitemap.xml\n",
      "Procesando https://www.xataka.com/categoria/inteligencia-artificial/sitemap.xml\n",
      "\n",
      "Total artículos únicos extraídos: 64\n",
      "{'url': 'https://www.xataka.com/moviles/nubia-z80-ultra-caracteristicas-precio-ficha-tecnica', 'category': 'moviles'}\n",
      "{'url': 'https://i.blogs.es/ff0e48/nubia-z80-03/650_1200.jpeg', 'category': 'ff0e48'}\n",
      "{'url': 'https://www.xataka.com/moviles/google-tiene-dificil-seguir-presumiendo-mejor-procesamiento-fotografico-vivo-ha-superado-a-pixel-su-propio-terreno', 'category': 'moviles'}\n",
      "\n",
      "Total artículos correctamente scrapeados: 32\n",
      "- El sueño del móvil \"todo pantalla\" sigue vivo. Se llama Nubia Z80 Ultra y es una auténtica bestia (moviles)\n",
      "- Google tiene difícil seguir presumiendo del mejor procesamiento fotográfico: Vivo ha superado a los Pixel en su propio terreno (moviles)\n",
      "- Apple ha tenido que dar marcha atrás con su diseño más llamativo de iOS 26: \"Liquid Glass\" (moviles)\n",
      "- Hay una carrera por conseguir el primer teléfono con un software 100% libre: hasta ahora solo ha habido fracaso (moviles)\n",
      "- Realme busca que el móvil sea la mejor cámara de calle. Y se ha unido a la marca de cámaras de calle por excelencia (moviles)\n",
      "- De ladrón con microscopio a amenaza existencial: la historia de cómo AMD nació copiando descaradamente a Intel (componentes)\n",
      "- Google ha resuelto en dos horas problemas que en un supercomputador costarían tres años. Es la ventaja cuántica que necesitábamos (ordenadores)\n",
      "- El fin del soporte para Windows 10 ha activado una bomba de relojería: millones de ordenadores acabarán en la basura (ordenadores)\n",
      "- El MacBook Pro se actualiza con el nuevo chip M5 y Apple lo prepara para algo que empieza a ser común: tener una IA en local (ordenadores)\n",
      "- El nuevo Apple M5 es un chip monstruoso en potencia, pero la sorpresa es dónde da el verdadero salto: en ejecución de modelos de IA (componentes)\n"
     ]
    }
   ],
   "source": [
    "import requests\n",
    "from bs4 import BeautifulSoup\n",
    "from urllib.parse import urljoin, urlparse\n",
    "from langchain_core.documents import Document\n",
    "from time import sleep\n",
    "\n",
    "from typing import List, Set\n",
    "\n",
    "import requests\n",
    "from bs4 import BeautifulSoup\n",
    "\n",
    "# --------------------------------------\n",
    "# 1. Leer el sitemap_index.xml\n",
    "# --------------------------------------\n",
    "\n",
    "def get_category_sitemaps(index_url=\"https://www.xataka.com/sitemap_index.xml\"):\n",
    "    headers = {\"User-Agent\": \"Bot/1.0\"}\n",
    "    response = requests.get(index_url, headers=headers)\n",
    "    soup = BeautifulSoup(response.content, \"xml\")\n",
    "\n",
    "    sitemaps = [loc.get_text() for loc in soup.find_all(\"loc\")]\n",
    "    return sitemaps\n",
    "\n",
    "category_sitemaps = get_category_sitemaps()\n",
    "print(f\"Se han encontrado {len(category_sitemaps)} sitemaps.\")\n",
    "print(\"Ejemplo:\", category_sitemaps[:3])\n",
    "\n",
    "# --------------------------------------\n",
    "# 2. Filtrar solo las categorías importantes\n",
    "# --------------------------------------\n",
    "\n",
    "important_categories = [\n",
    "    \"moviles\", \"portatiles\", \"ordenadores\", \"componentes\",\n",
    "    \"perifericos\", \"televisores\", \"software\", \"internet\",\n",
    "    \"inteligencia-artificial\", \"videojuegos\", \"gadgets\"\n",
    "]\n",
    "\n",
    "filtered_sitemaps = [\n",
    "    url for url in category_sitemaps\n",
    "    if any(f\"/{cat}/\" in url for cat in important_categories)\n",
    "]\n",
    "\n",
    "print(f\"\\nSe han filtrado {len(filtered_sitemaps)} sitemaps relevantes.\")\n",
    "print(\"Ejemplo:\", filtered_sitemaps[:3])\n",
    "\n",
    "# --------------------------------------\n",
    "# 3. Extraer URLs de artículos desde los sitemaps\n",
    "# --------------------------------------\n",
    "\n",
    "def get_articles_from_category_sitemap(sitemap_url, max_articles=10):\n",
    "    headers = {\"User-Agent\": \"Bot/1.0\"}\n",
    "    response = requests.get(sitemap_url, headers=headers)\n",
    "    soup = BeautifulSoup(response.content, \"xml\")\n",
    "\n",
    "    urls = [loc.get_text() for loc in soup.find_all(\"loc\")]\n",
    "    return urls[:max_articles]\n",
    "\n",
    "all_articles = []\n",
    "seen_urls = set()\n",
    "\n",
    "for sitemap_url in filtered_sitemaps:\n",
    "    print(f\"Procesando {sitemap_url}\")\n",
    "    articles = get_articles_from_category_sitemap(sitemap_url, max_articles=10)\n",
    "\n",
    "    for url in articles:\n",
    "        if url not in seen_urls:\n",
    "            category = url.split(\"/\")[3] if len(url.split(\"/\")) > 3 else \"desconocida\"\n",
    "            all_articles.append({\n",
    "                \"url\": url,\n",
    "                \"category\": category\n",
    "            })\n",
    "            seen_urls.add(url)\n",
    "    sleep(0.5)  # ser amable con el servidor\n",
    "\n",
    "print(f\"\\nTotal artículos únicos extraídos: {len(all_articles)}\")\n",
    "for a in all_articles[:3]:\n",
    "    print(a)\n",
    "\n",
    "# --------------------------------------\n",
    "# 4. Scraping del contenido: title + text\n",
    "# --------------------------------------\n",
    "\n",
    "def scrape_article(url, category):\n",
    "    headers = {\"User-Agent\": \"Bot/1.0\"}\n",
    "    try:\n",
    "        \n",
    "        response = requests.get(url, headers=headers, timeout=10)\n",
    "        response.encoding = 'utf-8' # <-- aquí el fix\n",
    "\n",
    "        if response.status_code != 200:\n",
    "            return None\n",
    "\n",
    "        soup = BeautifulSoup(response.text, \"html.parser\")\n",
    "\n",
    "        title_tag = soup.find(\"h1\")\n",
    "        paragraphs = soup.find_all(\"p\")\n",
    "\n",
    "        if not title_tag or not paragraphs:\n",
    "            return None\n",
    "\n",
    "        title = title_tag.get_text(strip=True)\n",
    "        content = \"\\n\\n\".join([p.get_text(strip=True) for p in paragraphs])\n",
    "\n",
    "        return {\n",
    "            \"url\": url,\n",
    "            \"title\": title,\n",
    "            \"content\": content,\n",
    "            \"category\": category\n",
    "        }\n",
    "    except Exception as e:\n",
    "        print(f\"❌ Error en {url}: {e}\")\n",
    "        return None\n",
    "\n",
    "# Ejecutar scraping de todos los artículos\n",
    "scraped_articles = []\n",
    "\n",
    "for article in all_articles:\n",
    "    result = scrape_article(article[\"url\"], article[\"category\"])\n",
    "    if result:\n",
    "        scraped_articles.append(result)\n",
    "\n",
    "print(f\"\\nTotal artículos correctamente scrapeados: {len(scraped_articles)}\")\n",
    "for a in scraped_articles[:10]:\n",
    "    print(f\"- {a['title']} ({a['category']})\")"
   ]
  },
  {
   "cell_type": "markdown",
   "id": "22b8083d-e798-4c6f-b8f8-875a54c99eeb",
   "metadata": {},
   "source": [
    "### 2. Convertimos los documentos extraidos al formato Document que espera el Splitter"
   ]
  },
  {
   "cell_type": "code",
   "execution_count": 5,
   "id": "48a56dba-0673-4e84-aa58-eba0d33e2fa8",
   "metadata": {},
   "outputs": [],
   "source": [
    "from langchain_core.documents import Document\n",
    "\n",
    "documents = [\n",
    "    Document(\n",
    "        page_content=article[\"content\"],\n",
    "        metadata={\n",
    "            \"title\": article[\"title\"],\n",
    "            \"url\": article[\"url\"],\n",
    "            \"category\": article[\"category\"]\n",
    "        }\n",
    "    )\n",
    "    for article in scraped_articles\n",
    "]"
   ]
  },
  {
   "cell_type": "code",
   "execution_count": 6,
   "id": "66f0499e-a10e-4e1a-97d2-1ac37f96987b",
   "metadata": {},
   "outputs": [
    {
     "data": {
      "text/plain": [
       "Document(metadata={'title': 'El sueño del móvil \"todo pantalla\" sigue vivo. Se llama Nubia Z80 Ultra y es una auténtica bestia', 'url': 'https://www.xataka.com/moviles/nubia-z80-ultra-caracteristicas-precio-ficha-tecnica', 'category': 'moviles'}, page_content='Amparo Babiloni\\n\\nAmparo Babiloni\\n\\nNubia no falla a su cita anual y acaba de anunciar su nuevo gama alta, el Nubia Z80 Ultra. La filial de ZTE sigue los pasos delNubia Z70 Ultray apuesta por una hoja técnica a la que prácticamente no le caben características más punteras. Además, este año se suben al carro delos móviles fotográficosconun kit que lo transforma en una cámara retro. Veamos todo lo que ofrece.Ficha técnica del Nubia Z80 Ultra\\n\\nNubia no falla a su cita anual y acaba de anunciar su nuevo gama alta, el Nubia Z80 Ultra. La filial de ZTE sigue los pasos delNubia Z70 Ultray apuesta por una hoja técnica a la que prácticamente no le caben características más punteras. Además, este año se suben al carro delos móviles fotográficosconun kit que lo transforma en una cámara retro. Veamos todo lo que ofrece.\\n\\n\\n\\nnubia z80 ultra\\n\\nDIMEnsiones y peso\\n\\n164,5 x 77,2 x 8,6 mm\\n\\n227 gramos\\n\\npantalla\\n\\nOLED de 6,85 pulgadas\\n\\nResolución FullHD+ (2.688 x 1.216 píxeles)\\n\\n144 Hz\\n\\n2.000 nits\\n\\nSin notch\\n\\nprocesador\\n\\nQualcomm Snapdragon 8 Elite Gen5\\n\\nmemoria ram\\n\\n12/16 GB LPDDR5x\\n\\nalmacenamiento interno\\n\\n256/512GB/1TB\\n\\nUFS 4.1\\n\\ncámaraS traseraS\\n\\nPrincipal: 50MP, 1/1.3\", 35mm, OIS, f/1.7, OV50H\\n\\nUltra angular: 50MP, 1/1.55\", 18mm, f/1.8, AF, Macro 5.5cm, OV50E\\n\\nTelefoto: 64MP, 70mm, f/2.48, OIS, OV64B\\n\\ncámara delantera\\n\\n16 MP\\n\\nbatería\\n\\n7.200 mAh\\n\\nCarga rápida 80W (con cable e inaámbrica)\\n\\nsistema operativo\\n\\nNebula AI OS 2.0\\n\\nAndroid 16\\n\\nconectividad\\n\\n5G, WiFi 7, Bluetooth 5.4, GPS L1+L2+L5, NFC\\n\\nUSB tipo C\\n\\notros\\n\\nCámara bajo la pantalla\\n\\nLector de huellas bajo la pantalla\\n\\nDesbloqueo facial\\n\\nDTS:X Ultra\\n\\nBotón de cámara\\n\\nInteligencia artificial\\n\\nResistencia al agua IP68, IP69\\n\\nprecio\\n\\nPor confirmar\\n\\nCorría el año 2020 cuando ZTE ocultó por primera vez la cámara frontal debajo de la pantalla delZTE Axon 20. Ya se ha convertido en una seña de identidad de sus gama alta y en su gama Nubia no iba a ser menos. Gracias a esto,el frontal del teléfono es todo pantalla,concretamente un panel de 6,85 pulgadas con brillo de hasta 2.000 nits y tasa de refresco de 144Hz. Además de la cámara frontal, la pantalla también esconde un lector de huellas.\\n\\nAl darle la vuelta nos encontramos con su otra seña de identidad, el módulo de cámara que recuerda al aspecto de una cámara retro.Es rectangular y ocupa toda la anchura del teléfono.Además, a diferencia de otras cámaras que suelen colocar los sensores todos juntos en disposición cuadrada o circular, aquí tenemos el sensor principal que sobresale del resto, con el telefoto debajo y el angular más a la derecha.\\n\\nLos tres sensores son OmniVision. El principal, de 50 megapíxeles, es el más grande, luminoso y cuenta con estabilizador óptico. El gran angular también ofrece la misma resolución, pero el sensor es más pequeño y la lente no es tan luminosa. Por último, el teleobjetivo tiene 64 megapíxeles de resolución y también cuenta con estabilizador óptico.\\n\\nHablando de cámaras, el Nubia Z80 Ultra viene conun kit fotográfico que se vende por separadoy consta de una carcasa a la que podemos acoplarle un teleobjetivo externo. La carcasa cuenta con controles en la parte superior que lo convierten casi en una cámara compacta. Del teleobjetivo no han dado detalles, pero recuerda mucho al del Vivo X300.Lo último de Qualcomm y batería para ratoBajo el capó del Nubia Z80 Ultra nos encontramos con elSnapdragon 8 Elite Gen 5que Qualcomm anunció hace apenas un mes. Además del chip más avanzado, también cuenta con 12 o 16 GB de RAM LPDDR5X y almacenamiento hasta 1TB UFS4.1. Sale de serie con la capaNebula AI OS 2.0 basada en Android 16.\\n\\nHablando de cámaras, el Nubia Z80 Ultra viene conun kit fotográfico que se vende por separadoy consta de una carcasa a la que podemos acoplarle un teleobjetivo externo. La carcasa cuenta con controles en la parte superior que lo convierten casi en una cámara compacta. Del teleobjetivo no han dado detalles, pero recuerda mucho al del Vivo X300.\\n\\nBajo el capó del Nubia Z80 Ultra nos encontramos con elSnapdragon 8 Elite Gen 5que Qualcomm anunció hace apenas un mes. Además del chip más avanzado, también cuenta con 12 o 16 GB de RAM LPDDR5X y almacenamiento hasta 1TB UFS4.1. Sale de serie con la capaNebula AI OS 2.0 basada en Android 16.\\n\\nPara la batería, sorprende que el nuevo modelo comparte casi las mismas dimensiones y peso que el anterior, pero su batería es mucho más grande. Son7.200 miliamperiosy carga rápida de 80W, tanto si usamos cable como cargador inalámbrico.Versiones y precios del Nubia Z80 Ultra\\n\\nPara la batería, sorprende que el nuevo modelo comparte casi las mismas dimensiones y peso que el anterior, pero su batería es mucho más grande. Son7.200 miliamperiosy carga rápida de 80W, tanto si usamos cable como cargador inalámbrico.\\n\\nEl Nubia Z80 Ultrasale a la venta en España el próximo 6 de noviembrey llegará en varias versiones dependiendo del color y la memoria. Además de las versiones negra y blanca, Nubia repite un año más y trae una versión \\'Starry Night\\', decorada con un dibujo que recuerda a la conocida obra de Van Gogh.Por el momento, no han desvelado los precios para España, pero actualizaremos en cuanto los confirmen. Las versiones que llegarán a la venta son éstas:12+256GB:negro.16+512GB:negro, blanco y \\'Starry Night\\'.16+1TB:negro.Imágenes | NubiaEn Xataka |Google tiene difícil seguir presumiendo del mejor procesamiento fotográfico: Vivo ha superado a los Pixel en su propio terreno\\n\\nEl Nubia Z80 Ultrasale a la venta en España el próximo 6 de noviembrey llegará en varias versiones dependiendo del color y la memoria. Además de las versiones negra y blanca, Nubia repite un año más y trae una versión \\'Starry Night\\', decorada con un dibujo que recuerda a la conocida obra de Van Gogh.\\n\\nPor el momento, no han desvelado los precios para España, pero actualizaremos en cuanto los confirmen. Las versiones que llegarán a la venta son éstas:\\n\\nImágenes | Nubia\\n\\nEn Xataka |Google tiene difícil seguir presumiendo del mejor procesamiento fotográfico: Vivo ha superado a los Pixel en su propio terreno\\n\\nLos mejores comentarios:\\n\\nVer3 comentarios\\n\\nEn Xataka hablamos de...\\n\\nVer más temas\\n\\nWebedia\\n\\nTecnología\\n\\nVideojuegos\\n\\nEntretenimiento\\n\\nGastronomía\\n\\nMotor\\n\\nEstilo de vida\\n\\nEconomía\\n\\nEdiciones Internacionales\\n\\nPartners\\n\\nDestacamos\\n\\nVer más temas\\n\\nSuscribir\\n\\nMás sitios que te gustarán\\n\\nReciente\\n\\nVer más artículos\\n\\nXatakaTV\\n\\nVer más vídeos')"
      ]
     },
     "execution_count": 6,
     "metadata": {},
     "output_type": "execute_result"
    }
   ],
   "source": [
    "documents[0]"
   ]
  },
  {
   "cell_type": "markdown",
   "id": "8dc6be1d-be30-4b05-8a25-6fc04ebd621b",
   "metadata": {},
   "source": [
    "#### 2.1 Chunking"
   ]
  },
  {
   "cell_type": "code",
   "execution_count": 7,
   "id": "e7ba5bbb-6881-432b-a7d3-40c1d729e46f",
   "metadata": {},
   "outputs": [],
   "source": [
    "from langchain_text_splitters import RecursiveCharacterTextSplitter \n",
    "from typing import List\n",
    "\n",
    "def split_documents(\n",
    "    docs: List[Document],\n",
    "    chunk_size: int = 500,\n",
    "    chunk_overlap: int = 100\n",
    ") -> List[Document]:\n",
    "    \"\"\"\n",
    "    Divide documentos largos en fragmentos más pequeños usando RecursiveCharacterTextSplitter.\n",
    "\n",
    "    Args:\n",
    "        docs: Lista de Documentos de LangChain.\n",
    "        chunk_size: Tamaño máximo de cada fragmento.\n",
    "        chunk_overlap: Número de caracteres que se solapan entre fragmentos.\n",
    "\n",
    "    Returns:\n",
    "        Lista de documentos divididos.\n",
    "    \"\"\"\n",
    "    text_splitter = RecursiveCharacterTextSplitter.from_tiktoken_encoder(\n",
    "        chunk_size=chunk_size,\n",
    "        chunk_overlap=chunk_overlap\n",
    "    )\n",
    "    chunked = text_splitter.split_documents(docs)\n",
    "    print(f\"📄 Documentos originales: {len(docs)} → 🧩 Chunks generados: {len(chunked)}\")\n",
    "    return chunked\n"
   ]
  },
  {
   "cell_type": "code",
   "execution_count": 8,
   "id": "e9f67605-7b8f-4a1c-93a2-f65a5b72ce60",
   "metadata": {
    "scrolled": true
   },
   "outputs": [
    {
     "name": "stdout",
     "output_type": "stream",
     "text": [
      "📄 Documentos originales: 32 → 🧩 Chunks generados: 295\n",
      "Se han generado 295 fragmentos.\n"
     ]
    }
   ],
   "source": [
    "doc_splits = split_documents(documents, chunk_size=500, chunk_overlap=200)\n",
    "\n",
    "print(f\"Se han generado {len(doc_splits)} fragmentos.\")"
   ]
  },
  {
   "cell_type": "code",
   "execution_count": 9,
   "id": "d697bad6-a56b-4e59-b978-82d44684c037",
   "metadata": {},
   "outputs": [
    {
     "data": {
      "text/plain": [
       "'Amparo Babiloni\\n\\nAmparo Babiloni\\n\\nNubia no falla a su cita anual y acaba de anunciar su nuevo gama alta, el Nubia Z80 Ultra. La filial de ZTE sigue los pasos delNubia Z70 Ultray apuesta por una hoja técnica a la que prácticamente no le caben características más punteras. Además, este año se suben al carro delos móviles fotográficosconun kit que lo transforma en una cámara retro. Veamos todo lo que ofrece.Ficha técnica del Nubia Z80 Ultra\\n\\nNubia no falla a su cita anual y acaba de anunciar su nuevo gama alta, el Nubia Z80 Ultra. La filial de ZTE sigue los pasos delNubia Z70 Ultray apuesta por una hoja técnica a la que prácticamente no le caben características más punteras. Además, este año se suben al carro delos móviles fotográficosconun kit que lo transforma en una cámara retro. Veamos todo lo que ofrece.\\n\\n\\n\\nnubia z80 ultra\\n\\nDIMEnsiones y peso\\n\\n164,5 x 77,2 x 8,6 mm\\n\\n227 gramos\\n\\npantalla\\n\\nOLED de 6,85 pulgadas\\n\\nResolución FullHD+ (2.688 x 1.216 píxeles)\\n\\n144 Hz\\n\\n2.000 nits\\n\\nSin notch\\n\\nprocesador\\n\\nQualcomm Snapdragon 8 Elite Gen5\\n\\nmemoria ram\\n\\n12/16 GB LPDDR5x\\n\\nalmacenamiento interno\\n\\n256/512GB/1TB\\n\\nUFS 4.1\\n\\ncámaraS traseraS'"
      ]
     },
     "execution_count": 9,
     "metadata": {},
     "output_type": "execute_result"
    }
   ],
   "source": [
    "doc_splits[0].page_content.strip()"
   ]
  },
  {
   "cell_type": "code",
   "execution_count": 10,
   "id": "f5d3e650-6bb4-4e3d-99d7-da547e2f8178",
   "metadata": {},
   "outputs": [
    {
     "data": {
      "text/plain": [
       "'nubia z80 ultra\\n\\nDIMEnsiones y peso\\n\\n164,5 x 77,2 x 8,6 mm\\n\\n227 gramos\\n\\npantalla\\n\\nOLED de 6,85 pulgadas\\n\\nResolución FullHD+ (2.688 x 1.216 píxeles)\\n\\n144 Hz\\n\\n2.000 nits\\n\\nSin notch\\n\\nprocesador\\n\\nQualcomm Snapdragon 8 Elite Gen5\\n\\nmemoria ram\\n\\n12/16 GB LPDDR5x\\n\\nalmacenamiento interno\\n\\n256/512GB/1TB\\n\\nUFS 4.1\\n\\ncámaraS traseraS\\n\\nPrincipal: 50MP, 1/1.3\", 35mm, OIS, f/1.7, OV50H\\n\\nUltra angular: 50MP, 1/1.55\", 18mm, f/1.8, AF, Macro 5.5cm, OV50E\\n\\nTelefoto: 64MP, 70mm, f/2.48, OIS, OV64B\\n\\ncámara delantera\\n\\n16 MP\\n\\nbatería\\n\\n7.200 mAh\\n\\nCarga rápida 80W (con cable e inaámbrica)\\n\\nsistema operativo\\n\\nNebula AI OS 2.0\\n\\nAndroid 16\\n\\nconectividad\\n\\n5G, WiFi 7, Bluetooth 5.4, GPS L1+L2+L5, NFC\\n\\nUSB tipo C\\n\\notros\\n\\nCámara bajo la pantalla\\n\\nLector de huellas bajo la pantalla\\n\\nDesbloqueo facial\\n\\nDTS:X Ultra\\n\\nBotón de cámara\\n\\nInteligencia artificial\\n\\nResistencia al agua IP68, IP69\\n\\nprecio\\n\\nPor confirmar'"
      ]
     },
     "execution_count": 10,
     "metadata": {},
     "output_type": "execute_result"
    }
   ],
   "source": [
    "doc_splits[1].page_content.strip()"
   ]
  },
  {
   "cell_type": "code",
   "execution_count": 11,
   "id": "32c2a52b-1f62-49ec-8dcb-c8bae0cee362",
   "metadata": {},
   "outputs": [
    {
     "data": {
      "text/plain": [
       "'cámara delantera\\n\\n16 MP\\n\\nbatería\\n\\n7.200 mAh\\n\\nCarga rápida 80W (con cable e inaámbrica)\\n\\nsistema operativo\\n\\nNebula AI OS 2.0\\n\\nAndroid 16\\n\\nconectividad\\n\\n5G, WiFi 7, Bluetooth 5.4, GPS L1+L2+L5, NFC\\n\\nUSB tipo C\\n\\notros\\n\\nCámara bajo la pantalla\\n\\nLector de huellas bajo la pantalla\\n\\nDesbloqueo facial\\n\\nDTS:X Ultra\\n\\nBotón de cámara\\n\\nInteligencia artificial\\n\\nResistencia al agua IP68, IP69\\n\\nprecio\\n\\nPor confirmar\\n\\nCorría el año 2020 cuando ZTE ocultó por primera vez la cámara frontal debajo de la pantalla delZTE Axon 20. Ya se ha convertido en una seña de identidad de sus gama alta y en su gama Nubia no iba a ser menos. Gracias a esto,el frontal del teléfono es todo pantalla,concretamente un panel de 6,85 pulgadas con brillo de hasta 2.000 nits y tasa de refresco de 144Hz. Además de la cámara frontal, la pantalla también esconde un lector de huellas.\\n\\nAl darle la vuelta nos encontramos con su otra seña de identidad, el módulo de cámara que recuerda al aspecto de una cámara retro.Es rectangular y ocupa toda la anchura del teléfono.Además, a diferencia de otras cámaras que suelen colocar los sensores todos juntos en disposición cuadrada o circular, aquí tenemos el sensor principal que sobresale del resto, con el telefoto debajo y el angular más a la derecha.'"
      ]
     },
     "execution_count": 11,
     "metadata": {},
     "output_type": "execute_result"
    }
   ],
   "source": [
    "doc_splits[2].page_content.strip()"
   ]
  },
  {
   "cell_type": "markdown",
   "id": "f65efd1c-26af-4029-8b75-f5291bf0d8f1",
   "metadata": {},
   "source": [
    "## 2. Creamos el retriever tool en memoria."
   ]
  },
  {
   "cell_type": "markdown",
   "id": "ac29847b-8e6a-4137-9fd3-8bcf6c2e4793",
   "metadata": {},
   "source": [
    "### 1. Use an in-memory vector store and Gemini embeddings"
   ]
  },
  {
   "cell_type": "code",
   "execution_count": 12,
   "id": "bfb2fe23-664e-470c-a68e-b4e86d7747cf",
   "metadata": {},
   "outputs": [],
   "source": [
    "from langchain_core.vectorstores import InMemoryVectorStore\n",
    "\n",
    "from langchain_google_genai import GoogleGenerativeAIEmbeddings\n",
    "embeddings = GoogleGenerativeAIEmbeddings(model=\"models/text-embedding-004\") # <-- USA ESTE MODELO, ES MÁS MODERNO\n",
    "vectorstore = InMemoryVectorStore(embedding=embeddings)"
   ]
  },
  {
   "cell_type": "code",
   "execution_count": 13,
   "id": "6e8c1c55-d79c-4997-b5d9-d23d89db941c",
   "metadata": {},
   "outputs": [
    {
     "name": "stdout",
     "output_type": "stream",
     "text": [
      "Procesando batch 1 con 295 chunks...\n"
     ]
    }
   ],
   "source": [
    "# 2. Procesa por batches (lotes). Tenemos que procesar por lotes por que no admite mas de 300000  tokens\n",
    "batch_size = 500\n",
    "\n",
    "for i in range(0, len(doc_splits), batch_size):\n",
    "    batch = doc_splits[i:i + batch_size]\n",
    "    # Procesa cada batch aquí. Ejemplo: añade al VectorStore\n",
    "    vectorstore.add_documents(batch)\n",
    "    print(f\"Procesando batch {i//batch_size + 1} con {len(batch)} chunks...\")"
   ]
  },
  {
   "cell_type": "code",
   "execution_count": 14,
   "id": "29f7b265-0b9d-45b6-b3fe-d7f0cd08041f",
   "metadata": {},
   "outputs": [],
   "source": [
    "retriever = vectorstore.as_retriever()"
   ]
  },
  {
   "cell_type": "markdown",
   "id": "0928ee88-95c5-4821-b983-dd73cfa317ef",
   "metadata": {},
   "source": [
    "### 2. Creamos una retriever **tool** usando LangChain's prebuilt create_retriever_tool:"
   ]
  },
  {
   "cell_type": "code",
   "execution_count": 18,
   "id": "842a33e2-4c5f-410c-8e71-2b13cf9cb588",
   "metadata": {},
   "outputs": [],
   "source": [
    "from langchain_core.tools.retriever import create_retriever_tool\n",
    "\n",
    "retriever_tool = create_retriever_tool(\n",
    "    retriever,\n",
    "    \"retrieve_blog_posts\",#nombre\n",
    "    \"Busca y devuelve info acerca de articulos de Xakata.\",#Descripcion\n",
    ")"
   ]
  },
  {
   "cell_type": "code",
   "execution_count": 19,
   "id": "2234ba21-582c-43b1-88a3-4e8113a226d4",
   "metadata": {},
   "outputs": [
    {
     "data": {
      "text/plain": [
       "'En Xataka |Los móviles con mejores cámaras que hemos analizado en los últimos meses\\n\\nLos mejores comentarios:\\n\\nVer6 comentarios\\n\\nEn Xataka hablamos de...\\n\\nVer más temas\\n\\nWebedia\\n\\nTecnología\\n\\nVideojuegos\\n\\nEntretenimiento\\n\\nGastronomía\\n\\nMotor\\n\\nEstilo de vida\\n\\nEconomía\\n\\nEdiciones Internacionales\\n\\nPartners\\n\\nDestacamos\\n\\nVer más temas\\n\\nSuscribir\\n\\nMás sitios que te gustarán\\n\\nReciente\\n\\nVer más artículos\\n\\nXatakaTV\\n\\nVer más vídeos\\n\\nImágenes | Xiaomi\\n\\nEn Xataka |Tras los móviles, los coches, los robots y la IA, llega la próxima gran avalancha tecnológica de China: las gafas\\n\\n\\n\\nLos mejores comentarios:\\n\\nVer4 comentarios\\n\\nEn Xataka hablamos de...\\n\\nVer más temas\\n\\nWebedia\\n\\nTecnología\\n\\nVideojuegos\\n\\nEntretenimiento\\n\\nGastronomía\\n\\nMotor\\n\\nEstilo de vida\\n\\nEconomía\\n\\nEdiciones Internacionales\\n\\nPartners\\n\\nDestacamos\\n\\nVer más temas\\n\\nSuscribir\\n\\nMás sitios que te gustarán\\n\\nReciente\\n\\nVer más artículos\\n\\nXatakaTV\\n\\nVer más vídeos\\n\\nImágenes | Xataka\\n\\nEn Xataka |Las últimas teles de Huawei incorporan el chip de su móvil más premium: es la mejor idea para que no acaben siendo lentas\\n\\nLos mejores comentarios:\\n\\nVer0 comentarios\\n\\nEn Xataka hablamos de...\\n\\nVer más temas\\n\\nWebedia\\n\\nTecnología\\n\\nVideojuegos\\n\\nEntretenimiento\\n\\nGastronomía\\n\\nMotor\\n\\nEstilo de vida\\n\\nEconomía\\n\\nEdiciones Internacionales\\n\\nPartners\\n\\nDestacamos\\n\\nVer más temas\\n\\nSuscribir\\n\\nMás sitios que te gustarán\\n\\nReciente\\n\\nVer más artículos\\n\\nXatakaTV\\n\\nVer más vídeos\\n\\nImagen de portada |He Junhui\\n\\nEn Xataka |Desde hace años tengo en mi teléfono un \"modo vacaciones\": así lo configuro para que no me molesten\\n\\nLos mejores comentarios:\\n\\nVer8 comentarios\\n\\nEn Xataka hablamos de...\\n\\nVer más temas\\n\\nWebedia\\n\\nTecnología\\n\\nVideojuegos\\n\\nEntretenimiento\\n\\nGastronomía\\n\\nMotor\\n\\nEstilo de vida\\n\\nEconomía\\n\\nEdiciones Internacionales\\n\\nPartners\\n\\nDestacamos\\n\\nVer más temas\\n\\nSuscribir\\n\\nMás sitios que te gustarán\\n\\nReciente\\n\\nVer más artículos\\n\\nXatakaTV\\n\\nVer más vídeos'"
      ]
     },
     "execution_count": 19,
     "metadata": {},
     "output_type": "execute_result"
    }
   ],
   "source": [
    "retriever_tool.invoke({\"query\": \"Lanzamiento del El Honor Magic V5\"})"
   ]
  },
  {
   "cell_type": "markdown",
   "id": "52e47a1b-f704-4722-8048-beff47b7b1c2",
   "metadata": {},
   "source": [
    "### 3. Test the tool"
   ]
  },
  {
   "cell_type": "markdown",
   "id": "bec19045-f941-4dc3-8b16-4bc80aadf320",
   "metadata": {},
   "source": [
    "## 3. Generamos la Query.\n",
    "Ahora comenzaremos a construir los componentes (nodos y aristas) para nuestro grafo agentic RAG. Ten en cuenta que los componentes operarán sobre el MessagesState — el estado del grafo que contiene una clave messages con una lista de mensajes de chat."
   ]
  },
  {
   "cell_type": "markdown",
   "id": "0821d4e7-e27a-402b-8487-cd106f2daff7",
   "metadata": {},
   "source": [
    "### 1.Construir un **nodo genera_query_o_responde**. Este llamará a un LLM para generar una respuesta basada en el estado actual del grafo (lista de mensajes). Dado el conjunto de mensajes de entrada, decidirá si recuperar información usando la herramienta de recuperación (retriever tool), o responder directamente al usuario. Ten en cuenta que le estamos dando acceso al modelo conversacional a la herramienta de recuperación que creamos antes, a través de .bind_tools:"
   ]
  },
  {
   "cell_type": "code",
   "execution_count": 20,
   "id": "eb39dacb-e40f-43cf-b6a5-0dd7d8e27815",
   "metadata": {},
   "outputs": [],
   "source": [
    "from langgraph.graph import MessagesState\n",
    "from langchain_google_genai import ChatGoogleGenerativeAI\n",
    "\n",
    "# response_model=  ChatOpenAI(model=\"gpt-4o\", temperature=0) # <-- ELIMINAR ESTA LÍNEA\n",
    "\n",
    "response_model = ChatGoogleGenerativeAI(model=\"gemini-2.5-flash\")\n",
    "\n",
    "def genera_query_o_responde(state: MessagesState):\n",
    "    \"\"\"Llama al modelo para generar una respuesta basada en el estado actual.\n",
    "      Dada la pregunta, decidirá si recupera información usando la herramienta de recuperación o simplemente responde al usuario.\"\"\"\n",
    "    response = (\n",
    "        response_model\n",
    "        .bind_tools(tools=[retriever_tool]).invoke(state[\"messages\"])\n",
    "    )\n",
    "    return {\"messages\": [response]}\n",
    "\n"
   ]
  },
  {
   "cell_type": "markdown",
   "id": "6a2b709f-9520-4d12-81a6-cf718cfc1097",
   "metadata": {},
   "source": [
    "### 2. Lo probamos con una pregunta aleatoria que no tenga que ver con la info obtenida"
   ]
  },
  {
   "cell_type": "code",
   "execution_count": 21,
   "id": "4f46c2e3-9328-4358-9d6b-b07fdc76dc32",
   "metadata": {},
   "outputs": [
    {
     "name": "stdout",
     "output_type": "stream",
     "text": [
      "{'messages': [AIMessage(content=[{'type': 'text', 'text': 'Lo siento, no puedo darte el precio de una cortina. Mi función es buscar información en artículos de Xataka.', 'extras': {'signature': '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'}}], additional_kwargs={}, response_metadata={'prompt_feedback': {'block_reason': 0, 'safety_ratings': []}, 'finish_reason': 'STOP', 'model_name': 'gemini-2.5-flash', 'safety_ratings': [], 'grounding_metadata': {}, 'model_provider': 'google_genai'}, id='lc_run--f8ea9673-e903-4199-b03e-06208dfbf1df-0', usage_metadata={'input_tokens': 61, 'output_tokens': 445, 'total_tokens': 506, 'input_token_details': {'cache_read': 0}, 'output_token_details': {'reasoning': 420}})]}\n"
     ]
    }
   ],
   "source": [
    "input = {\"messages\": [{\"role\": \"user\", \"content\": \"¿Cuanto vale una cortina?\"}]}\n",
    "respuesta= genera_query_o_responde(input)\n",
    "print (respuesta)"
   ]
  },
  {
   "cell_type": "code",
   "execution_count": 22,
   "id": "c65c2f6a-4a90-41c3-ba4f-3e798114961c",
   "metadata": {},
   "outputs": [
    {
     "data": {
      "text/plain": [
       "AIMessage(content=[{'type': 'text', 'text': 'Lo siento, no puedo darte el precio de una cortina. Mi función es buscar información en artículos de Xataka.', 'extras': {'signature': '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'}}], additional_kwargs={}, response_metadata={'prompt_feedback': {'block_reason': 0, 'safety_ratings': []}, 'finish_reason': 'STOP', 'model_name': 'gemini-2.5-flash', 'safety_ratings': [], 'grounding_metadata': {}, 'model_provider': 'google_genai'}, id='lc_run--f8ea9673-e903-4199-b03e-06208dfbf1df-0', usage_metadata={'input_tokens': 61, 'output_tokens': 445, 'total_tokens': 506, 'input_token_details': {'cache_read': 0}, 'output_token_details': {'reasoning': 420}})"
      ]
     },
     "execution_count": 22,
     "metadata": {},
     "output_type": "execute_result"
    }
   ],
   "source": [
    "#cogemos el ultimo mensaje\n",
    "respuesta[\"messages\"][-1]"
   ]
  },
  {
   "cell_type": "code",
   "execution_count": 23,
   "id": "0023622b-ad13-47e9-b94a-a57ee7c59ad6",
   "metadata": {},
   "outputs": [
    {
     "name": "stdout",
     "output_type": "stream",
     "text": [
      "==================================\u001b[1m Ai Message \u001b[0m==================================\n",
      "\n",
      "[{'type': 'text', 'text': 'Lo siento, no puedo darte el precio de una cortina. Mi función es buscar información en artículos de Xataka.', 'extras': {'signature': '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'}}]\n"
     ]
    }
   ],
   "source": [
    "#Formateamos el mensaje\n",
    "respuesta[\"messages\"][-1].pretty_print()"
   ]
  },
  {
   "cell_type": "markdown",
   "id": "4a83c472-b2cf-4946-ae4e-1d0d6b240e25",
   "metadata": {},
   "source": [
    "### 3. Hacer una pregunta que requiera búsqueda semántica"
   ]
  },
  {
   "cell_type": "code",
   "execution_count": 40,
   "id": "0f0381b9-4368-4419-adc2-55bce98888f2",
   "metadata": {},
   "outputs": [
    {
     "name": "stdout",
     "output_type": "stream",
     "text": [
      "==================================\u001b[1m Ai Message \u001b[0m==================================\n",
      "Tool Calls:\n",
      "  retrieve_blog_posts (02ddb339-632d-4ddb-8125-7641d9b36fe5)\n",
      " Call ID: 02ddb339-632d-4ddb-8125-7641d9b36fe5\n",
      "  Args:\n",
      "    query: Lanzamiento del Nubia Z80 Ultra\n"
     ]
    }
   ],
   "source": [
    "input = {\n",
    "    \"messages\": [\n",
    "        {\n",
    "            \"role\": \"user\",\n",
    "            \"content\": \"Lanzamiento del Nubia Z80 Ultra\",\n",
    "        }\n",
    "    ]\n",
    "}\n",
    "genera_query_o_responde(input)[\"messages\"][-1].pretty_print()"
   ]
  },
  {
   "cell_type": "markdown",
   "id": "0c3e2487-e6f4-4680-8645-f79e98090868",
   "metadata": {},
   "source": [
    "## 4. Vemos la relevanciade los documentos"
   ]
  },
  {
   "cell_type": "markdown",
   "id": "6eaf0e56-157f-47b2-a9cb-0a82275d3f35",
   "metadata": {},
   "source": [
    "###  1.  Añade una arista condicional —grade_documents— para determinar si los documentos recuperados son relevantes para la pregunta. <span style=\"color:red\">Utilizaremos un modelo con un esquema de salida estructurado llamado GradeDocuments</span> para la calificación de documentos. La función grade_documents devolverá el nombre del nodo al que se debe ir según la decisión de calificación (genera respuesta o reescribe_pregunta):"
   ]
  },
  {
   "cell_type": "markdown",
   "id": "d519b98b-f217-481f-8ec6-6d00a3c36146",
   "metadata": {},
   "source": [
    "Conceptos a recordar: \n",
    "* <span style=\"color:red\">arista condicional</span>"
   ]
  },
  {
   "cell_type": "code",
   "execution_count": 25,
   "id": "c065a8fb-55af-4a05-be00-b20f254b2b74",
   "metadata": {},
   "outputs": [],
   "source": [
    "from pydantic import BaseModel, Field\n",
    "from typing import Literal\n",
    "# Importamos la clase del modelo de chat de Gemini\n",
    "from langchain_google_genai import ChatGoogleGenerativeAI\n",
    "\n",
    "\n",
    "GRADE_PROMPT = (\n",
    "    \"Eres un evaluador que determina la relevancia de un documento recuperado respecto a una pregunta del usuario. \\\\n \"\n",
    "    \"Aquí tienes el documento recuperado: \\\\n\\\\n {context} \\\\n\\\\n\"\n",
    "    \"Aquí tienes la pregunta del usuario: {question} \\\\n\"\n",
    "    \"Si el documento contiene palabra(s) clave o significado semántico relacionado con la pregunta del usuario, califícalo como relevante. \\\\n\"\n",
    "    \"Da una puntuación binaria 'si' o 'no' para indicar si el documento es relevante para la pregunta.\"\n",
    "\n",
    ")\n",
    "\n",
    "\n",
    "class GradeDocuments(BaseModel):\n",
    "    \"\"\"Califica los documentos utilizando una puntuación binaria para comprobar su relevancia\"\"\"\n",
    "\n",
    "    binary_score: str = Field(\n",
    "        description=\"Puntuación : 'si' si es relevante, o 'no' si no lo es\"\n",
    "    )\n",
    "# AHORA (LA FORMA CORRECTA):\n",
    "grader_model = ChatGoogleGenerativeAI(model=\"gemini-2.5-flash\", temperature=0)\n",
    "\n",
    "def grade_documents(\n",
    "    state: MessagesState,\n",
    ") -> Literal[\"genera_respuesta\", \"rescribir_question\"]:\n",
    "    \"\"\"Determina si los documentos recuperados son relevantes para la pregunta.\"\"\"\n",
    "    question = state[\"messages\"][0].content\n",
    "    # El último mensaje es la salida de la herramienta (tool)\n",
    "    context = state[\"messages\"][-1].content\n",
    "    prompt = GRADE_PROMPT.format(question=question, context=context)\n",
    "    response = (\n",
    "        grader_model\n",
    "        .with_structured_output(GradeDocuments).invoke(\n",
    "            [{\"role\": \"user\", \"content\": prompt}]\n",
    "        )\n",
    "    )\n",
    "    score = response.binary_score\n",
    "    print (\"score :\", score)\n",
    "    if score == \"si\":\n",
    "        return \"genera_respuesta\"\n",
    "    else:\n",
    "        return \"rescribir_question\""
   ]
  },
  {
   "cell_type": "markdown",
   "id": "7660ef1b-4039-4b24-a6a0-66df39340a88",
   "metadata": {},
   "source": [
    "### 2. Ejecutar con una respuesta irrelevante en la respuesta de la tool :"
   ]
  },
  {
   "cell_type": "code",
   "execution_count": 41,
   "id": "4f786fb1-0b31-46dc-be4a-ae8900bcaae1",
   "metadata": {},
   "outputs": [
    {
     "name": "stdout",
     "output_type": "stream",
     "text": [
      "input: {'messages': [HumanMessage(content='¿Que tiempo hace en Alicante?', additional_kwargs={}, response_metadata={}), AIMessage(content='', additional_kwargs={}, response_metadata={}, tool_calls=[{'name': 'retrieve_blog_posts', 'args': {'query': 'Tiempo en Alicante'}, 'id': '1', 'type': 'tool_call'}]), ToolMessage(content='Son las 10 de la mañana', tool_call_id='1')]}\n",
      "score : no\n"
     ]
    },
    {
     "data": {
      "text/plain": [
       "'rescribir_question'"
      ]
     },
     "execution_count": 41,
     "metadata": {},
     "output_type": "execute_result"
    }
   ],
   "source": [
    "#simulamos la respuesta de la tool mediante mensajes\n",
    "from langchain_core.messages import convert_to_messages\n",
    "\n",
    "input = {\n",
    "    \"messages\": convert_to_messages(\n",
    "        [\n",
    "            {\n",
    "                \"role\": \"user\",\n",
    "                \"content\": \"¿Que tiempo hace en Alicante?\",\n",
    "            },\n",
    "            {\n",
    "                \"role\": \"assistant\",\n",
    "                \"content\": \"\",\n",
    "                \"tool_calls\": [\n",
    "                    {\n",
    "                        \"id\": \"1\",\n",
    "                        \"name\": \"retrieve_blog_posts\",\n",
    "                        \"args\": {\"query\": \"Tiempo en Alicante\"},\n",
    "                    }\n",
    "                ],\n",
    "            },\n",
    "            {\"role\": \"tool\", \"content\": \"Son las 10 de la mañana\", \"tool_call_id\": \"1\"},\n",
    "        ]\n",
    "    )\n",
    "}\n",
    "\n",
    "print (\"input:\" , input)\n",
    "grade_documents(input)"
   ]
  },
  {
   "cell_type": "markdown",
   "id": "ef00e6c6-ed32-40ef-85fe-26c892ef6b14",
   "metadata": {},
   "source": [
    "### 3. Confirmar que el documento/respuesta relavante se  clasifica como tal:"
   ]
  },
  {
   "cell_type": "code",
   "execution_count": 42,
   "id": "545cd228-89d8-45b2-8fe6-dc7f36469f4a",
   "metadata": {
    "editable": true,
    "slideshow": {
     "slide_type": ""
    },
    "tags": []
   },
   "outputs": [
    {
     "name": "stdout",
     "output_type": "stream",
     "text": [
      "score : si\n"
     ]
    },
    {
     "data": {
      "text/plain": [
       "'genera_respuesta'"
      ]
     },
     "execution_count": 42,
     "metadata": {},
     "output_type": "execute_result"
    }
   ],
   "source": [
    "input = {\n",
    "    \"messages\": convert_to_messages(\n",
    "        [\n",
    "            {\n",
    "                \"role\": \"user\",\n",
    "                \"content\": \"¿Cómo Samsung a adelanto Google?\",\n",
    "            },\n",
    "            {\n",
    "                \"role\": \"assistant\",\n",
    "                \"content\": \"\",\n",
    "                \"tool_calls\": [\n",
    "                    {\n",
    "                        \"id\": \"1\",\n",
    "                        \"name\": \"retrieve_blog_posts\",\n",
    "                        \"args\": {\"query\": \"¿Cómo Samsung a adelanto Google?\"},\n",
    "                    }\n",
    "                ],\n",
    "            },\n",
    "            {\n",
    "                \"role\": \"tool\",\n",
    "                \"content\": \"Samsung fue la primera en lograr algo insólito: adelantar a Google en política de actualizaciones. El fabricante ofrecesiete años de actualizaciones de sistemay otros siete años de parches de seguridad.\",\n",
    "                \"tool_call_id\": \"1\",\n",
    "            },\n",
    "        ]\n",
    "    )\n",
    "}\n",
    "grade_documents(input)"
   ]
  },
  {
   "cell_type": "markdown",
   "id": "4d24341d-52db-4cfa-a60a-2cf6006108ac",
   "metadata": {},
   "source": [
    "## 5 Rescribir la pregunta."
   ]
  },
  {
   "cell_type": "markdown",
   "id": "dbb00a92-72de-40de-89c2-47776e384e9d",
   "metadata": {
    "editable": true,
    "slideshow": {
     "slide_type": ""
    },
    "tags": []
   },
   "source": [
    "### 1. Construye el nodo de reescritura de pregunta (rescribir_question).\n",
    "La herramienta de recuperación puede devolver documentos potencialmente irrelevantes, lo que indica la necesidad de mejorar la pregunta original del usuario. Para ello, llamaremos al nodo rewrite_question."
   ]
  },
  {
   "cell_type": "code",
   "execution_count": null,
   "id": "56c60a37-5f8b-4734-b398-62f83d0b313c",
   "metadata": {},
   "outputs": [],
   "source": [
    "REWRITE_PROMPT = (\n",
    "    \"Analiza detenidamente la siguiente pregunta e intenta comprender la intención o el significado profundo que transmite.\\n\"\n",
    "    \"Pregunta original:\"\n",
    "    \"\\n ------- \\n\"\n",
    "    \"{question}\"\n",
    "    \"\\n ------- \\n\"\n",
    "    \"Ahora, reescribe la pregunta para que sea más clara, precisa y fácil de entender:\"\n",
    ")\n",
    "\n",
    "\n",
    "def rescribir_question(state: MessagesState):\n",
    "    \"\"\"Rescribe/Mejora la pregunta original del usuario.\"\"\"\n",
    "    messages = state[\"messages\"]\n",
    "    question = messages[0].content\n",
    "    prompt = REWRITE_PROMPT.format(question=question)\n",
    "    print (\"Prompt\",prompt)\n",
    "    response = response_model.invoke([{\"role\": \"user\", \"content\": prompt}])\n",
    "    return {\"messages\": [{\"role\": \"user\", \"content\": response.content}]}"
   ]
  },
  {
   "cell_type": "markdown",
   "id": "cb979386-c111-425c-b1f4-8c97647a2484",
   "metadata": {},
   "source": [
    "#### 2. Try it out:"
   ]
  },
  {
   "cell_type": "code",
   "execution_count": 43,
   "id": "42fb401c-cb47-4721-9adc-1846df2b343d",
   "metadata": {},
   "outputs": [
    {
     "name": "stdout",
     "output_type": "stream",
     "text": [
      "xavi Prompt Analiza detenidamente la siguiente pregunta e intenta comprender la intención o el significado profundo que transmite.\n",
      "Pregunta original:\n",
      " ------- \n",
      "Dame informacion sobre el Nubia Z80 Ultra\n",
      " ------- \n",
      "Ahora, reescribe la pregunta para que sea más clara, precisa y fácil de entender:\n",
      "La intención profunda de la pregunta es obtener un panorama completo y relevante sobre un dispositivo móvil específico, asumiendo su existencia. El usuario no solo quiere \"información\" genérica, sino detalles que le permitan entender qué es el Nubia Z80 Ultra, qué ofrece y cuál es su estado actual en el mercado o en el ciclo de noticias tecnológicas. También hay una intención implícita de verificar si dicho modelo existe o es un rumor.\n",
      "\n",
      "Aquí tienes la pregunta reescrita para ser más clara, precisa y fácil de entender:\n",
      "\n",
      "**Pregunta reescrita:**\n",
      "\n",
      "\"Me gustaría obtener información detallada sobre el dispositivo móvil Nubia Z80 Ultra. ¿Podrías proporcionarme sus características principales, especificaciones técnicas (como procesador, cámara, pantalla, batería), su posible fecha de lanzamiento, precio estimado y disponibilidad actual? Si aún no ha sido anunciado oficialmente, ¿hay rumores o filtraciones fiables al respecto?\"\n"
     ]
    }
   ],
   "source": [
    "input = {\n",
    "    \"messages\": convert_to_messages(\n",
    "        [\n",
    "            {\n",
    "                \"role\": \"user\",\n",
    "                \"content\": \"Dame informacion sobre el Nubia Z80 Ultra\",\n",
    "            },\n",
    "            {\n",
    "                \"role\": \"assistant\",\n",
    "                \"content\": \"\",\n",
    "                \"tool_calls\": [\n",
    "                    {\n",
    "                        \"id\": \"1\",\n",
    "                        \"name\": \"retrieve_blog_posts\",\n",
    "                        \"args\": {\"query\": \"Dame informacion sobre el Nubia Z80 Ultra\"},\n",
    "                    }\n",
    "                ],\n",
    "            },\n",
    "            {\"role\": \"tool\", \"content\": \"Son las 10 de la mañana\", \"tool_call_id\": \"1\"},\n",
    "        ]\n",
    "    )\n",
    "}\n",
    "\n",
    "response = rescribir_question(input)\n",
    "print(response[\"messages\"][-1][\"content\"])"
   ]
  },
  {
   "cell_type": "markdown",
   "id": "1e59a276-ab18-4e0c-8529-b44f281691a8",
   "metadata": {},
   "source": [
    "## 6. Generamos la Respuesta.\n",
    "\n",
    "### 1. Construimos el nodo generate_answer.\n",
    "Si superamos las comprobaciones del evaluador (grader), podemos generar la respuesta final basándonos en la pregunta original y el contexto recuperado"
   ]
  },
  {
   "cell_type": "code",
   "execution_count": 45,
   "id": "27ba8a6c-46ec-4e39-9744-c4d07e24ee7a",
   "metadata": {},
   "outputs": [],
   "source": [
    "GENERATE_PROMPT = (\n",
    "    \"Eres un asistente para tareas de preguntas y respuestas. \"\n",
    "    \"Utiliza los siguientes fragmentos de contexto recuperado para responder a la pregunta. \"\n",
    "    \"Si no sabes la respuesta, simplemente indica que no la sabes. \"\n",
    "    \"Utiliza un máximo de tres frases y mantén la respuesta concisa.\\n\"\n",
    "    \"Pregunta: {question} \\n\"\n",
    "    \"Contexto: {context}\"\n",
    ")\n",
    "\n",
    "\n",
    "\n",
    "def genera_respuesta(state: MessagesState):\n",
    "    \"\"\"Genera la respuesta.\"\"\"\n",
    "    question = state[\"messages\"][0].content\n",
    "    context = state[\"messages\"][-1].content\n",
    "    prompt = GENERATE_PROMPT.format(question=question, context=context)\n",
    "    response = response_model.invoke([{\"role\": \"user\", \"content\": prompt}])\n",
    "    return {\"messages\": [response]}"
   ]
  },
  {
   "cell_type": "markdown",
   "id": "bbe5d0e6-c4e9-47e8-83b7-6832b643da3e",
   "metadata": {},
   "source": [
    "### 2. Try it out."
   ]
  },
  {
   "cell_type": "code",
   "execution_count": 46,
   "id": "8e609524-dac0-437d-9511-50c88d79fee5",
   "metadata": {},
   "outputs": [
    {
     "name": "stdout",
     "output_type": "stream",
     "text": [
      "==================================\u001b[1m Ai Message \u001b[0m==================================\n",
      "\n",
      "El Honor Magic V5 es un smartphone que destaca por su formato singular y la integración de IA, con Google Gemini como parte fundamental de su experiencia de usuario. Cuenta con buenas especificaciones y apuesta por la ventaja de tener dos pantallas.\n"
     ]
    }
   ],
   "source": [
    "input = {\n",
    "    \"messages\": convert_to_messages(\n",
    "        [\n",
    "            {\n",
    "                \"role\": \"user\",\n",
    "                \"content\": \"Dame informacion sobre Honor Magic V5\",\n",
    "            },\n",
    "            {\n",
    "                \"role\": \"assistant\",\n",
    "                \"content\": \"\",\n",
    "                \"tool_calls\": [\n",
    "                    {\n",
    "                        \"id\": \"1\",\n",
    "                        \"name\": \"retrieve_blog_posts\",\n",
    "                        \"args\": {\"query\": \"Dame informacion sobre Honor Magic V5\"},\n",
    "                    }\n",
    "                ],\n",
    "            },\n",
    "            {\n",
    "                \"role\": \"tool\",\n",
    "                \"content\": \"Honor Magic V5, un smartphone que apuesta por este singular formato pero lo hace con un componente cada vez más relevante: la IA.\\n\\nAsí, Google Gemini se convierte en parte fundamental de la experiencia de uso de un terminal que viene repleto de buenas especificaciones para convencernos de algo que debería ser obvio: dos pantallas son mejor que una.\",\n",
    "                \"tool_call_id\": \"1\",\n",
    "            },\n",
    "        ]\n",
    "    )\n",
    "}\n",
    "\n",
    "response = genera_respuesta(input)\n",
    "response[\"messages\"][-1].pretty_print()"
   ]
  },
  {
   "cell_type": "markdown",
   "id": "368e1756-8efd-4ddf-a95b-0b309a87df57",
   "metadata": {},
   "source": [
    "## 7. Configurar el grafo"
   ]
  },
  {
   "cell_type": "markdown",
   "id": "cb908205-eec8-4e55-9380-f0c3af9e1a26",
   "metadata": {},
   "source": [
    "### 7.1 Importamos los elementos necesarios para construir el grafo"
   ]
  },
  {
   "cell_type": "code",
   "execution_count": 32,
   "id": "fa0852a9-1e82-47a3-baa8-484467b6436a",
   "metadata": {},
   "outputs": [],
   "source": [
    "from langgraph.graph import StateGraph, START, END\n",
    "from langgraph.prebuilt import ToolNode\n",
    "from langgraph.prebuilt import tools_condition"
   ]
  },
  {
   "cell_type": "markdown",
   "id": "aa02ca32-0dc9-4b1d-b4b7-0b237939fa4d",
   "metadata": {},
   "source": [
    "### 7.2 Ensamblamos el workflow"
   ]
  },
  {
   "cell_type": "markdown",
   "id": "e858e4b2-ae31-4fee-bbfb-df336f35fff8",
   "metadata": {},
   "source": [
    "#### 7.2.1 Añadimos los nodos"
   ]
  },
  {
   "cell_type": "code",
   "execution_count": 33,
   "id": "1af90597-d90b-437e-9dae-9b9827b9d828",
   "metadata": {},
   "outputs": [
    {
     "data": {
      "text/plain": [
       "<langgraph.graph.state.StateGraph at 0x2bee8525a90>"
      ]
     },
     "execution_count": 33,
     "metadata": {},
     "output_type": "execute_result"
    }
   ],
   "source": [
    "workflow = StateGraph(MessagesState)\n",
    "workflow.add_node(genera_query_o_responde)\n",
    "workflow.add_node(\"retrieve\", ToolNode([retriever_tool]))\n",
    "workflow.add_node(rescribir_question)\n",
    "workflow.add_node(genera_respuesta)"
   ]
  },
  {
   "cell_type": "markdown",
   "id": "ef39b135-e13e-45eb-9f04-11c6f81d2d48",
   "metadata": {},
   "source": [
    "#### 7.2.2 Añadimos las aristas"
   ]
  },
  {
   "cell_type": "code",
   "execution_count": 34,
   "id": "71734362-d351-496d-89cd-d27ce9871075",
   "metadata": {},
   "outputs": [
    {
     "data": {
      "text/plain": [
       "<langgraph.graph.state.StateGraph at 0x2bee8525a90>"
      ]
     },
     "execution_count": 34,
     "metadata": {},
     "output_type": "execute_result"
    }
   ],
   "source": [
    "workflow.add_edge(START, \"genera_query_o_responde\")\n",
    "workflow.add_conditional_edges(\n",
    "    \"genera_query_o_responde\",\n",
    "    # Evalúa la decisión del LLM (llama a la herramienta retriever_tool o responde al usuario)\n",
    "    tools_condition,\n",
    "    {\n",
    "        # Translate the condition outputs to nodes in our graph\n",
    "        \"tools\": \"retrieve\",\n",
    "        END: END,\n",
    "    },\n",
    ")\n",
    "\n",
    "#\n",
    "workflow.add_conditional_edges(\n",
    "    \"retrieve\",\n",
    "    # Assess agent decision\n",
    "    grade_documents,\n",
    ")\n",
    "\n",
    "workflow.add_edge(\"genera_respuesta\", END)\n",
    "\n",
    "workflow.add_edge(\"rescribir_question\", \"genera_query_o_responde\")"
   ]
  },
  {
   "cell_type": "markdown",
   "id": "fde9edf8-9932-41a6-a862-b306d49391cd",
   "metadata": {},
   "source": [
    "#### 7.2.3 Compilamos el grafo"
   ]
  },
  {
   "cell_type": "code",
   "execution_count": 35,
   "id": "b0f1658c-d134-4fa8-b2d5-b7103cf42c25",
   "metadata": {},
   "outputs": [],
   "source": [
    "graph = workflow.compile()"
   ]
  },
  {
   "cell_type": "markdown",
   "id": "5c5ba68f-d54e-4dbb-a058-8a3d4675de30",
   "metadata": {},
   "source": [
    "#### 7.2.4 Pintamos el Grafo"
   ]
  },
  {
   "cell_type": "code",
   "execution_count": 36,
   "id": "4eb0c3e1-27a0-42ed-9e46-3ab678c123e3",
   "metadata": {},
   "outputs": [
    {
     "data": {
      "image/png": "[encoded data removed]",
      "text/plain": [
       "<IPython.core.display.Image object>"
      ]
     },
     "metadata": {},
     "output_type": "display_data"
    }
   ],
   "source": [
    "from IPython.display import Image, display\n",
    "\n",
    "display(Image(graph.get_graph().draw_mermaid_png()))\n"
   ]
  },
  {
   "cell_type": "markdown",
   "id": "4f389509-154f-4ebe-826d-68af2075b6f4",
   "metadata": {},
   "source": [
    "### NOtas"
   ]
  },
  {
   "cell_type": "code",
   "execution_count": 47,
   "id": "f9960d5b-e5fc-4db4-846d-a587280b6cac",
   "metadata": {},
   "outputs": [
    {
     "name": "stdout",
     "output_type": "stream",
     "text": [
      "📘 Update from node: genera_query_o_responde\n",
      "----------------------------------------\n",
      "📝 Contenido desde objeto:\n",
      "\n",
      "----------------------------------------\n",
      "\n",
      "score : si\n",
      "📘 Update from node: retrieve\n",
      "----------------------------------------\n",
      "📝 Contenido desde objeto:\n",
      "nubia z80 ultra\n",
      "\n",
      "DIMEnsiones y peso\n",
      "\n",
      "164,5 x 77,2 x 8,6 mm\n",
      "\n",
      "227 gramos\n",
      "\n",
      "pantalla\n",
      "\n",
      "OLED de 6,85 pulgadas\n",
      "\n",
      "Resolución FullHD+ (2.688 x 1.216 píxeles)\n",
      "\n",
      "144 Hz\n",
      "\n",
      "2.000 nits\n",
      "\n",
      "Sin notch\n",
      "\n",
      "procesador\n",
      "\n",
      "Qualcomm Snapdragon 8 Elite Gen5\n",
      "\n",
      "memoria ram\n",
      "\n",
      "12/16 GB LPDDR5x\n",
      "\n",
      "almacenamiento interno\n",
      "\n",
      "256/512GB/1TB\n",
      "\n",
      "UFS 4.1\n",
      "\n",
      "cámaraS traseraS\n",
      "\n",
      "Principal: 50MP, 1/1.3\", 35mm, OIS, f/1.7, OV50H\n",
      "\n",
      "Ultra angular: 50MP, 1/1.55\", 18mm, f/1.8, AF, Macro 5.5cm, OV50E\n",
      "\n",
      "Telefoto: 64MP, 70mm, f/2.48, OIS, OV64B\n",
      "\n",
      "cámara delantera\n",
      "\n",
      "16 MP\n",
      "\n",
      "batería\n",
      "\n",
      "7.200 mAh\n",
      "\n",
      "Carga rápida 80W (con cable e inaámbrica)\n",
      "\n",
      "sistema operativo\n",
      "\n",
      "Nebula AI OS 2.0\n",
      "\n",
      "Android 16\n",
      "\n",
      "conectividad\n",
      "\n",
      "5G, WiFi 7, Bluetooth 5.4, GPS L1+L2+L5, NFC\n",
      "\n",
      "USB tipo C\n",
      "\n",
      "otros\n",
      "\n",
      "Cámara bajo la pantalla\n",
      "\n",
      "Lector de huellas bajo la pantalla\n",
      "\n",
      "Desbloqueo facial\n",
      "\n",
      "DTS:X Ultra\n",
      "\n",
      "Botón de cámara\n",
      "\n",
      "Inteligencia artificial\n",
      "\n",
      "Resistencia al agua IP68, IP69\n",
      "\n",
      "precio\n",
      "\n",
      "Por confirmar\n",
      "\n",
      "Amparo Babiloni\n",
      "\n",
      "Amparo Babiloni\n",
      "\n",
      "Nubia no falla a su cita anual y acaba de anunciar su nuevo gama alta, el Nubia Z80 Ultra. La filial de ZTE sigue los pasos delNubia Z70 Ultray apuesta por una hoja técnica a la que prácticamente no le caben características más punteras. Además, este año se suben al carro delos móviles fotográficosconun kit que lo transforma en una cámara retro. Veamos todo lo que ofrece.Ficha técnica del Nubia Z80 Ultra\n",
      "\n",
      "Nubia no falla a su cita anual y acaba de anunciar su nuevo gama alta, el Nubia Z80 Ultra. La filial de ZTE sigue los pasos delNubia Z70 Ultray apuesta por una hoja técnica a la que prácticamente no le caben características más punteras. Además, este año se suben al carro delos móviles fotográficosconun kit que lo transforma en una cámara retro. Veamos todo lo que ofrece.\n",
      "\n",
      "\n",
      "\n",
      "nubia z80 ultra\n",
      "\n",
      "DIMEnsiones y peso\n",
      "\n",
      "164,5 x 77,2 x 8,6 mm\n",
      "\n",
      "227 gramos\n",
      "\n",
      "pantalla\n",
      "\n",
      "OLED de 6,85 pulgadas\n",
      "\n",
      "Resolución FullHD+ (2.688 x 1.216 píxeles)\n",
      "\n",
      "144 Hz\n",
      "\n",
      "2.000 nits\n",
      "\n",
      "Sin notch\n",
      "\n",
      "procesador\n",
      "\n",
      "Qualcomm Snapdragon 8 Elite Gen5\n",
      "\n",
      "memoria ram\n",
      "\n",
      "12/16 GB LPDDR5x\n",
      "\n",
      "almacenamiento interno\n",
      "\n",
      "256/512GB/1TB\n",
      "\n",
      "UFS 4.1\n",
      "\n",
      "cámaraS traseraS\n",
      "\n",
      "Hablando de cámaras, el Nubia Z80 Ultra viene conun kit fotográfico que se vende por separadoy consta de una carcasa a la que podemos acoplarle un teleobjetivo externo. La carcasa cuenta con controles en la parte superior que lo convierten casi en una cámara compacta. Del teleobjetivo no han dado detalles, pero recuerda mucho al del Vivo X300.\n",
      "\n",
      "Bajo el capó del Nubia Z80 Ultra nos encontramos con elSnapdragon 8 Elite Gen 5que Qualcomm anunció hace apenas un mes. Además del chip más avanzado, también cuenta con 12 o 16 GB de RAM LPDDR5X y almacenamiento hasta 1TB UFS4.1. Sale de serie con la capaNebula AI OS 2.0 basada en Android 16.\n",
      "\n",
      "Para la batería, sorprende que el nuevo modelo comparte casi las mismas dimensiones y peso que el anterior, pero su batería es mucho más grande. Son7.200 miliamperiosy carga rápida de 80W, tanto si usamos cable como cargador inalámbrico.Versiones y precios del Nubia Z80 Ultra\n",
      "\n",
      "Para la batería, sorprende que el nuevo modelo comparte casi las mismas dimensiones y peso que el anterior, pero su batería es mucho más grande. Son7.200 miliamperiosy carga rápida de 80W, tanto si usamos cable como cargador inalámbrico.\n",
      "\n",
      "Los tres sensores son OmniVision. El principal, de 50 megapíxeles, es el más grande, luminoso y cuenta con estabilizador óptico. El gran angular también ofrece la misma resolución, pero el sensor es más pequeño y la lente no es tan luminosa. Por último, el teleobjetivo tiene 64 megapíxeles de resolución y también cuenta con estabilizador óptico.\n",
      "\n",
      "Hablando de cámaras, el Nubia Z80 Ultra viene conun kit fotográfico que se vende por separadoy consta de una carcasa a la que podemos acoplarle un teleobjetivo externo. La carcasa cuenta con controles en la parte superior que lo convierten casi en una cámara compacta. Del teleobjetivo no han dado detalles, pero recuerda mucho al del Vivo X300.Lo último de Qualcomm y batería para ratoBajo el capó del Nubia Z80 Ultra nos encontramos con elSnapdragon 8 Elite Gen 5que Qualcomm anunció hace apenas un mes. Además del chip más avanzado, también cuenta con 12 o 16 GB de RAM LPDDR5X y almacenamiento hasta 1TB UFS4.1. Sale de serie con la capaNebula AI OS 2.0 basada en Android 16.\n",
      "\n",
      "Hablando de cámaras, el Nubia Z80 Ultra viene conun kit fotográfico que se vende por separadoy consta de una carcasa a la que podemos acoplarle un teleobjetivo externo. La carcasa cuenta con controles en la parte superior que lo convierten casi en una cámara compacta. Del teleobjetivo no han dado detalles, pero recuerda mucho al del Vivo X300.\n",
      "----------------------------------------\n",
      "\n",
      "📘 Update from node: genera_respuesta\n",
      "----------------------------------------\n",
      "📝 Contenido desde objeto:\n",
      "El Nubia Z80 Ultra es un nuevo smartphone de gama alta que integra el procesador Qualcomm Snapdragon 8 Elite Gen5, hasta 16 GB de RAM y 1TB de almacenamiento. Cuenta con una pantalla OLED de 6.85 pulgadas a 144 Hz y una triple cámara trasera, con sensores principal y ultra angular de 50MP, y un telefoto de 64MP. Además, incorpora una batería de 7.200 mAh con carga rápida de 80W y ejecuta Nebula AI OS 2.0 basado en Android 16.\n",
      "----------------------------------------\n",
      "\n"
     ]
    }
   ],
   "source": [
    "from pprint import pprint  # para imprimir bonito\n",
    "import pdb\n",
    "\n",
    "for chunk in graph.stream(\n",
    "    {\n",
    "        \"messages\": [\n",
    "            {\n",
    "                \"role\": \"user\",\n",
    "                \"content\": \"Dame informacion sobre el Nubia Z80 Ultra\",\n",
    "            }\n",
    "        ]\n",
    "    }\n",
    "):\n",
    "    for node, update in chunk.items():\n",
    "        print(f\"📘 Update from node: {node}\")\n",
    "        print(\"-\" * 40)\n",
    "\n",
    "        messages = update.get(\"messages\", [])\n",
    "      \n",
    "        last_msg = messages[-1]\n",
    "\n",
    "        try:\n",
    "            if isinstance(last_msg, dict):\n",
    "                if \"content\" in last_msg:\n",
    "                    print(\"📝 Contenido textual:\")\n",
    "                    print(last_msg[\"content\"])\n",
    "                elif \"tool_calls\" in last_msg:\n",
    "                    print(\"🔧 Llamada a función:\")\n",
    "                    pprint(last_msg[\"tool_calls\"])\n",
    "                else:\n",
    "                    print(\"🕵️ Mensaje dict sin content/tool_calls:\")\n",
    "                    pprint(last_msg)\n",
    "            elif hasattr(last_msg, \"content\"):\n",
    "                print(\"📝 Contenido desde objeto:\")\n",
    "                print(last_msg.content)\n",
    "            else:\n",
    "                print(\"🕵️ Mensaje desconocido:\")\n",
    "                pprint(last_msg)\n",
    "\n",
    "        except Exception as e:\n",
    "            print(\"❌ Error leyendo el mensaje:\", str(e))\n",
    "            pprint(last_msg)\n",
    "\n",
    "        print(\"-\" * 40 + \"\\n\")\n",
    "\n"
   ]
  },
  {
   "cell_type": "code",
   "execution_count": 48,
   "id": "4084a5d0-6a69-4967-8240-17bff158e3b5",
   "metadata": {},
   "outputs": [],
   "source": [
    "input = {\n",
    "    \"messages\": [\n",
    "        {\n",
    "            \"role\": \"user\",\n",
    "            \"content\": \"Dame la informacion mas relevanten y resumida sobre el Nubia Z80 Ultra\",\n",
    "        }\n",
    "    ]\n",
    "}"
   ]
  },
  {
   "cell_type": "code",
   "execution_count": 49,
   "id": "bec0c099-cded-4337-aa14-10e79b5900ab",
   "metadata": {},
   "outputs": [
    {
     "name": "stdout",
     "output_type": "stream",
     "text": [
      "score : si\n",
      "==================================\u001b[1m Ai Message \u001b[0m==================================\n",
      "\n",
      "El Nubia Z80 Ultra es un nuevo gama alta que integra el procesador Qualcomm Snapdragon 8 Elite Gen5, 12/16 GB de RAM y hasta 1TB de almacenamiento. Destaca por su pantalla OLED de 6.85 pulgadas a 144 Hz sin notch, un avanzado sistema de triple cámara trasera (50MP principal, 50MP ultra-angular, 64MP teleobjetivo) y una batería de 7.200 mAh con carga rápida de 80W. Funciona con Nebula AI OS 2.0 (Android 16) y ofrece resistencia IP68/IP69, además de un kit fotográfico opcional que lo convierte en una cámara retro.\n"
     ]
    }
   ],
   "source": [
    "graph.invoke(input)[\"messages\"][-1].pretty_print()"
   ]
  }
 ],
 "metadata": {
  "kernelspec": {
   "display_name": "langchain",
   "language": "python",
   "name": "python3"
  },
  "language_info": {
   "codemirror_mode": {
    "name": "ipython",
    "version": 3
   },
   "file_extension": ".py",
   "mimetype": "text/x-python",
   "name": "python",
   "nbconvert_exporter": "python",
   "pygments_lexer": "ipython3",
   "version": "3.13.9"
  }
 },
 "nbformat": 4,
 "nbformat_minor": 5
}
